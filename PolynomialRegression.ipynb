{
 "cells": [
  {
   "cell_type": "code",
   "execution_count": 1,
   "metadata": {},
   "outputs": [],
   "source": [
    "import pandas as pd\n",
    "import numpy as np\n",
    "import seaborn as sns\n",
    "import matplotlib.pyplot as plt\n",
    "from sklearn.preprocessing import PolynomialFeatures\n",
    "\n",
    "from sklearn.metrics import mean_absolute_error, mean_squared_error"
   ]
  },
  {
   "cell_type": "code",
   "execution_count": 2,
   "metadata": {},
   "outputs": [
    {
     "data": {
      "text/html": [
       "<div>\n",
       "<style scoped>\n",
       "    .dataframe tbody tr th:only-of-type {\n",
       "        vertical-align: middle;\n",
       "    }\n",
       "\n",
       "    .dataframe tbody tr th {\n",
       "        vertical-align: top;\n",
       "    }\n",
       "\n",
       "    .dataframe thead th {\n",
       "        text-align: right;\n",
       "    }\n",
       "</style>\n",
       "<table border=\"1\" class=\"dataframe\">\n",
       "  <thead>\n",
       "    <tr style=\"text-align: right;\">\n",
       "      <th></th>\n",
       "      <th>TV</th>\n",
       "      <th>radio</th>\n",
       "      <th>newspaper</th>\n",
       "      <th>sales</th>\n",
       "    </tr>\n",
       "  </thead>\n",
       "  <tbody>\n",
       "    <tr>\n",
       "      <th>0</th>\n",
       "      <td>230.1</td>\n",
       "      <td>37.8</td>\n",
       "      <td>69.2</td>\n",
       "      <td>22.1</td>\n",
       "    </tr>\n",
       "    <tr>\n",
       "      <th>1</th>\n",
       "      <td>44.5</td>\n",
       "      <td>39.3</td>\n",
       "      <td>45.1</td>\n",
       "      <td>10.4</td>\n",
       "    </tr>\n",
       "    <tr>\n",
       "      <th>2</th>\n",
       "      <td>17.2</td>\n",
       "      <td>45.9</td>\n",
       "      <td>69.3</td>\n",
       "      <td>9.3</td>\n",
       "    </tr>\n",
       "    <tr>\n",
       "      <th>3</th>\n",
       "      <td>151.5</td>\n",
       "      <td>41.3</td>\n",
       "      <td>58.5</td>\n",
       "      <td>18.5</td>\n",
       "    </tr>\n",
       "    <tr>\n",
       "      <th>4</th>\n",
       "      <td>180.8</td>\n",
       "      <td>10.8</td>\n",
       "      <td>58.4</td>\n",
       "      <td>12.9</td>\n",
       "    </tr>\n",
       "  </tbody>\n",
       "</table>\n",
       "</div>"
      ],
      "text/plain": [
       "      TV  radio  newspaper  sales\n",
       "0  230.1   37.8       69.2   22.1\n",
       "1   44.5   39.3       45.1   10.4\n",
       "2   17.2   45.9       69.3    9.3\n",
       "3  151.5   41.3       58.5   18.5\n",
       "4  180.8   10.8       58.4   12.9"
      ]
     },
     "execution_count": 2,
     "metadata": {},
     "output_type": "execute_result"
    }
   ],
   "source": [
    "data = pd.read_csv('Advertising.csv')\n",
    "data.head()"
   ]
  },
  {
   "cell_type": "code",
   "execution_count": 3,
   "metadata": {},
   "outputs": [
    {
     "data": {
      "text/plain": [
       "Index(['TV', 'radio', 'newspaper', 'sales'], dtype='object')"
      ]
     },
     "execution_count": 3,
     "metadata": {},
     "output_type": "execute_result"
    }
   ],
   "source": [
    "data.columns"
   ]
  },
  {
   "cell_type": "code",
   "execution_count": 4,
   "metadata": {},
   "outputs": [
    {
     "data": {
      "text/plain": [
       "(200, 4)"
      ]
     },
     "execution_count": 4,
     "metadata": {},
     "output_type": "execute_result"
    }
   ],
   "source": [
    "data.shape"
   ]
  },
  {
   "cell_type": "code",
   "execution_count": 5,
   "metadata": {},
   "outputs": [],
   "source": [
    "features = data[['TV', 'newspaper', 'radio']]  #x\n",
    "target = data[['sales']].values   #y"
   ]
  },
  {
   "cell_type": "markdown",
   "metadata": {},
   "source": [
    "Convert Features to Polynomial features"
   ]
  },
  {
   "cell_type": "code",
   "execution_count": 6,
   "metadata": {
    "tags": []
   },
   "outputs": [],
   "source": [
    "\n",
    "features_poly = PolynomialFeatures(degree=2)\n",
    "\n",
    "TV_poly = features_poly.fit_transform(features[['TV']])\n",
    "newspaper_poly = features_poly.fit_transform(features[['newspaper']])\n",
    "radio_poly = features_poly.fit_transform(features[['radio']])"
   ]
  },
  {
   "cell_type": "code",
   "execution_count": 7,
   "metadata": {},
   "outputs": [],
   "source": [
    "poly_features = pd.concat([pd.DataFrame(TV_poly),pd.DataFrame(newspaper_poly), pd.DataFrame(radio_poly)], axis = 1)"
   ]
  },
  {
   "cell_type": "code",
   "execution_count": 8,
   "metadata": {},
   "outputs": [
    {
     "data": {
      "text/html": [
       "<div>\n",
       "<style scoped>\n",
       "    .dataframe tbody tr th:only-of-type {\n",
       "        vertical-align: middle;\n",
       "    }\n",
       "\n",
       "    .dataframe tbody tr th {\n",
       "        vertical-align: top;\n",
       "    }\n",
       "\n",
       "    .dataframe thead th {\n",
       "        text-align: right;\n",
       "    }\n",
       "</style>\n",
       "<table border=\"1\" class=\"dataframe\">\n",
       "  <thead>\n",
       "    <tr style=\"text-align: right;\">\n",
       "      <th></th>\n",
       "      <th>0</th>\n",
       "      <th>1</th>\n",
       "      <th>2</th>\n",
       "      <th>0</th>\n",
       "      <th>1</th>\n",
       "      <th>2</th>\n",
       "      <th>0</th>\n",
       "      <th>1</th>\n",
       "      <th>2</th>\n",
       "    </tr>\n",
       "  </thead>\n",
       "  <tbody>\n",
       "    <tr>\n",
       "      <th>0</th>\n",
       "      <td>1.0</td>\n",
       "      <td>230.1</td>\n",
       "      <td>52946.01</td>\n",
       "      <td>1.0</td>\n",
       "      <td>69.2</td>\n",
       "      <td>4788.64</td>\n",
       "      <td>1.0</td>\n",
       "      <td>37.8</td>\n",
       "      <td>1428.84</td>\n",
       "    </tr>\n",
       "    <tr>\n",
       "      <th>1</th>\n",
       "      <td>1.0</td>\n",
       "      <td>44.5</td>\n",
       "      <td>1980.25</td>\n",
       "      <td>1.0</td>\n",
       "      <td>45.1</td>\n",
       "      <td>2034.01</td>\n",
       "      <td>1.0</td>\n",
       "      <td>39.3</td>\n",
       "      <td>1544.49</td>\n",
       "    </tr>\n",
       "    <tr>\n",
       "      <th>2</th>\n",
       "      <td>1.0</td>\n",
       "      <td>17.2</td>\n",
       "      <td>295.84</td>\n",
       "      <td>1.0</td>\n",
       "      <td>69.3</td>\n",
       "      <td>4802.49</td>\n",
       "      <td>1.0</td>\n",
       "      <td>45.9</td>\n",
       "      <td>2106.81</td>\n",
       "    </tr>\n",
       "    <tr>\n",
       "      <th>3</th>\n",
       "      <td>1.0</td>\n",
       "      <td>151.5</td>\n",
       "      <td>22952.25</td>\n",
       "      <td>1.0</td>\n",
       "      <td>58.5</td>\n",
       "      <td>3422.25</td>\n",
       "      <td>1.0</td>\n",
       "      <td>41.3</td>\n",
       "      <td>1705.69</td>\n",
       "    </tr>\n",
       "    <tr>\n",
       "      <th>4</th>\n",
       "      <td>1.0</td>\n",
       "      <td>180.8</td>\n",
       "      <td>32688.64</td>\n",
       "      <td>1.0</td>\n",
       "      <td>58.4</td>\n",
       "      <td>3410.56</td>\n",
       "      <td>1.0</td>\n",
       "      <td>10.8</td>\n",
       "      <td>116.64</td>\n",
       "    </tr>\n",
       "    <tr>\n",
       "      <th>...</th>\n",
       "      <td>...</td>\n",
       "      <td>...</td>\n",
       "      <td>...</td>\n",
       "      <td>...</td>\n",
       "      <td>...</td>\n",
       "      <td>...</td>\n",
       "      <td>...</td>\n",
       "      <td>...</td>\n",
       "      <td>...</td>\n",
       "    </tr>\n",
       "    <tr>\n",
       "      <th>195</th>\n",
       "      <td>1.0</td>\n",
       "      <td>38.2</td>\n",
       "      <td>1459.24</td>\n",
       "      <td>1.0</td>\n",
       "      <td>13.8</td>\n",
       "      <td>190.44</td>\n",
       "      <td>1.0</td>\n",
       "      <td>3.7</td>\n",
       "      <td>13.69</td>\n",
       "    </tr>\n",
       "    <tr>\n",
       "      <th>196</th>\n",
       "      <td>1.0</td>\n",
       "      <td>94.2</td>\n",
       "      <td>8873.64</td>\n",
       "      <td>1.0</td>\n",
       "      <td>8.1</td>\n",
       "      <td>65.61</td>\n",
       "      <td>1.0</td>\n",
       "      <td>4.9</td>\n",
       "      <td>24.01</td>\n",
       "    </tr>\n",
       "    <tr>\n",
       "      <th>197</th>\n",
       "      <td>1.0</td>\n",
       "      <td>177.0</td>\n",
       "      <td>31329.00</td>\n",
       "      <td>1.0</td>\n",
       "      <td>6.4</td>\n",
       "      <td>40.96</td>\n",
       "      <td>1.0</td>\n",
       "      <td>9.3</td>\n",
       "      <td>86.49</td>\n",
       "    </tr>\n",
       "    <tr>\n",
       "      <th>198</th>\n",
       "      <td>1.0</td>\n",
       "      <td>283.6</td>\n",
       "      <td>80428.96</td>\n",
       "      <td>1.0</td>\n",
       "      <td>66.2</td>\n",
       "      <td>4382.44</td>\n",
       "      <td>1.0</td>\n",
       "      <td>42.0</td>\n",
       "      <td>1764.00</td>\n",
       "    </tr>\n",
       "    <tr>\n",
       "      <th>199</th>\n",
       "      <td>1.0</td>\n",
       "      <td>232.1</td>\n",
       "      <td>53870.41</td>\n",
       "      <td>1.0</td>\n",
       "      <td>8.7</td>\n",
       "      <td>75.69</td>\n",
       "      <td>1.0</td>\n",
       "      <td>8.6</td>\n",
       "      <td>73.96</td>\n",
       "    </tr>\n",
       "  </tbody>\n",
       "</table>\n",
       "<p>200 rows × 9 columns</p>\n",
       "</div>"
      ],
      "text/plain": [
       "       0      1         2    0     1        2    0     1        2\n",
       "0    1.0  230.1  52946.01  1.0  69.2  4788.64  1.0  37.8  1428.84\n",
       "1    1.0   44.5   1980.25  1.0  45.1  2034.01  1.0  39.3  1544.49\n",
       "2    1.0   17.2    295.84  1.0  69.3  4802.49  1.0  45.9  2106.81\n",
       "3    1.0  151.5  22952.25  1.0  58.5  3422.25  1.0  41.3  1705.69\n",
       "4    1.0  180.8  32688.64  1.0  58.4  3410.56  1.0  10.8   116.64\n",
       "..   ...    ...       ...  ...   ...      ...  ...   ...      ...\n",
       "195  1.0   38.2   1459.24  1.0  13.8   190.44  1.0   3.7    13.69\n",
       "196  1.0   94.2   8873.64  1.0   8.1    65.61  1.0   4.9    24.01\n",
       "197  1.0  177.0  31329.00  1.0   6.4    40.96  1.0   9.3    86.49\n",
       "198  1.0  283.6  80428.96  1.0  66.2  4382.44  1.0  42.0  1764.00\n",
       "199  1.0  232.1  53870.41  1.0   8.7    75.69  1.0   8.6    73.96\n",
       "\n",
       "[200 rows x 9 columns]"
      ]
     },
     "execution_count": 8,
     "metadata": {},
     "output_type": "execute_result"
    }
   ],
   "source": [
    "poly_features"
   ]
  },
  {
   "cell_type": "code",
   "execution_count": 13,
   "metadata": {},
   "outputs": [],
   "source": [
    "from sklearn.model_selection import train_test_split"
   ]
  },
  {
   "cell_type": "code",
   "execution_count": 14,
   "metadata": {},
   "outputs": [],
   "source": [
    "X_train, X_test, y_train, y_test = train_test_split(poly_features, target, random_state = 6)"
   ]
  },
  {
   "cell_type": "code",
   "execution_count": 12,
   "metadata": {},
   "outputs": [
    {
     "name": "stdout",
     "output_type": "stream",
     "text": [
      "(150, 9)\n",
      "(50, 9)\n",
      "(150, 1)\n",
      "(50, 1)\n"
     ]
    }
   ],
   "source": [
    "print(X_train.shape)\n",
    "print(X_test.shape)\n",
    "print(y_train.shape)\n",
    "print(y_test.shape)"
   ]
  },
  {
   "cell_type": "code",
   "execution_count": 16,
   "metadata": {},
   "outputs": [],
   "source": [
    "from sklearn.linear_model import LinearRegression"
   ]
  },
  {
   "cell_type": "code",
   "execution_count": 17,
   "metadata": {},
   "outputs": [
    {
     "data": {
      "text/plain": [
       "LinearRegression()"
      ]
     },
     "execution_count": 17,
     "metadata": {},
     "output_type": "execute_result"
    }
   ],
   "source": [
    "my_model = LinearRegression()\n",
    "my_model.fit(X_train, y_train)"
   ]
  },
  {
   "cell_type": "code",
   "execution_count": 18,
   "metadata": {},
   "outputs": [
    {
     "data": {
      "text/plain": [
       "array([[ 0.00000000e+00,  7.76366570e-02, -1.12220872e-04,\n",
       "         8.49147141e-16,  2.13781336e-02, -2.07802344e-04,\n",
       "        -2.77555756e-17,  1.46025928e-01,  9.36830450e-04]])"
      ]
     },
     "execution_count": 18,
     "metadata": {},
     "output_type": "execute_result"
    }
   ],
   "source": [
    "my_model.coef_"
   ]
  },
  {
   "cell_type": "code",
   "execution_count": 19,
   "metadata": {},
   "outputs": [
    {
     "data": {
      "text/plain": [
       "array([1.41776908])"
      ]
     },
     "execution_count": 19,
     "metadata": {},
     "output_type": "execute_result"
    }
   ],
   "source": [
    "my_model.intercept_"
   ]
  },
  {
   "cell_type": "markdown",
   "metadata": {},
   "source": [
    "#### Prediction and Evaluation on Train Data"
   ]
  },
  {
   "cell_type": "code",
   "execution_count": 20,
   "metadata": {},
   "outputs": [
    {
     "name": "stdout",
     "output_type": "stream",
     "text": [
      "MAE :  1.202893489619854\n",
      "MSE :  2.488776665854576\n",
      "RMSE: 1.5775857079266964\n",
      "R2 Score :  0.9139135358655949\n"
     ]
    }
   ],
   "source": [
    "preds_train = my_model.predict(X_train)\n",
    "print('MAE : ', mean_absolute_error(y_train, preds_train))\n",
    "print('MSE : ', mean_squared_error(y_train, preds_train))\n",
    "print('RMSE:', np.sqrt(mean_squared_error(y_train, preds_train)))\n",
    "print('R2 Score : ', my_model.score(X_train, y_train))"
   ]
  },
  {
   "cell_type": "markdown",
   "metadata": {},
   "source": [
    "#### Prediction and Evaluation on Test Data"
   ]
  },
  {
   "cell_type": "code",
   "execution_count": 21,
   "metadata": {},
   "outputs": [
    {
     "name": "stdout",
     "output_type": "stream",
     "text": [
      "MAE :  0.9912741510674818\n",
      "MSE :  1.5270219257565474\n",
      "RMSE: 1.2357272861584578\n",
      "R2 score :  0.9293009924314467\n"
     ]
    }
   ],
   "source": [
    "preds = my_model.predict(X_test)\n",
    "print('MAE : ', mean_absolute_error(y_test, preds))\n",
    "print('MSE : ', mean_squared_error(y_test, preds))\n",
    "print('RMSE:', np.sqrt(mean_squared_error(y_test, preds)))\n",
    "print('R2 score : ', my_model.score(X_test, y_test)) "
   ]
  },
  {
   "cell_type": "code",
   "execution_count": null,
   "metadata": {},
   "outputs": [],
   "source": []
  }
 ],
 "metadata": {
  "kernelspec": {
   "display_name": "Python 3",
   "language": "python",
   "name": "python3"
  },
  "language_info": {
   "codemirror_mode": {
    "name": "ipython",
    "version": 3
   },
   "file_extension": ".py",
   "mimetype": "text/x-python",
   "name": "python",
   "nbconvert_exporter": "python",
   "pygments_lexer": "ipython3",
   "version": "3.7.6"
  }
 },
 "nbformat": 4,
 "nbformat_minor": 4
}
