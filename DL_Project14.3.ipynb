{
 "cells": [
  {
   "cell_type": "code",
   "execution_count": 1,
   "metadata": {},
   "outputs": [
    {
     "name": "stdout",
     "output_type": "stream",
     "text": [
      "All libray imported\n"
     ]
    }
   ],
   "source": [
    "# import library\n",
    "import pandas as pd\n",
    "import numpy as np\n",
    "import matplotlib.pyplot as plt\n",
    "import seaborn as sns\n",
    "print('All libray imported')"
   ]
  },
  {
   "cell_type": "code",
   "execution_count": 2,
   "metadata": {},
   "outputs": [],
   "source": [
    "# load the dataset\n",
    "df=pd.read_csv('loan_data.csv')"
   ]
  },
  {
   "cell_type": "code",
   "execution_count": 3,
   "metadata": {},
   "outputs": [
    {
     "data": {
      "text/html": [
       "<div>\n",
       "<style scoped>\n",
       "    .dataframe tbody tr th:only-of-type {\n",
       "        vertical-align: middle;\n",
       "    }\n",
       "\n",
       "    .dataframe tbody tr th {\n",
       "        vertical-align: top;\n",
       "    }\n",
       "\n",
       "    .dataframe thead th {\n",
       "        text-align: right;\n",
       "    }\n",
       "</style>\n",
       "<table border=\"1\" class=\"dataframe\">\n",
       "  <thead>\n",
       "    <tr style=\"text-align: right;\">\n",
       "      <th></th>\n",
       "      <th>credit.policy</th>\n",
       "      <th>purpose</th>\n",
       "      <th>int.rate</th>\n",
       "      <th>installment</th>\n",
       "      <th>log.annual.inc</th>\n",
       "      <th>dti</th>\n",
       "      <th>fico</th>\n",
       "      <th>days.with.cr.line</th>\n",
       "      <th>revol.bal</th>\n",
       "      <th>revol.util</th>\n",
       "      <th>inq.last.6mths</th>\n",
       "      <th>delinq.2yrs</th>\n",
       "      <th>pub.rec</th>\n",
       "      <th>not.fully.paid</th>\n",
       "    </tr>\n",
       "  </thead>\n",
       "  <tbody>\n",
       "    <tr>\n",
       "      <th>0</th>\n",
       "      <td>1</td>\n",
       "      <td>debt_consolidation</td>\n",
       "      <td>0.1189</td>\n",
       "      <td>829.10</td>\n",
       "      <td>11.350407</td>\n",
       "      <td>19.48</td>\n",
       "      <td>737</td>\n",
       "      <td>5639.958333</td>\n",
       "      <td>28854</td>\n",
       "      <td>52.1</td>\n",
       "      <td>0</td>\n",
       "      <td>0</td>\n",
       "      <td>0</td>\n",
       "      <td>0</td>\n",
       "    </tr>\n",
       "    <tr>\n",
       "      <th>1</th>\n",
       "      <td>1</td>\n",
       "      <td>credit_card</td>\n",
       "      <td>0.1071</td>\n",
       "      <td>228.22</td>\n",
       "      <td>11.082143</td>\n",
       "      <td>14.29</td>\n",
       "      <td>707</td>\n",
       "      <td>2760.000000</td>\n",
       "      <td>33623</td>\n",
       "      <td>76.7</td>\n",
       "      <td>0</td>\n",
       "      <td>0</td>\n",
       "      <td>0</td>\n",
       "      <td>0</td>\n",
       "    </tr>\n",
       "    <tr>\n",
       "      <th>2</th>\n",
       "      <td>1</td>\n",
       "      <td>debt_consolidation</td>\n",
       "      <td>0.1357</td>\n",
       "      <td>366.86</td>\n",
       "      <td>10.373491</td>\n",
       "      <td>11.63</td>\n",
       "      <td>682</td>\n",
       "      <td>4710.000000</td>\n",
       "      <td>3511</td>\n",
       "      <td>25.6</td>\n",
       "      <td>1</td>\n",
       "      <td>0</td>\n",
       "      <td>0</td>\n",
       "      <td>0</td>\n",
       "    </tr>\n",
       "    <tr>\n",
       "      <th>3</th>\n",
       "      <td>1</td>\n",
       "      <td>debt_consolidation</td>\n",
       "      <td>0.1008</td>\n",
       "      <td>162.34</td>\n",
       "      <td>11.350407</td>\n",
       "      <td>8.10</td>\n",
       "      <td>712</td>\n",
       "      <td>2699.958333</td>\n",
       "      <td>33667</td>\n",
       "      <td>73.2</td>\n",
       "      <td>1</td>\n",
       "      <td>0</td>\n",
       "      <td>0</td>\n",
       "      <td>0</td>\n",
       "    </tr>\n",
       "    <tr>\n",
       "      <th>4</th>\n",
       "      <td>1</td>\n",
       "      <td>credit_card</td>\n",
       "      <td>0.1426</td>\n",
       "      <td>102.92</td>\n",
       "      <td>11.299732</td>\n",
       "      <td>14.97</td>\n",
       "      <td>667</td>\n",
       "      <td>4066.000000</td>\n",
       "      <td>4740</td>\n",
       "      <td>39.5</td>\n",
       "      <td>0</td>\n",
       "      <td>1</td>\n",
       "      <td>0</td>\n",
       "      <td>0</td>\n",
       "    </tr>\n",
       "  </tbody>\n",
       "</table>\n",
       "</div>"
      ],
      "text/plain": [
       "   credit.policy             purpose  int.rate  installment  log.annual.inc  \\\n",
       "0              1  debt_consolidation    0.1189       829.10       11.350407   \n",
       "1              1         credit_card    0.1071       228.22       11.082143   \n",
       "2              1  debt_consolidation    0.1357       366.86       10.373491   \n",
       "3              1  debt_consolidation    0.1008       162.34       11.350407   \n",
       "4              1         credit_card    0.1426       102.92       11.299732   \n",
       "\n",
       "     dti  fico  days.with.cr.line  revol.bal  revol.util  inq.last.6mths  \\\n",
       "0  19.48   737        5639.958333      28854        52.1               0   \n",
       "1  14.29   707        2760.000000      33623        76.7               0   \n",
       "2  11.63   682        4710.000000       3511        25.6               1   \n",
       "3   8.10   712        2699.958333      33667        73.2               1   \n",
       "4  14.97   667        4066.000000       4740        39.5               0   \n",
       "\n",
       "   delinq.2yrs  pub.rec  not.fully.paid  \n",
       "0            0        0               0  \n",
       "1            0        0               0  \n",
       "2            0        0               0  \n",
       "3            0        0               0  \n",
       "4            1        0               0  "
      ]
     },
     "execution_count": 3,
     "metadata": {},
     "output_type": "execute_result"
    }
   ],
   "source": [
    "df.head()"
   ]
  },
  {
   "cell_type": "code",
   "execution_count": 4,
   "metadata": {},
   "outputs": [
    {
     "data": {
      "text/plain": [
       "(9578, 14)"
      ]
     },
     "execution_count": 4,
     "metadata": {},
     "output_type": "execute_result"
    }
   ],
   "source": [
    "df.shape"
   ]
  },
  {
   "cell_type": "code",
   "execution_count": 5,
   "metadata": {},
   "outputs": [
    {
     "data": {
      "text/html": [
       "<div>\n",
       "<style scoped>\n",
       "    .dataframe tbody tr th:only-of-type {\n",
       "        vertical-align: middle;\n",
       "    }\n",
       "\n",
       "    .dataframe tbody tr th {\n",
       "        vertical-align: top;\n",
       "    }\n",
       "\n",
       "    .dataframe thead th {\n",
       "        text-align: right;\n",
       "    }\n",
       "</style>\n",
       "<table border=\"1\" class=\"dataframe\">\n",
       "  <thead>\n",
       "    <tr style=\"text-align: right;\">\n",
       "      <th></th>\n",
       "      <th>credit.policy</th>\n",
       "      <th>int.rate</th>\n",
       "      <th>installment</th>\n",
       "      <th>log.annual.inc</th>\n",
       "      <th>dti</th>\n",
       "      <th>fico</th>\n",
       "      <th>days.with.cr.line</th>\n",
       "      <th>revol.bal</th>\n",
       "      <th>revol.util</th>\n",
       "      <th>inq.last.6mths</th>\n",
       "      <th>delinq.2yrs</th>\n",
       "      <th>pub.rec</th>\n",
       "      <th>not.fully.paid</th>\n",
       "    </tr>\n",
       "  </thead>\n",
       "  <tbody>\n",
       "    <tr>\n",
       "      <th>count</th>\n",
       "      <td>9578.000000</td>\n",
       "      <td>9578.000000</td>\n",
       "      <td>9578.000000</td>\n",
       "      <td>9578.000000</td>\n",
       "      <td>9578.000000</td>\n",
       "      <td>9578.000000</td>\n",
       "      <td>9578.000000</td>\n",
       "      <td>9.578000e+03</td>\n",
       "      <td>9578.000000</td>\n",
       "      <td>9578.000000</td>\n",
       "      <td>9578.000000</td>\n",
       "      <td>9578.000000</td>\n",
       "      <td>9578.000000</td>\n",
       "    </tr>\n",
       "    <tr>\n",
       "      <th>mean</th>\n",
       "      <td>0.804970</td>\n",
       "      <td>0.122640</td>\n",
       "      <td>319.089413</td>\n",
       "      <td>10.932117</td>\n",
       "      <td>12.606679</td>\n",
       "      <td>710.846314</td>\n",
       "      <td>4560.767197</td>\n",
       "      <td>1.691396e+04</td>\n",
       "      <td>46.799236</td>\n",
       "      <td>1.577469</td>\n",
       "      <td>0.163708</td>\n",
       "      <td>0.062122</td>\n",
       "      <td>0.160054</td>\n",
       "    </tr>\n",
       "    <tr>\n",
       "      <th>std</th>\n",
       "      <td>0.396245</td>\n",
       "      <td>0.026847</td>\n",
       "      <td>207.071301</td>\n",
       "      <td>0.614813</td>\n",
       "      <td>6.883970</td>\n",
       "      <td>37.970537</td>\n",
       "      <td>2496.930377</td>\n",
       "      <td>3.375619e+04</td>\n",
       "      <td>29.014417</td>\n",
       "      <td>2.200245</td>\n",
       "      <td>0.546215</td>\n",
       "      <td>0.262126</td>\n",
       "      <td>0.366676</td>\n",
       "    </tr>\n",
       "    <tr>\n",
       "      <th>min</th>\n",
       "      <td>0.000000</td>\n",
       "      <td>0.060000</td>\n",
       "      <td>15.670000</td>\n",
       "      <td>7.547502</td>\n",
       "      <td>0.000000</td>\n",
       "      <td>612.000000</td>\n",
       "      <td>178.958333</td>\n",
       "      <td>0.000000e+00</td>\n",
       "      <td>0.000000</td>\n",
       "      <td>0.000000</td>\n",
       "      <td>0.000000</td>\n",
       "      <td>0.000000</td>\n",
       "      <td>0.000000</td>\n",
       "    </tr>\n",
       "    <tr>\n",
       "      <th>25%</th>\n",
       "      <td>1.000000</td>\n",
       "      <td>0.103900</td>\n",
       "      <td>163.770000</td>\n",
       "      <td>10.558414</td>\n",
       "      <td>7.212500</td>\n",
       "      <td>682.000000</td>\n",
       "      <td>2820.000000</td>\n",
       "      <td>3.187000e+03</td>\n",
       "      <td>22.600000</td>\n",
       "      <td>0.000000</td>\n",
       "      <td>0.000000</td>\n",
       "      <td>0.000000</td>\n",
       "      <td>0.000000</td>\n",
       "    </tr>\n",
       "    <tr>\n",
       "      <th>50%</th>\n",
       "      <td>1.000000</td>\n",
       "      <td>0.122100</td>\n",
       "      <td>268.950000</td>\n",
       "      <td>10.928884</td>\n",
       "      <td>12.665000</td>\n",
       "      <td>707.000000</td>\n",
       "      <td>4139.958333</td>\n",
       "      <td>8.596000e+03</td>\n",
       "      <td>46.300000</td>\n",
       "      <td>1.000000</td>\n",
       "      <td>0.000000</td>\n",
       "      <td>0.000000</td>\n",
       "      <td>0.000000</td>\n",
       "    </tr>\n",
       "    <tr>\n",
       "      <th>75%</th>\n",
       "      <td>1.000000</td>\n",
       "      <td>0.140700</td>\n",
       "      <td>432.762500</td>\n",
       "      <td>11.291293</td>\n",
       "      <td>17.950000</td>\n",
       "      <td>737.000000</td>\n",
       "      <td>5730.000000</td>\n",
       "      <td>1.824950e+04</td>\n",
       "      <td>70.900000</td>\n",
       "      <td>2.000000</td>\n",
       "      <td>0.000000</td>\n",
       "      <td>0.000000</td>\n",
       "      <td>0.000000</td>\n",
       "    </tr>\n",
       "    <tr>\n",
       "      <th>max</th>\n",
       "      <td>1.000000</td>\n",
       "      <td>0.216400</td>\n",
       "      <td>940.140000</td>\n",
       "      <td>14.528354</td>\n",
       "      <td>29.960000</td>\n",
       "      <td>827.000000</td>\n",
       "      <td>17639.958330</td>\n",
       "      <td>1.207359e+06</td>\n",
       "      <td>119.000000</td>\n",
       "      <td>33.000000</td>\n",
       "      <td>13.000000</td>\n",
       "      <td>5.000000</td>\n",
       "      <td>1.000000</td>\n",
       "    </tr>\n",
       "  </tbody>\n",
       "</table>\n",
       "</div>"
      ],
      "text/plain": [
       "       credit.policy     int.rate  installment  log.annual.inc          dti  \\\n",
       "count    9578.000000  9578.000000  9578.000000     9578.000000  9578.000000   \n",
       "mean        0.804970     0.122640   319.089413       10.932117    12.606679   \n",
       "std         0.396245     0.026847   207.071301        0.614813     6.883970   \n",
       "min         0.000000     0.060000    15.670000        7.547502     0.000000   \n",
       "25%         1.000000     0.103900   163.770000       10.558414     7.212500   \n",
       "50%         1.000000     0.122100   268.950000       10.928884    12.665000   \n",
       "75%         1.000000     0.140700   432.762500       11.291293    17.950000   \n",
       "max         1.000000     0.216400   940.140000       14.528354    29.960000   \n",
       "\n",
       "              fico  days.with.cr.line     revol.bal   revol.util  \\\n",
       "count  9578.000000        9578.000000  9.578000e+03  9578.000000   \n",
       "mean    710.846314        4560.767197  1.691396e+04    46.799236   \n",
       "std      37.970537        2496.930377  3.375619e+04    29.014417   \n",
       "min     612.000000         178.958333  0.000000e+00     0.000000   \n",
       "25%     682.000000        2820.000000  3.187000e+03    22.600000   \n",
       "50%     707.000000        4139.958333  8.596000e+03    46.300000   \n",
       "75%     737.000000        5730.000000  1.824950e+04    70.900000   \n",
       "max     827.000000       17639.958330  1.207359e+06   119.000000   \n",
       "\n",
       "       inq.last.6mths  delinq.2yrs      pub.rec  not.fully.paid  \n",
       "count     9578.000000  9578.000000  9578.000000     9578.000000  \n",
       "mean         1.577469     0.163708     0.062122        0.160054  \n",
       "std          2.200245     0.546215     0.262126        0.366676  \n",
       "min          0.000000     0.000000     0.000000        0.000000  \n",
       "25%          0.000000     0.000000     0.000000        0.000000  \n",
       "50%          1.000000     0.000000     0.000000        0.000000  \n",
       "75%          2.000000     0.000000     0.000000        0.000000  \n",
       "max         33.000000    13.000000     5.000000        1.000000  "
      ]
     },
     "execution_count": 5,
     "metadata": {},
     "output_type": "execute_result"
    }
   ],
   "source": [
    "df.describe()"
   ]
  },
  {
   "cell_type": "code",
   "execution_count": 6,
   "metadata": {},
   "outputs": [
    {
     "data": {
      "text/plain": [
       "False"
      ]
     },
     "execution_count": 6,
     "metadata": {},
     "output_type": "execute_result"
    }
   ],
   "source": [
    "# missing value\n",
    "df.isnull().sum().any()"
   ]
  },
  {
   "cell_type": "code",
   "execution_count": 7,
   "metadata": {},
   "outputs": [
    {
     "data": {
      "text/plain": [
       "0    8045\n",
       "1    1533\n",
       "Name: not.fully.paid, dtype: int64"
      ]
     },
     "execution_count": 7,
     "metadata": {},
     "output_type": "execute_result"
    }
   ],
   "source": [
    "df['not.fully.paid'].value_counts()\n",
    "# 0- full paid, 1 - not paid\n",
    "# imbalanced data"
   ]
  },
  {
   "cell_type": "markdown",
   "metadata": {},
   "source": [
    "## Exploratory data analysis of different factors of the dataset."
   ]
  },
  {
   "cell_type": "code",
   "execution_count": 11,
   "metadata": {},
   "outputs": [
    {
     "data": {
      "text/plain": [
       "credit.policy          int64\n",
       "purpose               object\n",
       "int.rate             float64\n",
       "installment          float64\n",
       "log.annual.inc       float64\n",
       "dti                  float64\n",
       "fico                   int64\n",
       "days.with.cr.line    float64\n",
       "revol.bal              int64\n",
       "revol.util           float64\n",
       "inq.last.6mths         int64\n",
       "delinq.2yrs            int64\n",
       "pub.rec                int64\n",
       "not.fully.paid         int64\n",
       "dtype: object"
      ]
     },
     "execution_count": 11,
     "metadata": {},
     "output_type": "execute_result"
    }
   ],
   "source": [
    "df.dtypes"
   ]
  },
  {
   "cell_type": "code",
   "execution_count": 10,
   "metadata": {},
   "outputs": [
    {
     "data": {
      "image/png": "[encoded data removed]",
      "text/plain": [
       "<Figure size 432x288 with 1 Axes>"
      ]
     },
     "metadata": {
      "needs_background": "light"
     },
     "output_type": "display_data"
    }
   ],
   "source": [
    "sns.countplot(x=df['not.fully.paid'])\n",
    "plt.show()"
   ]
  },
  {
   "cell_type": "code",
   "execution_count": 13,
   "metadata": {},
   "outputs": [
    {
     "data": {
      "image/png": "[encoded data removed]",
      "text/plain": [
       "<Figure size 720x576 with 1 Axes>"
      ]
     },
     "metadata": {
      "needs_background": "light"
     },
     "output_type": "display_data"
    }
   ],
   "source": [
    "plt.figure(figsize=(10,8))\n",
    "sns.countplot(x=df['purpose'])\n",
    "plt.show()"
   ]
  },
  {
   "cell_type": "code",
   "execution_count": 15,
   "metadata": {},
   "outputs": [
    {
     "data": {
      "image/png": "[encoded data removed]",
      "text/plain": [
       "<Figure size 720x576 with 1 Axes>"
      ]
     },
     "metadata": {
      "needs_background": "light"
     },
     "output_type": "display_data"
    }
   ],
   "source": [
    "# purpose ---- not fully paid\n",
    "plt.figure(figsize=(10,8))\n",
    "sns.countplot(x='purpose',hue='not.fully.paid',data=df)\n",
    "plt.show()"
   ]
  },
  {
   "cell_type": "code",
   "execution_count": 22,
   "metadata": {},
   "outputs": [
    {
     "data": {
      "image/png": "[encoded data removed]",
      "text/plain": [
       "<Figure size 432x432 with 3 Axes>"
      ]
     },
     "metadata": {
      "needs_background": "light"
     },
     "output_type": "display_data"
    }
   ],
   "source": [
    "# bi variate analysis\n",
    "sns.jointplot(x='fico',y='int.rate',data=df,kind='hex',color='g')\n",
    "plt.show()"
   ]
  },
  {
   "cell_type": "code",
   "execution_count": 18,
   "metadata": {},
   "outputs": [
    {
     "data": {
      "image/png": "[encoded data removed]",
      "text/plain": [
       "<Figure size 432x288 with 1 Axes>"
      ]
     },
     "metadata": {
      "needs_background": "light"
     },
     "output_type": "display_data"
    }
   ],
   "source": [
    "sns.scatterplot(x='fico',y='int.rate',data=df)\n",
    "plt.show()"
   ]
  },
  {
   "cell_type": "code",
   "execution_count": 24,
   "metadata": {},
   "outputs": [
    {
     "data": {
      "text/plain": [
       "<AxesSubplot:xlabel='fico', ylabel='Count'>"
      ]
     },
     "execution_count": 24,
     "metadata": {},
     "output_type": "execute_result"
    },
    {
     "data": {
      "image/png": "[encoded data removed]",
      "text/plain": [
       "<Figure size 432x288 with 1 Axes>"
      ]
     },
     "metadata": {
      "needs_background": "light"
     },
     "output_type": "display_data"
    }
   ],
   "source": [
    "sns.histplot(df['fico'])"
   ]
  },
  {
   "cell_type": "code",
   "execution_count": 29,
   "metadata": {},
   "outputs": [
    {
     "data": {
      "image/png": "[encoded data removed]",
      "text/plain": [
       "<Figure size 432x288 with 1 Axes>"
      ]
     },
     "metadata": {
      "needs_background": "light"
     },
     "output_type": "display_data"
    }
   ],
   "source": [
    "sns.histplot(x='fico',hue='not.fully.paid',data=df)\n",
    "plt.show()"
   ]
  },
  {
   "cell_type": "markdown",
   "metadata": {},
   "source": [
    "Feature Transformation\n",
    "\n",
    "Transform categorical values into numerical values (discrete)"
   ]
  },
  {
   "cell_type": "code",
   "execution_count": 31,
   "metadata": {},
   "outputs": [
    {
     "data": {
      "text/plain": [
       "0    8045\n",
       "1    1533\n",
       "Name: not.fully.paid, dtype: int64"
      ]
     },
     "execution_count": 31,
     "metadata": {},
     "output_type": "execute_result"
    }
   ],
   "source": [
    "# handle imbalanced dataset\n",
    "df['not.fully.paid'].value_counts()"
   ]
  },
  {
   "cell_type": "code",
   "execution_count": 3,
   "metadata": {},
   "outputs": [],
   "source": [
    "not_fully_paid_0=df[df['not.fully.paid']==0]\n",
    "not_fully_paid_1=df[df['not.fully.paid']==1]"
   ]
  },
  {
   "cell_type": "code",
   "execution_count": 33,
   "metadata": {},
   "outputs": [
    {
     "data": {
      "text/plain": [
       "(8045, 14)"
      ]
     },
     "execution_count": 33,
     "metadata": {},
     "output_type": "execute_result"
    }
   ],
   "source": [
    "not_fully_paid_0.shape"
   ]
  },
  {
   "cell_type": "code",
   "execution_count": 34,
   "metadata": {},
   "outputs": [
    {
     "data": {
      "text/plain": [
       "(1533, 14)"
      ]
     },
     "execution_count": 34,
     "metadata": {},
     "output_type": "execute_result"
    }
   ],
   "source": [
    "not_fully_paid_1.shape"
   ]
  },
  {
   "cell_type": "code",
   "execution_count": 4,
   "metadata": {},
   "outputs": [],
   "source": [
    "# resample\n",
    "from sklearn.utils import resample\n",
    "df_minor_upsample=resample(not_fully_paid_1,replace=True,n_samples=8045)\n"
   ]
  },
  {
   "cell_type": "code",
   "execution_count": 5,
   "metadata": {},
   "outputs": [],
   "source": [
    "new_df=pd.concat([not_fully_paid_0,df_minor_upsample])"
   ]
  },
  {
   "cell_type": "code",
   "execution_count": 6,
   "metadata": {},
   "outputs": [],
   "source": [
    "# shuffle\n",
    "from sklearn.utils import shuffle\n",
    "new_df=shuffle(new_df)"
   ]
  },
  {
   "cell_type": "code",
   "execution_count": 40,
   "metadata": {},
   "outputs": [
    {
     "data": {
      "text/plain": [
       "1    8045\n",
       "0    8045\n",
       "Name: not.fully.paid, dtype: int64"
      ]
     },
     "execution_count": 40,
     "metadata": {},
     "output_type": "execute_result"
    }
   ],
   "source": [
    "new_df['not.fully.paid'].value_counts()"
   ]
  },
  {
   "cell_type": "code",
   "execution_count": 41,
   "metadata": {},
   "outputs": [
    {
     "data": {
      "text/plain": [
       "(16090, 14)"
      ]
     },
     "execution_count": 41,
     "metadata": {},
     "output_type": "execute_result"
    }
   ],
   "source": [
    "new_df.shape"
   ]
  },
  {
   "cell_type": "code",
   "execution_count": 42,
   "metadata": {},
   "outputs": [
    {
     "data": {
      "text/plain": [
       "credit.policy          int64\n",
       "purpose               object\n",
       "int.rate             float64\n",
       "installment          float64\n",
       "log.annual.inc       float64\n",
       "dti                  float64\n",
       "fico                   int64\n",
       "days.with.cr.line    float64\n",
       "revol.bal              int64\n",
       "revol.util           float64\n",
       "inq.last.6mths         int64\n",
       "delinq.2yrs            int64\n",
       "pub.rec                int64\n",
       "not.fully.paid         int64\n",
       "dtype: object"
      ]
     },
     "execution_count": 42,
     "metadata": {},
     "output_type": "execute_result"
    }
   ],
   "source": [
    "new_df.dtypes"
   ]
  },
  {
   "cell_type": "code",
   "execution_count": 7,
   "metadata": {},
   "outputs": [],
   "source": [
    "# convert purpose into num data\n",
    "from sklearn.preprocessing import LabelEncoder\n",
    "le=LabelEncoder()"
   ]
  },
  {
   "cell_type": "code",
   "execution_count": 8,
   "metadata": {},
   "outputs": [],
   "source": [
    "for i in new_df.columns:\n",
    "    if new_df[i].dtypes=='object':\n",
    "        new_df[i]=le.fit_transform(new_df[i])"
   ]
  },
  {
   "cell_type": "code",
   "execution_count": 9,
   "metadata": {},
   "outputs": [
    {
     "data": {
      "text/plain": [
       "credit.policy          int64\n",
       "purpose                int64\n",
       "int.rate             float64\n",
       "installment          float64\n",
       "log.annual.inc       float64\n",
       "dti                  float64\n",
       "fico                   int64\n",
       "days.with.cr.line    float64\n",
       "revol.bal              int64\n",
       "revol.util           float64\n",
       "inq.last.6mths         int64\n",
       "delinq.2yrs            int64\n",
       "pub.rec                int64\n",
       "not.fully.paid         int64\n",
       "dtype: object"
      ]
     },
     "execution_count": 9,
     "metadata": {},
     "output_type": "execute_result"
    }
   ],
   "source": [
    "new_df.dtypes"
   ]
  },
  {
   "cell_type": "markdown",
   "metadata": {},
   "source": [
    "### Additional Feature Engineering\n",
    "\n",
    "### You will check the correlation between features and will drop those features which have a strong correlation\n",
    "\n",
    "### This will help reduce the number of features and will leave you with the most relevant features"
   ]
  },
  {
   "cell_type": "code",
   "execution_count": 46,
   "metadata": {},
   "outputs": [
    {
     "data": {
      "text/html": [
       "<div>\n",
       "<style scoped>\n",
       "    .dataframe tbody tr th:only-of-type {\n",
       "        vertical-align: middle;\n",
       "    }\n",
       "\n",
       "    .dataframe tbody tr th {\n",
       "        vertical-align: top;\n",
       "    }\n",
       "\n",
       "    .dataframe thead th {\n",
       "        text-align: right;\n",
       "    }\n",
       "</style>\n",
       "<table border=\"1\" class=\"dataframe\">\n",
       "  <thead>\n",
       "    <tr style=\"text-align: right;\">\n",
       "      <th></th>\n",
       "      <th>credit.policy</th>\n",
       "      <th>purpose</th>\n",
       "      <th>int.rate</th>\n",
       "      <th>installment</th>\n",
       "      <th>log.annual.inc</th>\n",
       "      <th>dti</th>\n",
       "      <th>fico</th>\n",
       "      <th>days.with.cr.line</th>\n",
       "      <th>revol.bal</th>\n",
       "      <th>revol.util</th>\n",
       "      <th>inq.last.6mths</th>\n",
       "      <th>delinq.2yrs</th>\n",
       "      <th>pub.rec</th>\n",
       "      <th>not.fully.paid</th>\n",
       "    </tr>\n",
       "  </thead>\n",
       "  <tbody>\n",
       "    <tr>\n",
       "      <th>credit.policy</th>\n",
       "      <td>1.000000</td>\n",
       "      <td>0.005861</td>\n",
       "      <td>-0.288937</td>\n",
       "      <td>0.041465</td>\n",
       "      <td>0.016925</td>\n",
       "      <td>-0.088006</td>\n",
       "      <td>0.372774</td>\n",
       "      <td>0.102268</td>\n",
       "      <td>-0.186375</td>\n",
       "      <td>-0.094429</td>\n",
       "      <td>-0.538857</td>\n",
       "      <td>-0.054748</td>\n",
       "      <td>-0.064381</td>\n",
       "      <td>-0.197808</td>\n",
       "    </tr>\n",
       "    <tr>\n",
       "      <th>purpose</th>\n",
       "      <td>0.005861</td>\n",
       "      <td>1.000000</td>\n",
       "      <td>0.145996</td>\n",
       "      <td>0.206857</td>\n",
       "      <td>0.128597</td>\n",
       "      <td>-0.042657</td>\n",
       "      <td>0.067941</td>\n",
       "      <td>0.067178</td>\n",
       "      <td>0.079258</td>\n",
       "      <td>-0.074174</td>\n",
       "      <td>0.044583</td>\n",
       "      <td>0.001150</td>\n",
       "      <td>0.005147</td>\n",
       "      <td>0.063738</td>\n",
       "    </tr>\n",
       "    <tr>\n",
       "      <th>int.rate</th>\n",
       "      <td>-0.288937</td>\n",
       "      <td>0.145996</td>\n",
       "      <td>1.000000</td>\n",
       "      <td>0.273957</td>\n",
       "      <td>0.085475</td>\n",
       "      <td>0.202708</td>\n",
       "      <td>-0.680676</td>\n",
       "      <td>-0.095300</td>\n",
       "      <td>0.080503</td>\n",
       "      <td>0.414549</td>\n",
       "      <td>0.183084</td>\n",
       "      <td>0.148380</td>\n",
       "      <td>0.099485</td>\n",
       "      <td>0.219427</td>\n",
       "    </tr>\n",
       "    <tr>\n",
       "      <th>installment</th>\n",
       "      <td>0.041465</td>\n",
       "      <td>0.206857</td>\n",
       "      <td>0.273957</td>\n",
       "      <td>1.000000</td>\n",
       "      <td>0.479974</td>\n",
       "      <td>0.029786</td>\n",
       "      <td>0.110034</td>\n",
       "      <td>0.188770</td>\n",
       "      <td>0.244813</td>\n",
       "      <td>0.053135</td>\n",
       "      <td>-0.014425</td>\n",
       "      <td>0.006109</td>\n",
       "      <td>-0.025968</td>\n",
       "      <td>0.067077</td>\n",
       "    </tr>\n",
       "    <tr>\n",
       "      <th>log.annual.inc</th>\n",
       "      <td>0.016925</td>\n",
       "      <td>0.128597</td>\n",
       "      <td>0.085475</td>\n",
       "      <td>0.479974</td>\n",
       "      <td>1.000000</td>\n",
       "      <td>-0.032581</td>\n",
       "      <td>0.112777</td>\n",
       "      <td>0.351007</td>\n",
       "      <td>0.368914</td>\n",
       "      <td>0.075050</td>\n",
       "      <td>0.033616</td>\n",
       "      <td>0.017462</td>\n",
       "      <td>0.018513</td>\n",
       "      <td>-0.041261</td>\n",
       "    </tr>\n",
       "    <tr>\n",
       "      <th>dti</th>\n",
       "      <td>-0.088006</td>\n",
       "      <td>-0.042657</td>\n",
       "      <td>0.202708</td>\n",
       "      <td>0.029786</td>\n",
       "      <td>-0.032581</td>\n",
       "      <td>1.000000</td>\n",
       "      <td>-0.211132</td>\n",
       "      <td>0.103115</td>\n",
       "      <td>0.158383</td>\n",
       "      <td>0.328099</td>\n",
       "      <td>0.015925</td>\n",
       "      <td>-0.033607</td>\n",
       "      <td>0.028315</td>\n",
       "      <td>0.054709</td>\n",
       "    </tr>\n",
       "    <tr>\n",
       "      <th>fico</th>\n",
       "      <td>0.372774</td>\n",
       "      <td>0.067941</td>\n",
       "      <td>-0.680676</td>\n",
       "      <td>0.110034</td>\n",
       "      <td>0.112777</td>\n",
       "      <td>-0.211132</td>\n",
       "      <td>1.000000</td>\n",
       "      <td>0.257651</td>\n",
       "      <td>0.012756</td>\n",
       "      <td>-0.492636</td>\n",
       "      <td>-0.190574</td>\n",
       "      <td>-0.202828</td>\n",
       "      <td>-0.154560</td>\n",
       "      <td>-0.213241</td>\n",
       "    </tr>\n",
       "    <tr>\n",
       "      <th>days.with.cr.line</th>\n",
       "      <td>0.102268</td>\n",
       "      <td>0.067178</td>\n",
       "      <td>-0.095300</td>\n",
       "      <td>0.188770</td>\n",
       "      <td>0.351007</td>\n",
       "      <td>0.103115</td>\n",
       "      <td>0.257651</td>\n",
       "      <td>1.000000</td>\n",
       "      <td>0.242789</td>\n",
       "      <td>0.018414</td>\n",
       "      <td>-0.033147</td>\n",
       "      <td>0.072104</td>\n",
       "      <td>0.072899</td>\n",
       "      <td>-0.034275</td>\n",
       "    </tr>\n",
       "    <tr>\n",
       "      <th>revol.bal</th>\n",
       "      <td>-0.186375</td>\n",
       "      <td>0.079258</td>\n",
       "      <td>0.080503</td>\n",
       "      <td>0.244813</td>\n",
       "      <td>0.368914</td>\n",
       "      <td>0.158383</td>\n",
       "      <td>0.012756</td>\n",
       "      <td>0.242789</td>\n",
       "      <td>1.000000</td>\n",
       "      <td>0.147408</td>\n",
       "      <td>0.039259</td>\n",
       "      <td>-0.030895</td>\n",
       "      <td>-0.026750</td>\n",
       "      <td>0.065767</td>\n",
       "    </tr>\n",
       "    <tr>\n",
       "      <th>revol.util</th>\n",
       "      <td>-0.094429</td>\n",
       "      <td>-0.074174</td>\n",
       "      <td>0.414549</td>\n",
       "      <td>0.053135</td>\n",
       "      <td>0.075050</td>\n",
       "      <td>0.328099</td>\n",
       "      <td>-0.492636</td>\n",
       "      <td>0.018414</td>\n",
       "      <td>0.147408</td>\n",
       "      <td>1.000000</td>\n",
       "      <td>-0.022846</td>\n",
       "      <td>-0.060766</td>\n",
       "      <td>0.081496</td>\n",
       "      <td>0.109194</td>\n",
       "    </tr>\n",
       "    <tr>\n",
       "      <th>inq.last.6mths</th>\n",
       "      <td>-0.538857</td>\n",
       "      <td>0.044583</td>\n",
       "      <td>0.183084</td>\n",
       "      <td>-0.014425</td>\n",
       "      <td>0.033616</td>\n",
       "      <td>0.015925</td>\n",
       "      <td>-0.190574</td>\n",
       "      <td>-0.033147</td>\n",
       "      <td>0.039259</td>\n",
       "      <td>-0.022846</td>\n",
       "      <td>1.000000</td>\n",
       "      <td>-0.000356</td>\n",
       "      <td>0.105792</td>\n",
       "      <td>0.177353</td>\n",
       "    </tr>\n",
       "    <tr>\n",
       "      <th>delinq.2yrs</th>\n",
       "      <td>-0.054748</td>\n",
       "      <td>0.001150</td>\n",
       "      <td>0.148380</td>\n",
       "      <td>0.006109</td>\n",
       "      <td>0.017462</td>\n",
       "      <td>-0.033607</td>\n",
       "      <td>-0.202828</td>\n",
       "      <td>0.072104</td>\n",
       "      <td>-0.030895</td>\n",
       "      <td>-0.060766</td>\n",
       "      <td>-0.000356</td>\n",
       "      <td>1.000000</td>\n",
       "      <td>-0.014397</td>\n",
       "      <td>0.023488</td>\n",
       "    </tr>\n",
       "    <tr>\n",
       "      <th>pub.rec</th>\n",
       "      <td>-0.064381</td>\n",
       "      <td>0.005147</td>\n",
       "      <td>0.099485</td>\n",
       "      <td>-0.025968</td>\n",
       "      <td>0.018513</td>\n",
       "      <td>0.028315</td>\n",
       "      <td>-0.154560</td>\n",
       "      <td>0.072899</td>\n",
       "      <td>-0.026750</td>\n",
       "      <td>0.081496</td>\n",
       "      <td>0.105792</td>\n",
       "      <td>-0.014397</td>\n",
       "      <td>1.000000</td>\n",
       "      <td>0.063449</td>\n",
       "    </tr>\n",
       "    <tr>\n",
       "      <th>not.fully.paid</th>\n",
       "      <td>-0.197808</td>\n",
       "      <td>0.063738</td>\n",
       "      <td>0.219427</td>\n",
       "      <td>0.067077</td>\n",
       "      <td>-0.041261</td>\n",
       "      <td>0.054709</td>\n",
       "      <td>-0.213241</td>\n",
       "      <td>-0.034275</td>\n",
       "      <td>0.065767</td>\n",
       "      <td>0.109194</td>\n",
       "      <td>0.177353</td>\n",
       "      <td>0.023488</td>\n",
       "      <td>0.063449</td>\n",
       "      <td>1.000000</td>\n",
       "    </tr>\n",
       "  </tbody>\n",
       "</table>\n",
       "</div>"
      ],
      "text/plain": [
       "                   credit.policy   purpose  int.rate  installment  \\\n",
       "credit.policy           1.000000  0.005861 -0.288937     0.041465   \n",
       "purpose                 0.005861  1.000000  0.145996     0.206857   \n",
       "int.rate               -0.288937  0.145996  1.000000     0.273957   \n",
       "installment             0.041465  0.206857  0.273957     1.000000   \n",
       "log.annual.inc          0.016925  0.128597  0.085475     0.479974   \n",
       "dti                    -0.088006 -0.042657  0.202708     0.029786   \n",
       "fico                    0.372774  0.067941 -0.680676     0.110034   \n",
       "days.with.cr.line       0.102268  0.067178 -0.095300     0.188770   \n",
       "revol.bal              -0.186375  0.079258  0.080503     0.244813   \n",
       "revol.util             -0.094429 -0.074174  0.414549     0.053135   \n",
       "inq.last.6mths         -0.538857  0.044583  0.183084    -0.014425   \n",
       "delinq.2yrs            -0.054748  0.001150  0.148380     0.006109   \n",
       "pub.rec                -0.064381  0.005147  0.099485    -0.025968   \n",
       "not.fully.paid         -0.197808  0.063738  0.219427     0.067077   \n",
       "\n",
       "                   log.annual.inc       dti      fico  days.with.cr.line  \\\n",
       "credit.policy            0.016925 -0.088006  0.372774           0.102268   \n",
       "purpose                  0.128597 -0.042657  0.067941           0.067178   \n",
       "int.rate                 0.085475  0.202708 -0.680676          -0.095300   \n",
       "installment              0.479974  0.029786  0.110034           0.188770   \n",
       "log.annual.inc           1.000000 -0.032581  0.112777           0.351007   \n",
       "dti                     -0.032581  1.000000 -0.211132           0.103115   \n",
       "fico                     0.112777 -0.211132  1.000000           0.257651   \n",
       "days.with.cr.line        0.351007  0.103115  0.257651           1.000000   \n",
       "revol.bal                0.368914  0.158383  0.012756           0.242789   \n",
       "revol.util               0.075050  0.328099 -0.492636           0.018414   \n",
       "inq.last.6mths           0.033616  0.015925 -0.190574          -0.033147   \n",
       "delinq.2yrs              0.017462 -0.033607 -0.202828           0.072104   \n",
       "pub.rec                  0.018513  0.028315 -0.154560           0.072899   \n",
       "not.fully.paid          -0.041261  0.054709 -0.213241          -0.034275   \n",
       "\n",
       "                   revol.bal  revol.util  inq.last.6mths  delinq.2yrs  \\\n",
       "credit.policy      -0.186375   -0.094429       -0.538857    -0.054748   \n",
       "purpose             0.079258   -0.074174        0.044583     0.001150   \n",
       "int.rate            0.080503    0.414549        0.183084     0.148380   \n",
       "installment         0.244813    0.053135       -0.014425     0.006109   \n",
       "log.annual.inc      0.368914    0.075050        0.033616     0.017462   \n",
       "dti                 0.158383    0.328099        0.015925    -0.033607   \n",
       "fico                0.012756   -0.492636       -0.190574    -0.202828   \n",
       "days.with.cr.line   0.242789    0.018414       -0.033147     0.072104   \n",
       "revol.bal           1.000000    0.147408        0.039259    -0.030895   \n",
       "revol.util          0.147408    1.000000       -0.022846    -0.060766   \n",
       "inq.last.6mths      0.039259   -0.022846        1.000000    -0.000356   \n",
       "delinq.2yrs        -0.030895   -0.060766       -0.000356     1.000000   \n",
       "pub.rec            -0.026750    0.081496        0.105792    -0.014397   \n",
       "not.fully.paid      0.065767    0.109194        0.177353     0.023488   \n",
       "\n",
       "                    pub.rec  not.fully.paid  \n",
       "credit.policy     -0.064381       -0.197808  \n",
       "purpose            0.005147        0.063738  \n",
       "int.rate           0.099485        0.219427  \n",
       "installment       -0.025968        0.067077  \n",
       "log.annual.inc     0.018513       -0.041261  \n",
       "dti                0.028315        0.054709  \n",
       "fico              -0.154560       -0.213241  \n",
       "days.with.cr.line  0.072899       -0.034275  \n",
       "revol.bal         -0.026750        0.065767  \n",
       "revol.util         0.081496        0.109194  \n",
       "inq.last.6mths     0.105792        0.177353  \n",
       "delinq.2yrs       -0.014397        0.023488  \n",
       "pub.rec            1.000000        0.063449  \n",
       "not.fully.paid     0.063449        1.000000  "
      ]
     },
     "execution_count": 46,
     "metadata": {},
     "output_type": "execute_result"
    }
   ],
   "source": [
    "new_df.corr()"
   ]
  },
  {
   "cell_type": "code",
   "execution_count": 49,
   "metadata": {},
   "outputs": [
    {
     "data": {
      "text/plain": [
       "<AxesSubplot:>"
      ]
     },
     "execution_count": 49,
     "metadata": {},
     "output_type": "execute_result"
    },
    {
     "data": {
      "image/png": "[encoded data removed]",
      "text/plain": [
       "<Figure size 792x504 with 2 Axes>"
      ]
     },
     "metadata": {
      "needs_background": "light"
     },
     "output_type": "display_data"
    }
   ],
   "source": [
    "plt.figure(figsize=(11,7))\n",
    "sns.heatmap(new_df.corr(),annot=True)"
   ]
  },
  {
   "cell_type": "code",
   "execution_count": 50,
   "metadata": {},
   "outputs": [
    {
     "data": {
      "text/plain": [
       "not.fully.paid       1.000000\n",
       "int.rate             0.219427\n",
       "fico                 0.213241\n",
       "credit.policy        0.197808\n",
       "inq.last.6mths       0.177353\n",
       "revol.util           0.109194\n",
       "installment          0.067077\n",
       "revol.bal            0.065767\n",
       "purpose              0.063738\n",
       "pub.rec              0.063449\n",
       "dti                  0.054709\n",
       "log.annual.inc       0.041261\n",
       "days.with.cr.line    0.034275\n",
       "delinq.2yrs          0.023488\n",
       "Name: not.fully.paid, dtype: float64"
      ]
     },
     "execution_count": 50,
     "metadata": {},
     "output_type": "execute_result"
    }
   ],
   "source": [
    "# see the sorted results\n",
    "new_df.corr().abs()['not.fully.paid'].sort_values(ascending=False)"
   ]
  },
  {
   "cell_type": "code",
   "execution_count": 51,
   "metadata": {},
   "outputs": [
    {
     "data": {
      "text/plain": [
       "Index(['credit.policy', 'purpose', 'int.rate', 'installment', 'log.annual.inc',\n",
       "       'dti', 'fico', 'days.with.cr.line', 'revol.bal', 'revol.util',\n",
       "       'inq.last.6mths', 'delinq.2yrs', 'pub.rec', 'not.fully.paid'],\n",
       "      dtype='object')"
      ]
     },
     "execution_count": 51,
     "metadata": {},
     "output_type": "execute_result"
    }
   ],
   "source": [
    "new_df.columns"
   ]
  },
  {
   "cell_type": "code",
   "execution_count": 10,
   "metadata": {},
   "outputs": [],
   "source": [
    "# take columns\n",
    "X=new_df[['credit.policy','purpose', 'int.rate', 'installment','fico','revol.bal','revol.util','inq.last.6mths','pub.rec']]"
   ]
  },
  {
   "cell_type": "code",
   "execution_count": 56,
   "metadata": {},
   "outputs": [
    {
     "data": {
      "text/plain": [
       "(16090, 9)"
      ]
     },
     "execution_count": 56,
     "metadata": {},
     "output_type": "execute_result"
    }
   ],
   "source": [
    "X.shape"
   ]
  },
  {
   "cell_type": "code",
   "execution_count": 11,
   "metadata": {},
   "outputs": [],
   "source": [
    "y=new_df['not.fully.paid']"
   ]
  },
  {
   "cell_type": "code",
   "execution_count": 12,
   "metadata": {},
   "outputs": [],
   "source": [
    "# Create train set & test set\n",
    "from sklearn.model_selection import train_test_split\n",
    "X_train,X_test,y_train,y_test=train_test_split(X,y,test_size=.2,random_state=42)"
   ]
  },
  {
   "cell_type": "code",
   "execution_count": 59,
   "metadata": {},
   "outputs": [
    {
     "data": {
      "text/plain": [
       "(12872, 9)"
      ]
     },
     "execution_count": 59,
     "metadata": {},
     "output_type": "execute_result"
    }
   ],
   "source": [
    "X_train.shape"
   ]
  },
  {
   "cell_type": "code",
   "execution_count": 60,
   "metadata": {},
   "outputs": [
    {
     "data": {
      "text/plain": [
       "(3218, 9)"
      ]
     },
     "execution_count": 60,
     "metadata": {},
     "output_type": "execute_result"
    }
   ],
   "source": [
    "X_test.shape"
   ]
  },
  {
   "cell_type": "code",
   "execution_count": 61,
   "metadata": {
    "collapsed": true,
    "jupyter": {
     "outputs_hidden": true
    },
    "tags": []
   },
   "outputs": [
    {
     "data": {
      "text/html": [
       "<div>\n",
       "<style scoped>\n",
       "    .dataframe tbody tr th:only-of-type {\n",
       "        vertical-align: middle;\n",
       "    }\n",
       "\n",
       "    .dataframe tbody tr th {\n",
       "        vertical-align: top;\n",
       "    }\n",
       "\n",
       "    .dataframe thead th {\n",
       "        text-align: right;\n",
       "    }\n",
       "</style>\n",
       "<table border=\"1\" class=\"dataframe\">\n",
       "  <thead>\n",
       "    <tr style=\"text-align: right;\">\n",
       "      <th></th>\n",
       "      <th>credit.policy</th>\n",
       "      <th>purpose</th>\n",
       "      <th>int.rate</th>\n",
       "      <th>installment</th>\n",
       "      <th>fico</th>\n",
       "      <th>revol.bal</th>\n",
       "      <th>revol.util</th>\n",
       "      <th>inq.last.6mths</th>\n",
       "      <th>pub.rec</th>\n",
       "    </tr>\n",
       "  </thead>\n",
       "  <tbody>\n",
       "    <tr>\n",
       "      <th>5839</th>\n",
       "      <td>1</td>\n",
       "      <td>6</td>\n",
       "      <td>0.1982</td>\n",
       "      <td>556.10</td>\n",
       "      <td>692</td>\n",
       "      <td>10893</td>\n",
       "      <td>97.3</td>\n",
       "      <td>3</td>\n",
       "      <td>0</td>\n",
       "    </tr>\n",
       "    <tr>\n",
       "      <th>4825</th>\n",
       "      <td>1</td>\n",
       "      <td>4</td>\n",
       "      <td>0.1392</td>\n",
       "      <td>204.83</td>\n",
       "      <td>682</td>\n",
       "      <td>4417</td>\n",
       "      <td>78.9</td>\n",
       "      <td>0</td>\n",
       "      <td>0</td>\n",
       "    </tr>\n",
       "    <tr>\n",
       "      <th>9146</th>\n",
       "      <td>0</td>\n",
       "      <td>0</td>\n",
       "      <td>0.1442</td>\n",
       "      <td>51.58</td>\n",
       "      <td>697</td>\n",
       "      <td>25466</td>\n",
       "      <td>32.4</td>\n",
       "      <td>4</td>\n",
       "      <td>0</td>\n",
       "    </tr>\n",
       "    <tr>\n",
       "      <th>204</th>\n",
       "      <td>1</td>\n",
       "      <td>2</td>\n",
       "      <td>0.1186</td>\n",
       "      <td>165.74</td>\n",
       "      <td>667</td>\n",
       "      <td>2197</td>\n",
       "      <td>75.8</td>\n",
       "      <td>0</td>\n",
       "      <td>0</td>\n",
       "    </tr>\n",
       "    <tr>\n",
       "      <th>7719</th>\n",
       "      <td>0</td>\n",
       "      <td>1</td>\n",
       "      <td>0.1324</td>\n",
       "      <td>404.03</td>\n",
       "      <td>697</td>\n",
       "      <td>152416</td>\n",
       "      <td>80.1</td>\n",
       "      <td>0</td>\n",
       "      <td>0</td>\n",
       "    </tr>\n",
       "    <tr>\n",
       "      <th>...</th>\n",
       "      <td>...</td>\n",
       "      <td>...</td>\n",
       "      <td>...</td>\n",
       "      <td>...</td>\n",
       "      <td>...</td>\n",
       "      <td>...</td>\n",
       "      <td>...</td>\n",
       "      <td>...</td>\n",
       "      <td>...</td>\n",
       "    </tr>\n",
       "    <tr>\n",
       "      <th>3005</th>\n",
       "      <td>1</td>\n",
       "      <td>0</td>\n",
       "      <td>0.1347</td>\n",
       "      <td>409.62</td>\n",
       "      <td>707</td>\n",
       "      <td>20460</td>\n",
       "      <td>39.8</td>\n",
       "      <td>1</td>\n",
       "      <td>0</td>\n",
       "    </tr>\n",
       "    <tr>\n",
       "      <th>9291</th>\n",
       "      <td>0</td>\n",
       "      <td>2</td>\n",
       "      <td>0.1357</td>\n",
       "      <td>475.56</td>\n",
       "      <td>707</td>\n",
       "      <td>12177</td>\n",
       "      <td>75.6</td>\n",
       "      <td>5</td>\n",
       "      <td>0</td>\n",
       "    </tr>\n",
       "    <tr>\n",
       "      <th>7571</th>\n",
       "      <td>1</td>\n",
       "      <td>2</td>\n",
       "      <td>0.0788</td>\n",
       "      <td>437.93</td>\n",
       "      <td>747</td>\n",
       "      <td>4482</td>\n",
       "      <td>19.4</td>\n",
       "      <td>0</td>\n",
       "      <td>0</td>\n",
       "    </tr>\n",
       "    <tr>\n",
       "      <th>9445</th>\n",
       "      <td>0</td>\n",
       "      <td>2</td>\n",
       "      <td>0.1913</td>\n",
       "      <td>367.21</td>\n",
       "      <td>682</td>\n",
       "      <td>13650</td>\n",
       "      <td>94.8</td>\n",
       "      <td>9</td>\n",
       "      <td>1</td>\n",
       "    </tr>\n",
       "    <tr>\n",
       "      <th>8187</th>\n",
       "      <td>0</td>\n",
       "      <td>1</td>\n",
       "      <td>0.1078</td>\n",
       "      <td>293.72</td>\n",
       "      <td>687</td>\n",
       "      <td>31629</td>\n",
       "      <td>101.4</td>\n",
       "      <td>2</td>\n",
       "      <td>0</td>\n",
       "    </tr>\n",
       "  </tbody>\n",
       "</table>\n",
       "<p>12872 rows × 9 columns</p>\n",
       "</div>"
      ],
      "text/plain": [
       "      credit.policy  purpose  int.rate  installment  fico  revol.bal  \\\n",
       "5839              1        6    0.1982       556.10   692      10893   \n",
       "4825              1        4    0.1392       204.83   682       4417   \n",
       "9146              0        0    0.1442        51.58   697      25466   \n",
       "204               1        2    0.1186       165.74   667       2197   \n",
       "7719              0        1    0.1324       404.03   697     152416   \n",
       "...             ...      ...       ...          ...   ...        ...   \n",
       "3005              1        0    0.1347       409.62   707      20460   \n",
       "9291              0        2    0.1357       475.56   707      12177   \n",
       "7571              1        2    0.0788       437.93   747       4482   \n",
       "9445              0        2    0.1913       367.21   682      13650   \n",
       "8187              0        1    0.1078       293.72   687      31629   \n",
       "\n",
       "      revol.util  inq.last.6mths  pub.rec  \n",
       "5839        97.3               3        0  \n",
       "4825        78.9               0        0  \n",
       "9146        32.4               4        0  \n",
       "204         75.8               0        0  \n",
       "7719        80.1               0        0  \n",
       "...          ...             ...      ...  \n",
       "3005        39.8               1        0  \n",
       "9291        75.6               5        0  \n",
       "7571        19.4               0        0  \n",
       "9445        94.8               9        1  \n",
       "8187       101.4               2        0  \n",
       "\n",
       "[12872 rows x 9 columns]"
      ]
     },
     "execution_count": 61,
     "metadata": {},
     "output_type": "execute_result"
    }
   ],
   "source": [
    "X_train"
   ]
  },
  {
   "cell_type": "code",
   "execution_count": 13,
   "metadata": {},
   "outputs": [],
   "source": [
    "# Apply scaling\n",
    "from sklearn.preprocessing import StandardScaler\n",
    "sc=StandardScaler()"
   ]
  },
  {
   "cell_type": "code",
   "execution_count": 14,
   "metadata": {},
   "outputs": [],
   "source": [
    "X_train=sc.fit_transform(X_train)\n",
    "X_test=sc.transform(X_test)"
   ]
  },
  {
   "cell_type": "markdown",
   "metadata": {},
   "source": [
    "## Create a deep learning model using Keras with Tensorflow backend"
   ]
  },
  {
   "cell_type": "code",
   "execution_count": 15,
   "metadata": {},
   "outputs": [],
   "source": [
    "from tensorflow.keras.models import Sequential\n",
    "from tensorflow.keras.layers import Dense,Dropout\n",
    "from tensorflow.keras.callbacks import EarlyStopping"
   ]
  },
  {
   "cell_type": "code",
   "execution_count": 65,
   "metadata": {},
   "outputs": [],
   "source": [
    "# create the architecture\n",
    "# 2 ANN layer\n",
    "model=Sequential()\n",
    "model.add(Dense(19,activation='relu',input_shape=[9]))\n",
    "model.add(Dropout(0.20))\n",
    "\n",
    "\n",
    "model.add(Dense(10,activation='relu'))\n",
    "model.add(Dropout(0.20))\n",
    "\n",
    "# output layer\n",
    "model.add(Dense(1,activation='sigmoid'))"
   ]
  },
  {
   "cell_type": "code",
   "execution_count": 66,
   "metadata": {},
   "outputs": [
    {
     "name": "stdout",
     "output_type": "stream",
     "text": [
      "Model: \"sequential\"\n",
      "_________________________________________________________________\n",
      " Layer (type)                Output Shape              Param #   \n",
      "=================================================================\n",
      " dense (Dense)               (None, 19)                190       \n",
      "                                                                 \n",
      " dropout (Dropout)           (None, 19)                0         \n",
      "                                                                 \n",
      " dense_1 (Dense)             (None, 10)                200       \n",
      "                                                                 \n",
      " dropout_1 (Dropout)         (None, 10)                0         \n",
      "                                                                 \n",
      " dense_2 (Dense)             (None, 1)                 11        \n",
      "                                                                 \n",
      "=================================================================\n",
      "Total params: 401\n",
      "Trainable params: 401\n",
      "Non-trainable params: 0\n",
      "_________________________________________________________________\n"
     ]
    }
   ],
   "source": [
    "model.summary()"
   ]
  },
  {
   "cell_type": "code",
   "execution_count": 67,
   "metadata": {},
   "outputs": [],
   "source": [
    "# compile the model\n",
    "model.compile(loss='binary_crossentropy',optimizer='adam',metrics=['accuracy'])"
   ]
  },
  {
   "cell_type": "code",
   "execution_count": 70,
   "metadata": {},
   "outputs": [],
   "source": [
    "early_stop=EarlyStopping(monitor='val_loss',min_delta=0.001,mode='min',patience=10,verbose=1)"
   ]
  },
  {
   "cell_type": "code",
   "execution_count": 71,
   "metadata": {},
   "outputs": [
    {
     "name": "stdout",
     "output_type": "stream",
     "text": [
      "Epoch 1/50\n",
      "51/51 [==============================] - 0s 3ms/step - loss: 0.6500 - accuracy: 0.6184 - val_loss: 0.6398 - val_accuracy: 0.6274\n",
      "Epoch 2/50\n",
      "51/51 [==============================] - 0s 3ms/step - loss: 0.6497 - accuracy: 0.6157 - val_loss: 0.6400 - val_accuracy: 0.6302\n",
      "Epoch 3/50\n",
      "51/51 [==============================] - 0s 3ms/step - loss: 0.6481 - accuracy: 0.6231 - val_loss: 0.6391 - val_accuracy: 0.6302\n",
      "Epoch 4/50\n",
      "51/51 [==============================] - 0s 3ms/step - loss: 0.6480 - accuracy: 0.6184 - val_loss: 0.6392 - val_accuracy: 0.6293\n",
      "Epoch 5/50\n",
      "51/51 [==============================] - 0s 2ms/step - loss: 0.6477 - accuracy: 0.6193 - val_loss: 0.6392 - val_accuracy: 0.6302\n",
      "Epoch 6/50\n",
      "51/51 [==============================] - 0s 2ms/step - loss: 0.6465 - accuracy: 0.6224 - val_loss: 0.6389 - val_accuracy: 0.6299\n",
      "Epoch 7/50\n",
      "51/51 [==============================] - 0s 2ms/step - loss: 0.6479 - accuracy: 0.6211 - val_loss: 0.6384 - val_accuracy: 0.6302\n",
      "Epoch 8/50\n",
      "51/51 [==============================] - 0s 2ms/step - loss: 0.6474 - accuracy: 0.6218 - val_loss: 0.6382 - val_accuracy: 0.6283\n",
      "Epoch 9/50\n",
      "51/51 [==============================] - 0s 2ms/step - loss: 0.6456 - accuracy: 0.6193 - val_loss: 0.6379 - val_accuracy: 0.6311\n",
      "Epoch 10/50\n",
      "51/51 [==============================] - 0s 2ms/step - loss: 0.6465 - accuracy: 0.6242 - val_loss: 0.6381 - val_accuracy: 0.6283\n",
      "Epoch 11/50\n",
      "51/51 [==============================] - 0s 2ms/step - loss: 0.6446 - accuracy: 0.6245 - val_loss: 0.6375 - val_accuracy: 0.6302\n",
      "Epoch 12/50\n",
      "51/51 [==============================] - 0s 2ms/step - loss: 0.6441 - accuracy: 0.6258 - val_loss: 0.6376 - val_accuracy: 0.6290\n",
      "Epoch 13/50\n",
      "51/51 [==============================] - 0s 2ms/step - loss: 0.6454 - accuracy: 0.6187 - val_loss: 0.6375 - val_accuracy: 0.6311\n",
      "Epoch 14/50\n",
      "51/51 [==============================] - 0s 2ms/step - loss: 0.6460 - accuracy: 0.6217 - val_loss: 0.6371 - val_accuracy: 0.6327\n",
      "Epoch 15/50\n",
      "51/51 [==============================] - 0s 3ms/step - loss: 0.6442 - accuracy: 0.6272 - val_loss: 0.6372 - val_accuracy: 0.6318\n",
      "Epoch 16/50\n",
      "51/51 [==============================] - 0s 2ms/step - loss: 0.6452 - accuracy: 0.6227 - val_loss: 0.6370 - val_accuracy: 0.6308\n",
      "Epoch 17/50\n",
      "51/51 [==============================] - 0s 2ms/step - loss: 0.6447 - accuracy: 0.6261 - val_loss: 0.6378 - val_accuracy: 0.6283\n",
      "Epoch 18/50\n",
      "51/51 [==============================] - 0s 2ms/step - loss: 0.6421 - accuracy: 0.6262 - val_loss: 0.6367 - val_accuracy: 0.6293\n",
      "Epoch 19/50\n",
      "51/51 [==============================] - 0s 2ms/step - loss: 0.6451 - accuracy: 0.6265 - val_loss: 0.6376 - val_accuracy: 0.6265\n",
      "Epoch 20/50\n",
      "51/51 [==============================] - 0s 2ms/step - loss: 0.6427 - accuracy: 0.6214 - val_loss: 0.6373 - val_accuracy: 0.6290\n",
      "Epoch 21/50\n",
      "51/51 [==============================] - 0s 3ms/step - loss: 0.6418 - accuracy: 0.6262 - val_loss: 0.6362 - val_accuracy: 0.6265\n",
      "Epoch 22/50\n",
      "51/51 [==============================] - 0s 3ms/step - loss: 0.6423 - accuracy: 0.6284 - val_loss: 0.6370 - val_accuracy: 0.6271\n",
      "Epoch 23/50\n",
      "51/51 [==============================] - 0s 2ms/step - loss: 0.6416 - accuracy: 0.6275 - val_loss: 0.6371 - val_accuracy: 0.6240\n",
      "Epoch 24/50\n",
      "51/51 [==============================] - 0s 3ms/step - loss: 0.6446 - accuracy: 0.6225 - val_loss: 0.6368 - val_accuracy: 0.6234\n",
      "Epoch 24: early stopping\n"
     ]
    },
    {
     "data": {
      "text/plain": [
       "<keras.callbacks.History at 0x7f350c963a90>"
      ]
     },
     "execution_count": 71,
     "metadata": {},
     "output_type": "execute_result"
    }
   ],
   "source": [
    "model.fit(X_train,y_train,\n",
    "          epochs=50,\n",
    "          batch_size=256,\n",
    "          validation_data=(X_test,y_test),\n",
    "          callbacks=[early_stop])"
   ]
  },
  {
   "cell_type": "code",
   "execution_count": 72,
   "metadata": {
    "collapsed": true,
    "jupyter": {
     "outputs_hidden": true
    },
    "tags": []
   },
   "outputs": [
    {
     "name": "stdout",
     "output_type": "stream",
     "text": [
      "Epoch 1/50\n",
      "51/51 [==============================] - 0s 4ms/step - loss: 0.6425 - accuracy: 0.6284 - val_loss: 0.6373 - val_accuracy: 0.6224\n",
      "Epoch 2/50\n",
      "51/51 [==============================] - 0s 3ms/step - loss: 0.6434 - accuracy: 0.6282 - val_loss: 0.6364 - val_accuracy: 0.6255\n",
      "Epoch 3/50\n",
      "51/51 [==============================] - 0s 3ms/step - loss: 0.6430 - accuracy: 0.6255 - val_loss: 0.6363 - val_accuracy: 0.6252\n",
      "Epoch 4/50\n",
      "51/51 [==============================] - 0s 3ms/step - loss: 0.6418 - accuracy: 0.6294 - val_loss: 0.6363 - val_accuracy: 0.6262\n",
      "Epoch 5/50\n",
      "51/51 [==============================] - 0s 3ms/step - loss: 0.6423 - accuracy: 0.6279 - val_loss: 0.6375 - val_accuracy: 0.6265\n",
      "Epoch 6/50\n",
      "51/51 [==============================] - 0s 3ms/step - loss: 0.6406 - accuracy: 0.6282 - val_loss: 0.6369 - val_accuracy: 0.6234\n",
      "Epoch 7/50\n",
      "51/51 [==============================] - 0s 3ms/step - loss: 0.6414 - accuracy: 0.6282 - val_loss: 0.6363 - val_accuracy: 0.6255\n",
      "Epoch 8/50\n",
      "51/51 [==============================] - 0s 4ms/step - loss: 0.6425 - accuracy: 0.6235 - val_loss: 0.6364 - val_accuracy: 0.6252\n",
      "Epoch 9/50\n",
      "51/51 [==============================] - 0s 3ms/step - loss: 0.6413 - accuracy: 0.6300 - val_loss: 0.6365 - val_accuracy: 0.6268\n",
      "Epoch 10/50\n",
      "51/51 [==============================] - 0s 3ms/step - loss: 0.6418 - accuracy: 0.6294 - val_loss: 0.6360 - val_accuracy: 0.6259\n",
      "Epoch 11/50\n",
      "51/51 [==============================] - 0s 3ms/step - loss: 0.6399 - accuracy: 0.6305 - val_loss: 0.6361 - val_accuracy: 0.6262\n",
      "Epoch 12/50\n",
      "51/51 [==============================] - 0s 3ms/step - loss: 0.6411 - accuracy: 0.6270 - val_loss: 0.6363 - val_accuracy: 0.6243\n",
      "Epoch 13/50\n",
      "51/51 [==============================] - 0s 3ms/step - loss: 0.6411 - accuracy: 0.6290 - val_loss: 0.6360 - val_accuracy: 0.6255\n",
      "Epoch 14/50\n",
      "51/51 [==============================] - 0s 3ms/step - loss: 0.6413 - accuracy: 0.6337 - val_loss: 0.6356 - val_accuracy: 0.6227\n",
      "Epoch 15/50\n",
      "51/51 [==============================] - 0s 3ms/step - loss: 0.6433 - accuracy: 0.6278 - val_loss: 0.6363 - val_accuracy: 0.6221\n",
      "Epoch 16/50\n",
      "51/51 [==============================] - 0s 3ms/step - loss: 0.6409 - accuracy: 0.6296 - val_loss: 0.6363 - val_accuracy: 0.6234\n",
      "Epoch 17/50\n",
      "51/51 [==============================] - 0s 3ms/step - loss: 0.6413 - accuracy: 0.6311 - val_loss: 0.6361 - val_accuracy: 0.6255\n",
      "Epoch 18/50\n",
      "51/51 [==============================] - 0s 3ms/step - loss: 0.6406 - accuracy: 0.6361 - val_loss: 0.6365 - val_accuracy: 0.6252\n",
      "Epoch 19/50\n",
      "51/51 [==============================] - 0s 3ms/step - loss: 0.6393 - accuracy: 0.6274 - val_loss: 0.6358 - val_accuracy: 0.6237\n",
      "Epoch 20/50\n",
      "51/51 [==============================] - 0s 3ms/step - loss: 0.6400 - accuracy: 0.6309 - val_loss: 0.6354 - val_accuracy: 0.6246\n",
      "Epoch 21/50\n",
      "51/51 [==============================] - 0s 3ms/step - loss: 0.6398 - accuracy: 0.6311 - val_loss: 0.6361 - val_accuracy: 0.6227\n",
      "Epoch 22/50\n",
      "51/51 [==============================] - 0s 3ms/step - loss: 0.6401 - accuracy: 0.6290 - val_loss: 0.6362 - val_accuracy: 0.6221\n",
      "Epoch 23/50\n",
      "51/51 [==============================] - 0s 3ms/step - loss: 0.6405 - accuracy: 0.6280 - val_loss: 0.6360 - val_accuracy: 0.6227\n",
      "Epoch 24/50\n",
      "51/51 [==============================] - 0s 3ms/step - loss: 0.6382 - accuracy: 0.6284 - val_loss: 0.6351 - val_accuracy: 0.6231\n",
      "Epoch 25/50\n",
      "51/51 [==============================] - 0s 3ms/step - loss: 0.6386 - accuracy: 0.6344 - val_loss: 0.6354 - val_accuracy: 0.6234\n",
      "Epoch 26/50\n",
      "51/51 [==============================] - 0s 3ms/step - loss: 0.6393 - accuracy: 0.6300 - val_loss: 0.6352 - val_accuracy: 0.6215\n",
      "Epoch 27/50\n",
      "51/51 [==============================] - 0s 3ms/step - loss: 0.6393 - accuracy: 0.6352 - val_loss: 0.6351 - val_accuracy: 0.6237\n",
      "Epoch 28/50\n",
      "51/51 [==============================] - 0s 3ms/step - loss: 0.6391 - accuracy: 0.6320 - val_loss: 0.6356 - val_accuracy: 0.6215\n",
      "Epoch 29/50\n",
      "51/51 [==============================] - 0s 3ms/step - loss: 0.6396 - accuracy: 0.6322 - val_loss: 0.6360 - val_accuracy: 0.6206\n",
      "Epoch 30/50\n",
      "51/51 [==============================] - 0s 2ms/step - loss: 0.6396 - accuracy: 0.6323 - val_loss: 0.6354 - val_accuracy: 0.6224\n",
      "Epoch 31/50\n",
      "51/51 [==============================] - 0s 3ms/step - loss: 0.6387 - accuracy: 0.6295 - val_loss: 0.6353 - val_accuracy: 0.6246\n",
      "Epoch 32/50\n",
      "51/51 [==============================] - 0s 3ms/step - loss: 0.6384 - accuracy: 0.6318 - val_loss: 0.6354 - val_accuracy: 0.6206\n",
      "Epoch 33/50\n",
      "51/51 [==============================] - 0s 3ms/step - loss: 0.6400 - accuracy: 0.6315 - val_loss: 0.6355 - val_accuracy: 0.6206\n",
      "Epoch 34/50\n",
      "51/51 [==============================] - 0s 3ms/step - loss: 0.6393 - accuracy: 0.6269 - val_loss: 0.6359 - val_accuracy: 0.6231\n",
      "Epoch 35/50\n",
      "51/51 [==============================] - 0s 3ms/step - loss: 0.6399 - accuracy: 0.6333 - val_loss: 0.6352 - val_accuracy: 0.6227\n",
      "Epoch 36/50\n",
      "51/51 [==============================] - 0s 3ms/step - loss: 0.6381 - accuracy: 0.6275 - val_loss: 0.6346 - val_accuracy: 0.6218\n",
      "Epoch 37/50\n",
      "51/51 [==============================] - 0s 3ms/step - loss: 0.6386 - accuracy: 0.6294 - val_loss: 0.6349 - val_accuracy: 0.6221\n",
      "Epoch 38/50\n",
      "51/51 [==============================] - 0s 4ms/step - loss: 0.6389 - accuracy: 0.6318 - val_loss: 0.6345 - val_accuracy: 0.6234\n",
      "Epoch 39/50\n",
      "51/51 [==============================] - 0s 3ms/step - loss: 0.6382 - accuracy: 0.6312 - val_loss: 0.6343 - val_accuracy: 0.6215\n",
      "Epoch 40/50\n",
      "51/51 [==============================] - 0s 3ms/step - loss: 0.6386 - accuracy: 0.6317 - val_loss: 0.6348 - val_accuracy: 0.6200\n",
      "Epoch 41/50\n",
      "51/51 [==============================] - 0s 3ms/step - loss: 0.6362 - accuracy: 0.6365 - val_loss: 0.6341 - val_accuracy: 0.6221\n",
      "Epoch 42/50\n",
      "51/51 [==============================] - 0s 3ms/step - loss: 0.6377 - accuracy: 0.6330 - val_loss: 0.6349 - val_accuracy: 0.6206\n",
      "Epoch 43/50\n",
      "51/51 [==============================] - 0s 3ms/step - loss: 0.6379 - accuracy: 0.6323 - val_loss: 0.6353 - val_accuracy: 0.6209\n",
      "Epoch 44/50\n",
      "51/51 [==============================] - 0s 3ms/step - loss: 0.6382 - accuracy: 0.6320 - val_loss: 0.6349 - val_accuracy: 0.6240\n",
      "Epoch 45/50\n",
      "51/51 [==============================] - 0s 3ms/step - loss: 0.6385 - accuracy: 0.6348 - val_loss: 0.6345 - val_accuracy: 0.6203\n",
      "Epoch 46/50\n",
      "51/51 [==============================] - 0s 3ms/step - loss: 0.6376 - accuracy: 0.6328 - val_loss: 0.6344 - val_accuracy: 0.6231\n",
      "Epoch 47/50\n",
      "51/51 [==============================] - 0s 3ms/step - loss: 0.6371 - accuracy: 0.6314 - val_loss: 0.6336 - val_accuracy: 0.6283\n",
      "Epoch 48/50\n",
      "51/51 [==============================] - 0s 3ms/step - loss: 0.6378 - accuracy: 0.6344 - val_loss: 0.6344 - val_accuracy: 0.6243\n",
      "Epoch 49/50\n",
      "51/51 [==============================] - 0s 3ms/step - loss: 0.6387 - accuracy: 0.6302 - val_loss: 0.6347 - val_accuracy: 0.6237\n",
      "Epoch 50/50\n",
      "51/51 [==============================] - 0s 3ms/step - loss: 0.6376 - accuracy: 0.6308 - val_loss: 0.6335 - val_accuracy: 0.6246\n"
     ]
    }
   ],
   "source": [
    "history=model.fit(X_train,y_train,\n",
    "          epochs=50,\n",
    "          batch_size=256,\n",
    "          validation_data=(X_test,y_test))"
   ]
  },
  {
   "cell_type": "code",
   "execution_count": 73,
   "metadata": {},
   "outputs": [
    {
     "name": "stdout",
     "output_type": "stream",
     "text": [
      "101/101 [==============================] - 0s 979us/step - loss: 0.6335 - accuracy: 0.6246\n"
     ]
    },
    {
     "data": {
      "text/plain": [
       "[0.6334601640701294, 0.6246115565299988]"
      ]
     },
     "execution_count": 73,
     "metadata": {},
     "output_type": "execute_result"
    }
   ],
   "source": [
    "model.evaluate(X_test,y_test)"
   ]
  },
  {
   "cell_type": "code",
   "execution_count": 74,
   "metadata": {},
   "outputs": [],
   "source": [
    "y_pred=model.predict(X_test)"
   ]
  },
  {
   "cell_type": "code",
   "execution_count": 75,
   "metadata": {},
   "outputs": [
    {
     "data": {
      "text/plain": [
       "array([[0.17968673],\n",
       "       [0.63630617],\n",
       "       [0.5241694 ],\n",
       "       ...,\n",
       "       [0.6814194 ],\n",
       "       [0.3570289 ],\n",
       "       [0.26826683]], dtype=float32)"
      ]
     },
     "execution_count": 75,
     "metadata": {},
     "output_type": "execute_result"
    }
   ],
   "source": [
    "y_pred"
   ]
  },
  {
   "cell_type": "code",
   "execution_count": 76,
   "metadata": {},
   "outputs": [],
   "source": [
    "predictions=(y_pred>0.5).astype('int')"
   ]
  },
  {
   "cell_type": "code",
   "execution_count": 77,
   "metadata": {},
   "outputs": [
    {
     "data": {
      "text/plain": [
       "array([[0],\n",
       "       [1],\n",
       "       [1],\n",
       "       ...,\n",
       "       [1],\n",
       "       [0],\n",
       "       [0]])"
      ]
     },
     "execution_count": 77,
     "metadata": {},
     "output_type": "execute_result"
    }
   ],
   "source": [
    "predictions"
   ]
  },
  {
   "cell_type": "code",
   "execution_count": 78,
   "metadata": {},
   "outputs": [
    {
     "data": {
      "text/plain": [
       "2504    1\n",
       "8434    1\n",
       "2719    0\n",
       "2547    0\n",
       "6665    0\n",
       "       ..\n",
       "5536    1\n",
       "1558    1\n",
       "8614    1\n",
       "4774    0\n",
       "4838    0\n",
       "Name: not.fully.paid, Length: 3218, dtype: int64"
      ]
     },
     "execution_count": 78,
     "metadata": {},
     "output_type": "execute_result"
    }
   ],
   "source": [
    "y_test"
   ]
  },
  {
   "cell_type": "code",
   "execution_count": 79,
   "metadata": {},
   "outputs": [
    {
     "data": {
      "text/plain": [
       "0.6246115599751398"
      ]
     },
     "execution_count": 79,
     "metadata": {},
     "output_type": "execute_result"
    }
   ],
   "source": [
    "from sklearn.metrics import accuracy_score,confusion_matrix,classification_report\n",
    "accuracy_score(predictions,y_test)"
   ]
  },
  {
   "cell_type": "code",
   "execution_count": 81,
   "metadata": {},
   "outputs": [
    {
     "name": "stdout",
     "output_type": "stream",
     "text": [
      "              precision    recall  f1-score   support\n",
      "\n",
      "           0       0.64      0.63      0.63      1656\n",
      "           1       0.61      0.62      0.61      1562\n",
      "\n",
      "    accuracy                           0.62      3218\n",
      "   macro avg       0.62      0.62      0.62      3218\n",
      "weighted avg       0.62      0.62      0.62      3218\n",
      "\n"
     ]
    }
   ],
   "source": [
    "print(classification_report(predictions,y_test))"
   ]
  },
  {
   "cell_type": "code",
   "execution_count": 82,
   "metadata": {},
   "outputs": [],
   "source": [
    "model.save('loan_default1.h5')"
   ]
  },
  {
   "cell_type": "markdown",
   "metadata": {},
   "source": [
    "## Model2 Architecture\n"
   ]
  },
  {
   "cell_type": "code",
   "execution_count": 16,
   "metadata": {},
   "outputs": [],
   "source": [
    "# batch Normalization\n",
    "from tensorflow.keras.layers import BatchNormalization"
   ]
  },
  {
   "cell_type": "code",
   "execution_count": 19,
   "metadata": {},
   "outputs": [],
   "source": [
    "# create the architecture model2\n",
    "# First ANN layer\n",
    "model1=Sequential()\n",
    "model1.add(Dense(128,activation='relu',input_shape=[9]))\n",
    "model1.add(BatchNormalization())\n",
    "model1.add(Dropout(0.20))\n",
    "\n",
    "# Second ANN layer\n",
    "model1.add(Dense(64,activation='tanh'))\n",
    "model1.add(BatchNormalization())\n",
    "model1.add(Dropout(0.20))\n",
    "           \n",
    "\n",
    "# third ANN layer\n",
    "model1.add(Dense(32,activation='relu'))\n",
    "model1.add(BatchNormalization())\n",
    "model1.add(Dropout(0.20))\n",
    "\n",
    "# output layer\n",
    "model1.add(Dense(1,activation='sigmoid'))"
   ]
  },
  {
   "cell_type": "code",
   "execution_count": 20,
   "metadata": {},
   "outputs": [
    {
     "name": "stdout",
     "output_type": "stream",
     "text": [
      "Model: \"sequential\"\n",
      "_________________________________________________________________\n",
      " Layer (type)                Output Shape              Param #   \n",
      "=================================================================\n",
      " dense (Dense)               (None, 128)               1280      \n",
      "                                                                 \n",
      " batch_normalization (BatchN  (None, 128)              512       \n",
      " ormalization)                                                   \n",
      "                                                                 \n",
      " dropout (Dropout)           (None, 128)               0         \n",
      "                                                                 \n",
      " dense_1 (Dense)             (None, 64)                8256      \n",
      "                                                                 \n",
      " batch_normalization_1 (Batc  (None, 64)               256       \n",
      " hNormalization)                                                 \n",
      "                                                                 \n",
      " dropout_1 (Dropout)         (None, 64)                0         \n",
      "                                                                 \n",
      " dense_2 (Dense)             (None, 32)                2080      \n",
      "                                                                 \n",
      " batch_normalization_2 (Batc  (None, 32)               128       \n",
      " hNormalization)                                                 \n",
      "                                                                 \n",
      " dropout_2 (Dropout)         (None, 32)                0         \n",
      "                                                                 \n",
      " dense_3 (Dense)             (None, 1)                 33        \n",
      "                                                                 \n",
      "=================================================================\n",
      "Total params: 12,545\n",
      "Trainable params: 12,097\n",
      "Non-trainable params: 448\n",
      "_________________________________________________________________\n"
     ]
    }
   ],
   "source": [
    "model1.summary()"
   ]
  },
  {
   "cell_type": "code",
   "execution_count": 21,
   "metadata": {},
   "outputs": [],
   "source": [
    "# compile the model\n",
    "model1.compile(loss='binary_crossentropy',optimizer='adam',metrics=['accuracy'])"
   ]
  },
  {
   "cell_type": "code",
   "execution_count": 22,
   "metadata": {
    "collapsed": true,
    "jupyter": {
     "outputs_hidden": true
    },
    "tags": []
   },
   "outputs": [
    {
     "name": "stdout",
     "output_type": "stream",
     "text": [
      "Epoch 1/100\n",
      "51/51 [==============================] - 1s 8ms/step - loss: 0.7748 - accuracy: 0.5655 - val_loss: 0.6628 - val_accuracy: 0.5998\n",
      "Epoch 2/100\n",
      "51/51 [==============================] - 0s 5ms/step - loss: 0.7036 - accuracy: 0.5858 - val_loss: 0.6565 - val_accuracy: 0.5938\n",
      "Epoch 3/100\n",
      "51/51 [==============================] - 0s 4ms/step - loss: 0.6855 - accuracy: 0.5987 - val_loss: 0.6513 - val_accuracy: 0.6010\n",
      "Epoch 4/100\n",
      "51/51 [==============================] - 0s 5ms/step - loss: 0.6727 - accuracy: 0.5988 - val_loss: 0.6493 - val_accuracy: 0.6085\n",
      "Epoch 5/100\n",
      "51/51 [==============================] - 0s 5ms/step - loss: 0.6651 - accuracy: 0.6082 - val_loss: 0.6459 - val_accuracy: 0.6103\n",
      "Epoch 6/100\n",
      "51/51 [==============================] - 0s 4ms/step - loss: 0.6603 - accuracy: 0.6078 - val_loss: 0.6460 - val_accuracy: 0.6125\n",
      "Epoch 7/100\n",
      "51/51 [==============================] - 0s 5ms/step - loss: 0.6519 - accuracy: 0.6142 - val_loss: 0.6444 - val_accuracy: 0.6162\n",
      "Epoch 8/100\n",
      "51/51 [==============================] - 0s 5ms/step - loss: 0.6528 - accuracy: 0.6085 - val_loss: 0.6421 - val_accuracy: 0.6190\n",
      "Epoch 9/100\n",
      "51/51 [==============================] - 0s 5ms/step - loss: 0.6446 - accuracy: 0.6194 - val_loss: 0.6407 - val_accuracy: 0.6209\n",
      "Epoch 10/100\n",
      "51/51 [==============================] - 0s 5ms/step - loss: 0.6452 - accuracy: 0.6215 - val_loss: 0.6406 - val_accuracy: 0.6218\n",
      "Epoch 11/100\n",
      "51/51 [==============================] - 0s 5ms/step - loss: 0.6427 - accuracy: 0.6280 - val_loss: 0.6394 - val_accuracy: 0.6215\n",
      "Epoch 12/100\n",
      "51/51 [==============================] - 0s 5ms/step - loss: 0.6391 - accuracy: 0.6304 - val_loss: 0.6386 - val_accuracy: 0.6231\n",
      "Epoch 13/100\n",
      "51/51 [==============================] - 0s 5ms/step - loss: 0.6355 - accuracy: 0.6273 - val_loss: 0.6386 - val_accuracy: 0.6249\n",
      "Epoch 14/100\n",
      "51/51 [==============================] - 0s 5ms/step - loss: 0.6384 - accuracy: 0.6316 - val_loss: 0.6395 - val_accuracy: 0.6265\n",
      "Epoch 15/100\n",
      "51/51 [==============================] - 0s 5ms/step - loss: 0.6371 - accuracy: 0.6327 - val_loss: 0.6370 - val_accuracy: 0.6200\n",
      "Epoch 16/100\n",
      "51/51 [==============================] - 0s 5ms/step - loss: 0.6336 - accuracy: 0.6351 - val_loss: 0.6364 - val_accuracy: 0.6280\n",
      "Epoch 17/100\n",
      "51/51 [==============================] - 0s 5ms/step - loss: 0.6346 - accuracy: 0.6373 - val_loss: 0.6363 - val_accuracy: 0.6268\n",
      "Epoch 18/100\n",
      "51/51 [==============================] - 0s 5ms/step - loss: 0.6318 - accuracy: 0.6385 - val_loss: 0.6353 - val_accuracy: 0.6255\n",
      "Epoch 19/100\n",
      "51/51 [==============================] - 0s 5ms/step - loss: 0.6322 - accuracy: 0.6402 - val_loss: 0.6344 - val_accuracy: 0.6358\n",
      "Epoch 20/100\n",
      "51/51 [==============================] - 0s 5ms/step - loss: 0.6298 - accuracy: 0.6408 - val_loss: 0.6336 - val_accuracy: 0.6324\n",
      "Epoch 21/100\n",
      "51/51 [==============================] - 0s 5ms/step - loss: 0.6293 - accuracy: 0.6363 - val_loss: 0.6343 - val_accuracy: 0.6280\n",
      "Epoch 22/100\n",
      "51/51 [==============================] - 0s 5ms/step - loss: 0.6287 - accuracy: 0.6391 - val_loss: 0.6323 - val_accuracy: 0.6346\n",
      "Epoch 23/100\n",
      "51/51 [==============================] - 0s 5ms/step - loss: 0.6293 - accuracy: 0.6401 - val_loss: 0.6319 - val_accuracy: 0.6321\n",
      "Epoch 24/100\n",
      "51/51 [==============================] - 0s 5ms/step - loss: 0.6293 - accuracy: 0.6403 - val_loss: 0.6337 - val_accuracy: 0.6305\n",
      "Epoch 25/100\n",
      "51/51 [==============================] - 0s 5ms/step - loss: 0.6267 - accuracy: 0.6443 - val_loss: 0.6306 - val_accuracy: 0.6330\n",
      "Epoch 26/100\n",
      "51/51 [==============================] - 0s 5ms/step - loss: 0.6259 - accuracy: 0.6467 - val_loss: 0.6295 - val_accuracy: 0.6336\n",
      "Epoch 27/100\n",
      "51/51 [==============================] - 0s 5ms/step - loss: 0.6263 - accuracy: 0.6374 - val_loss: 0.6295 - val_accuracy: 0.6346\n",
      "Epoch 28/100\n",
      "51/51 [==============================] - 0s 5ms/step - loss: 0.6254 - accuracy: 0.6450 - val_loss: 0.6295 - val_accuracy: 0.6398\n",
      "Epoch 29/100\n",
      "51/51 [==============================] - 0s 5ms/step - loss: 0.6231 - accuracy: 0.6477 - val_loss: 0.6286 - val_accuracy: 0.6370\n",
      "Epoch 30/100\n",
      "51/51 [==============================] - 0s 5ms/step - loss: 0.6237 - accuracy: 0.6501 - val_loss: 0.6274 - val_accuracy: 0.6411\n",
      "Epoch 31/100\n",
      "51/51 [==============================] - 0s 5ms/step - loss: 0.6213 - accuracy: 0.6492 - val_loss: 0.6280 - val_accuracy: 0.6389\n",
      "Epoch 32/100\n",
      "51/51 [==============================] - 0s 5ms/step - loss: 0.6217 - accuracy: 0.6489 - val_loss: 0.6256 - val_accuracy: 0.6408\n",
      "Epoch 33/100\n",
      "51/51 [==============================] - 0s 4ms/step - loss: 0.6200 - accuracy: 0.6524 - val_loss: 0.6262 - val_accuracy: 0.6408\n",
      "Epoch 34/100\n",
      "51/51 [==============================] - 0s 4ms/step - loss: 0.6189 - accuracy: 0.6493 - val_loss: 0.6245 - val_accuracy: 0.6476\n",
      "Epoch 35/100\n",
      "51/51 [==============================] - 0s 5ms/step - loss: 0.6162 - accuracy: 0.6530 - val_loss: 0.6245 - val_accuracy: 0.6408\n",
      "Epoch 36/100\n",
      "51/51 [==============================] - 0s 4ms/step - loss: 0.6181 - accuracy: 0.6540 - val_loss: 0.6240 - val_accuracy: 0.6492\n",
      "Epoch 37/100\n",
      "51/51 [==============================] - 0s 4ms/step - loss: 0.6168 - accuracy: 0.6512 - val_loss: 0.6232 - val_accuracy: 0.6454\n",
      "Epoch 38/100\n",
      "51/51 [==============================] - 0s 4ms/step - loss: 0.6181 - accuracy: 0.6483 - val_loss: 0.6227 - val_accuracy: 0.6389\n",
      "Epoch 39/100\n",
      "51/51 [==============================] - 0s 4ms/step - loss: 0.6143 - accuracy: 0.6528 - val_loss: 0.6193 - val_accuracy: 0.6510\n",
      "Epoch 40/100\n",
      "51/51 [==============================] - 0s 4ms/step - loss: 0.6143 - accuracy: 0.6579 - val_loss: 0.6186 - val_accuracy: 0.6504\n",
      "Epoch 41/100\n",
      "51/51 [==============================] - 0s 4ms/step - loss: 0.6141 - accuracy: 0.6568 - val_loss: 0.6184 - val_accuracy: 0.6513\n",
      "Epoch 42/100\n",
      "51/51 [==============================] - 0s 5ms/step - loss: 0.6117 - accuracy: 0.6604 - val_loss: 0.6183 - val_accuracy: 0.6526\n",
      "Epoch 43/100\n",
      "51/51 [==============================] - 0s 4ms/step - loss: 0.6109 - accuracy: 0.6621 - val_loss: 0.6178 - val_accuracy: 0.6498\n",
      "Epoch 44/100\n",
      "51/51 [==============================] - 0s 4ms/step - loss: 0.6089 - accuracy: 0.6621 - val_loss: 0.6167 - val_accuracy: 0.6507\n",
      "Epoch 45/100\n",
      "51/51 [==============================] - 0s 4ms/step - loss: 0.6111 - accuracy: 0.6562 - val_loss: 0.6169 - val_accuracy: 0.6566\n",
      "Epoch 46/100\n",
      "51/51 [==============================] - 0s 4ms/step - loss: 0.6082 - accuracy: 0.6597 - val_loss: 0.6140 - val_accuracy: 0.6659\n",
      "Epoch 47/100\n",
      "51/51 [==============================] - 0s 4ms/step - loss: 0.6083 - accuracy: 0.6680 - val_loss: 0.6157 - val_accuracy: 0.6504\n",
      "Epoch 48/100\n",
      "51/51 [==============================] - 0s 4ms/step - loss: 0.6071 - accuracy: 0.6617 - val_loss: 0.6117 - val_accuracy: 0.6572\n",
      "Epoch 49/100\n",
      "51/51 [==============================] - 0s 4ms/step - loss: 0.6094 - accuracy: 0.6617 - val_loss: 0.6144 - val_accuracy: 0.6607\n",
      "Epoch 50/100\n",
      "51/51 [==============================] - 0s 5ms/step - loss: 0.6061 - accuracy: 0.6659 - val_loss: 0.6110 - val_accuracy: 0.6566\n",
      "Epoch 51/100\n",
      "51/51 [==============================] - 0s 5ms/step - loss: 0.6040 - accuracy: 0.6691 - val_loss: 0.6105 - val_accuracy: 0.6638\n",
      "Epoch 52/100\n",
      "51/51 [==============================] - 0s 4ms/step - loss: 0.6020 - accuracy: 0.6675 - val_loss: 0.6092 - val_accuracy: 0.6675\n",
      "Epoch 53/100\n",
      "51/51 [==============================] - 0s 4ms/step - loss: 0.6029 - accuracy: 0.6701 - val_loss: 0.6066 - val_accuracy: 0.6628\n",
      "Epoch 54/100\n",
      "51/51 [==============================] - 0s 4ms/step - loss: 0.5999 - accuracy: 0.6741 - val_loss: 0.6090 - val_accuracy: 0.6532\n",
      "Epoch 55/100\n",
      "51/51 [==============================] - 0s 4ms/step - loss: 0.5987 - accuracy: 0.6704 - val_loss: 0.6061 - val_accuracy: 0.6656\n",
      "Epoch 56/100\n",
      "51/51 [==============================] - 0s 4ms/step - loss: 0.5996 - accuracy: 0.6739 - val_loss: 0.6079 - val_accuracy: 0.6603\n",
      "Epoch 57/100\n",
      "51/51 [==============================] - 0s 4ms/step - loss: 0.5986 - accuracy: 0.6724 - val_loss: 0.6040 - val_accuracy: 0.6628\n",
      "Epoch 58/100\n",
      "51/51 [==============================] - 0s 4ms/step - loss: 0.5972 - accuracy: 0.6753 - val_loss: 0.6039 - val_accuracy: 0.6675\n",
      "Epoch 59/100\n",
      "51/51 [==============================] - 0s 4ms/step - loss: 0.5969 - accuracy: 0.6761 - val_loss: 0.6016 - val_accuracy: 0.6818\n",
      "Epoch 60/100\n",
      "51/51 [==============================] - 0s 4ms/step - loss: 0.5989 - accuracy: 0.6732 - val_loss: 0.5999 - val_accuracy: 0.6675\n",
      "Epoch 61/100\n",
      "51/51 [==============================] - 0s 4ms/step - loss: 0.5931 - accuracy: 0.6809 - val_loss: 0.5987 - val_accuracy: 0.6765\n",
      "Epoch 62/100\n",
      "51/51 [==============================] - 0s 4ms/step - loss: 0.5950 - accuracy: 0.6775 - val_loss: 0.6003 - val_accuracy: 0.6731\n",
      "Epoch 63/100\n",
      "51/51 [==============================] - 0s 4ms/step - loss: 0.5934 - accuracy: 0.6793 - val_loss: 0.5978 - val_accuracy: 0.6756\n",
      "Epoch 64/100\n",
      "51/51 [==============================] - 0s 4ms/step - loss: 0.5921 - accuracy: 0.6807 - val_loss: 0.5961 - val_accuracy: 0.6750\n",
      "Epoch 65/100\n",
      "51/51 [==============================] - 0s 4ms/step - loss: 0.5927 - accuracy: 0.6756 - val_loss: 0.5963 - val_accuracy: 0.6768\n",
      "Epoch 66/100\n",
      "51/51 [==============================] - 0s 4ms/step - loss: 0.5937 - accuracy: 0.6778 - val_loss: 0.5941 - val_accuracy: 0.6784\n",
      "Epoch 67/100\n",
      "51/51 [==============================] - 0s 4ms/step - loss: 0.5881 - accuracy: 0.6866 - val_loss: 0.5937 - val_accuracy: 0.6805\n",
      "Epoch 68/100\n",
      "51/51 [==============================] - 0s 4ms/step - loss: 0.5901 - accuracy: 0.6763 - val_loss: 0.5914 - val_accuracy: 0.6812\n",
      "Epoch 69/100\n",
      "51/51 [==============================] - 0s 4ms/step - loss: 0.5867 - accuracy: 0.6868 - val_loss: 0.5911 - val_accuracy: 0.6796\n",
      "Epoch 70/100\n",
      "51/51 [==============================] - 0s 5ms/step - loss: 0.5846 - accuracy: 0.6854 - val_loss: 0.5886 - val_accuracy: 0.6799\n",
      "Epoch 71/100\n",
      "51/51 [==============================] - 0s 4ms/step - loss: 0.5842 - accuracy: 0.6852 - val_loss: 0.5888 - val_accuracy: 0.6827\n",
      "Epoch 72/100\n",
      "51/51 [==============================] - 0s 4ms/step - loss: 0.5833 - accuracy: 0.6907 - val_loss: 0.5910 - val_accuracy: 0.6833\n",
      "Epoch 73/100\n",
      "51/51 [==============================] - 0s 4ms/step - loss: 0.5885 - accuracy: 0.6802 - val_loss: 0.5878 - val_accuracy: 0.6865\n",
      "Epoch 74/100\n",
      "51/51 [==============================] - 0s 5ms/step - loss: 0.5837 - accuracy: 0.6846 - val_loss: 0.5864 - val_accuracy: 0.6852\n",
      "Epoch 75/100\n",
      "51/51 [==============================] - 0s 4ms/step - loss: 0.5831 - accuracy: 0.6882 - val_loss: 0.5867 - val_accuracy: 0.6868\n",
      "Epoch 76/100\n",
      "51/51 [==============================] - 0s 4ms/step - loss: 0.5841 - accuracy: 0.6870 - val_loss: 0.5844 - val_accuracy: 0.6861\n",
      "Epoch 77/100\n",
      "51/51 [==============================] - 0s 4ms/step - loss: 0.5771 - accuracy: 0.6981 - val_loss: 0.5858 - val_accuracy: 0.6905\n",
      "Epoch 78/100\n",
      "51/51 [==============================] - 0s 5ms/step - loss: 0.5790 - accuracy: 0.6862 - val_loss: 0.5855 - val_accuracy: 0.6796\n",
      "Epoch 79/100\n",
      "51/51 [==============================] - 0s 4ms/step - loss: 0.5787 - accuracy: 0.6920 - val_loss: 0.5836 - val_accuracy: 0.6852\n",
      "Epoch 80/100\n",
      "51/51 [==============================] - 0s 4ms/step - loss: 0.5758 - accuracy: 0.6941 - val_loss: 0.5812 - val_accuracy: 0.6927\n",
      "Epoch 81/100\n",
      "51/51 [==============================] - 0s 4ms/step - loss: 0.5766 - accuracy: 0.6986 - val_loss: 0.5809 - val_accuracy: 0.6961\n",
      "Epoch 82/100\n",
      "51/51 [==============================] - 0s 5ms/step - loss: 0.5790 - accuracy: 0.6860 - val_loss: 0.5824 - val_accuracy: 0.6868\n",
      "Epoch 83/100\n",
      "51/51 [==============================] - 0s 4ms/step - loss: 0.5730 - accuracy: 0.7000 - val_loss: 0.5780 - val_accuracy: 0.6964\n",
      "Epoch 84/100\n",
      "51/51 [==============================] - 0s 4ms/step - loss: 0.5766 - accuracy: 0.6916 - val_loss: 0.5774 - val_accuracy: 0.6970\n",
      "Epoch 85/100\n",
      "51/51 [==============================] - 0s 4ms/step - loss: 0.5765 - accuracy: 0.6947 - val_loss: 0.5779 - val_accuracy: 0.6930\n",
      "Epoch 86/100\n",
      "51/51 [==============================] - 0s 5ms/step - loss: 0.5746 - accuracy: 0.6986 - val_loss: 0.5777 - val_accuracy: 0.6989\n",
      "Epoch 87/100\n",
      "51/51 [==============================] - 0s 4ms/step - loss: 0.5714 - accuracy: 0.6951 - val_loss: 0.5764 - val_accuracy: 0.6955\n",
      "Epoch 88/100\n",
      "51/51 [==============================] - 0s 4ms/step - loss: 0.5739 - accuracy: 0.6996 - val_loss: 0.5749 - val_accuracy: 0.7057\n",
      "Epoch 89/100\n",
      "51/51 [==============================] - 0s 4ms/step - loss: 0.5698 - accuracy: 0.6980 - val_loss: 0.5746 - val_accuracy: 0.7048\n",
      "Epoch 90/100\n",
      "51/51 [==============================] - 0s 5ms/step - loss: 0.5730 - accuracy: 0.6990 - val_loss: 0.5742 - val_accuracy: 0.7001\n",
      "Epoch 91/100\n",
      "51/51 [==============================] - 0s 4ms/step - loss: 0.5679 - accuracy: 0.7004 - val_loss: 0.5753 - val_accuracy: 0.7011\n",
      "Epoch 92/100\n",
      "51/51 [==============================] - 0s 5ms/step - loss: 0.5659 - accuracy: 0.7020 - val_loss: 0.5707 - val_accuracy: 0.7026\n",
      "Epoch 93/100\n",
      "51/51 [==============================] - 0s 4ms/step - loss: 0.5680 - accuracy: 0.6977 - val_loss: 0.5700 - val_accuracy: 0.7026\n",
      "Epoch 94/100\n",
      "51/51 [==============================] - 0s 4ms/step - loss: 0.5695 - accuracy: 0.7006 - val_loss: 0.5704 - val_accuracy: 0.7067\n",
      "Epoch 95/100\n",
      "51/51 [==============================] - 0s 5ms/step - loss: 0.5686 - accuracy: 0.7005 - val_loss: 0.5708 - val_accuracy: 0.7070\n",
      "Epoch 96/100\n",
      "51/51 [==============================] - 0s 4ms/step - loss: 0.5672 - accuracy: 0.7013 - val_loss: 0.5697 - val_accuracy: 0.7063\n",
      "Epoch 97/100\n",
      "51/51 [==============================] - 0s 4ms/step - loss: 0.5663 - accuracy: 0.7004 - val_loss: 0.5687 - val_accuracy: 0.7101\n",
      "Epoch 98/100\n",
      "51/51 [==============================] - 0s 4ms/step - loss: 0.5649 - accuracy: 0.7037 - val_loss: 0.5660 - val_accuracy: 0.7113\n",
      "Epoch 99/100\n",
      "51/51 [==============================] - 0s 5ms/step - loss: 0.5643 - accuracy: 0.7073 - val_loss: 0.5664 - val_accuracy: 0.7091\n",
      "Epoch 100/100\n",
      "51/51 [==============================] - 0s 4ms/step - loss: 0.5645 - accuracy: 0.7066 - val_loss: 0.5663 - val_accuracy: 0.7150\n"
     ]
    }
   ],
   "source": [
    "history=model1.fit(X_train,y_train,\n",
    "          epochs=100,\n",
    "          batch_size=256,\n",
    "          validation_data=(X_test,y_test))"
   ]
  },
  {
   "cell_type": "code",
   "execution_count": 23,
   "metadata": {},
   "outputs": [
    {
     "name": "stdout",
     "output_type": "stream",
     "text": [
      "101/101 [==============================] - 0s 1ms/step - loss: 0.5663 - accuracy: 0.7150\n"
     ]
    },
    {
     "data": {
      "text/plain": [
       "[0.5662867426872253, 0.715040385723114]"
      ]
     },
     "execution_count": 23,
     "metadata": {},
     "output_type": "execute_result"
    }
   ],
   "source": [
    "model1.evaluate(X_test,y_test)"
   ]
  },
  {
   "cell_type": "code",
   "execution_count": 24,
   "metadata": {},
   "outputs": [
    {
     "name": "stdout",
     "output_type": "stream",
     "text": [
      "403/403 [==============================] - 0s 1ms/step - loss: 0.4959 - accuracy: 0.7648\n"
     ]
    },
    {
     "data": {
      "text/plain": [
       "[0.4958527088165283, 0.7648383975028992]"
      ]
     },
     "execution_count": 24,
     "metadata": {},
     "output_type": "execute_result"
    }
   ],
   "source": [
    "model1.evaluate(X_train,y_train)"
   ]
  },
  {
   "cell_type": "markdown",
   "metadata": {},
   "source": [
    "# Hyparameter tuning in Keras"
   ]
  },
  {
   "cell_type": "code",
   "execution_count": 25,
   "metadata": {
    "collapsed": true,
    "jupyter": {
     "outputs_hidden": true
    },
    "tags": []
   },
   "outputs": [
    {
     "name": "stdout",
     "output_type": "stream",
     "text": [
      "Defaulting to user installation because normal site-packages is not writeable\n",
      "Requirement already satisfied: keras-tuner in /usr/local/lib/python3.7/site-packages (1.1.2)\n",
      "Requirement already satisfied: packaging in /usr/local/lib/python3.7/site-packages (from keras-tuner) (21.0)\n",
      "Requirement already satisfied: kt-legacy in /usr/local/lib/python3.7/site-packages (from keras-tuner) (1.0.4)\n",
      "Requirement already satisfied: tensorboard in /usr/local/lib/python3.7/site-packages (from keras-tuner) (2.8.0)\n",
      "Requirement already satisfied: requests in /usr/local/lib/python3.7/site-packages (from keras-tuner) (2.23.0)\n",
      "Requirement already satisfied: ipython in /usr/local/lib/python3.7/site-packages (from keras-tuner) (7.13.0)\n",
      "Requirement already satisfied: numpy in /usr/local/lib/python3.7/site-packages (from keras-tuner) (1.21.5)\n",
      "Requirement already satisfied: pickleshare in /usr/local/lib/python3.7/site-packages (from ipython->keras-tuner) (0.7.5)\n",
      "Requirement already satisfied: traitlets>=4.2 in /usr/local/lib/python3.7/site-packages (from ipython->keras-tuner) (5.1.1)\n",
      "Requirement already satisfied: setuptools>=18.5 in /usr/local/lib/python3.7/site-packages (from ipython->keras-tuner) (41.2.0)\n",
      "Requirement already satisfied: jedi>=0.10 in /usr/local/lib/python3.7/site-packages (from ipython->keras-tuner) (0.16.0)\n",
      "Requirement already satisfied: pygments in /usr/local/lib/python3.7/site-packages (from ipython->keras-tuner) (2.6.1)\n",
      "Requirement already satisfied: backcall in /usr/local/lib/python3.7/site-packages (from ipython->keras-tuner) (0.1.0)\n",
      "Requirement already satisfied: decorator in /usr/local/lib/python3.7/site-packages (from ipython->keras-tuner) (4.4.2)\n",
      "Requirement already satisfied: pexpect in /usr/local/lib/python3.7/site-packages (from ipython->keras-tuner) (4.8.0)\n",
      "Requirement already satisfied: prompt-toolkit!=3.0.0,!=3.0.1,<3.1.0,>=2.0.0 in /usr/local/lib/python3.7/site-packages (from ipython->keras-tuner) (3.0.5)\n",
      "Requirement already satisfied: pyparsing>=2.0.2 in /usr/local/lib/python3.7/site-packages (from packaging->keras-tuner) (2.4.6)\n",
      "Requirement already satisfied: chardet<4,>=3.0.2 in /usr/local/lib/python3.7/site-packages (from requests->keras-tuner) (3.0.4)\n",
      "Requirement already satisfied: certifi>=2017.4.17 in /usr/local/lib/python3.7/site-packages (from requests->keras-tuner) (2019.11.28)\n",
      "Requirement already satisfied: urllib3!=1.25.0,!=1.25.1,<1.26,>=1.21.1 in /usr/local/lib/python3.7/site-packages (from requests->keras-tuner) (1.25.8)\n",
      "Requirement already satisfied: idna<3,>=2.5 in /usr/local/lib/python3.7/site-packages (from requests->keras-tuner) (2.9)\n",
      "Requirement already satisfied: google-auth<3,>=1.6.3 in /usr/local/lib/python3.7/site-packages (from tensorboard->keras-tuner) (1.13.1)\n",
      "Requirement already satisfied: wheel>=0.26 in /usr/local/lib/python3.7/site-packages (from tensorboard->keras-tuner) (0.34.2)\n",
      "Requirement already satisfied: markdown>=2.6.8 in /usr/local/lib/python3.7/site-packages (from tensorboard->keras-tuner) (3.2.1)\n",
      "Requirement already satisfied: tensorboard-plugin-wit>=1.6.0 in /usr/local/lib/python3.7/site-packages (from tensorboard->keras-tuner) (1.6.0.post2)\n",
      "Requirement already satisfied: werkzeug>=0.11.15 in /usr/local/lib/python3.7/site-packages (from tensorboard->keras-tuner) (1.0.1)\n",
      "Requirement already satisfied: tensorboard-data-server<0.7.0,>=0.6.0 in /usr/local/lib/python3.7/site-packages (from tensorboard->keras-tuner) (0.6.1)\n",
      "Requirement already satisfied: google-auth-oauthlib<0.5,>=0.4.1 in /usr/local/lib/python3.7/site-packages (from tensorboard->keras-tuner) (0.4.1)\n",
      "Requirement already satisfied: grpcio>=1.24.3 in /usr/local/lib/python3.7/site-packages (from tensorboard->keras-tuner) (1.27.2)\n",
      "Requirement already satisfied: absl-py>=0.4 in /usr/local/lib/python3.7/site-packages (from tensorboard->keras-tuner) (0.9.0)\n",
      "Requirement already satisfied: protobuf>=3.6.0 in /usr/local/lib/python3.7/site-packages (from tensorboard->keras-tuner) (3.20.1)\n",
      "Requirement already satisfied: six in /usr/local/lib/python3.7/site-packages (from absl-py>=0.4->tensorboard->keras-tuner) (1.14.0)\n",
      "Requirement already satisfied: pyasn1-modules>=0.2.1 in /usr/local/lib/python3.7/site-packages (from google-auth<3,>=1.6.3->tensorboard->keras-tuner) (0.2.8)\n",
      "Requirement already satisfied: cachetools<5.0,>=2.0.0 in /usr/local/lib/python3.7/site-packages (from google-auth<3,>=1.6.3->tensorboard->keras-tuner) (4.0.0)\n",
      "Requirement already satisfied: rsa<4.1,>=3.1.4 in /usr/local/lib/python3.7/site-packages (from google-auth<3,>=1.6.3->tensorboard->keras-tuner) (4.0)\n",
      "Requirement already satisfied: requests-oauthlib>=0.7.0 in /usr/local/lib/python3.7/site-packages (from google-auth-oauthlib<0.5,>=0.4.1->tensorboard->keras-tuner) (1.3.0)\n",
      "Requirement already satisfied: parso>=0.5.2 in /usr/local/lib/python3.7/site-packages (from jedi>=0.10->ipython->keras-tuner) (0.6.2)\n",
      "Requirement already satisfied: wcwidth in /usr/local/lib/python3.7/site-packages (from prompt-toolkit!=3.0.0,!=3.0.1,<3.1.0,>=2.0.0->ipython->keras-tuner) (0.1.9)\n",
      "Requirement already satisfied: ptyprocess>=0.5 in /usr/local/lib/python3.7/site-packages (from pexpect->ipython->keras-tuner) (0.6.0)\n",
      "Requirement already satisfied: pyasn1<0.5.0,>=0.4.6 in /usr/local/lib/python3.7/site-packages (from pyasn1-modules>=0.2.1->google-auth<3,>=1.6.3->tensorboard->keras-tuner) (0.4.8)\n",
      "Requirement already satisfied: oauthlib>=3.0.0 in /usr/local/lib/python3.7/site-packages (from requests-oauthlib>=0.7.0->google-auth-oauthlib<0.5,>=0.4.1->tensorboard->keras-tuner) (3.1.0)\n",
      "\u001b[33mWARNING: You are using pip version 22.0.3; however, version 23.0.1 is available.\n",
      "You should consider upgrading via the '/usr/local/bin/python3 -m pip install --upgrade pip' command.\u001b[0m\u001b[33m\n",
      "\u001b[0m"
     ]
    }
   ],
   "source": [
    "!pip install keras-tuner"
   ]
  },
  {
   "cell_type": "code",
   "execution_count": 32,
   "metadata": {},
   "outputs": [],
   "source": [
    "import keras_tuner\n",
    "import tensorflow"
   ]
  },
  {
   "cell_type": "code",
   "execution_count": 33,
   "metadata": {},
   "outputs": [],
   "source": [
    "def build_model(hp):\n",
    "    model=Sequential()\n",
    "    \n",
    "    # first hidden layer\n",
    "    model.add(Dense(units=hp.Int('units',min_value=32,max_value=1024,step=16),\n",
    "                   activation=hp.Choice('activation',['relu','tanh']),input_shape=[9]))\n",
    "    \n",
    "    model.add(BatchNormalization())\n",
    "    model.add(Dropout(hp.Float('rate',min_value=0.1,max_value=0.5,step=0.1)))\n",
    "                      \n",
    "        \n",
    "    # Second hidden layer\n",
    "    model.add(Dense(units=hp.Int('units',min_value=32,max_value=1024,step=16),\n",
    "                   activation=hp.Choice('activation',['relu','tanh'])))\n",
    "    \n",
    "    model.add(BatchNormalization())\n",
    "    model.add(Dropout(hp.Float('rate',min_value=0.1,max_value=0.5,step=0.1)))\n",
    "    \n",
    "     # third hidden layer\n",
    "    model.add(Dense(units=hp.Int('units',min_value=32,max_value=1024,step=16),\n",
    "                   activation=hp.Choice('activation',['relu','tanh'])))\n",
    "    \n",
    "    model.add(BatchNormalization())\n",
    "    model.add(Dropout(hp.Float('rate',min_value=0.1,max_value=0.5,step=0.1)))\n",
    "    \n",
    "    model.add(Dense(1,activation='sigmoid'))\n",
    "    \n",
    "    learning_rate=hp.Float('learning_rate',min_value=0.001,max_value=0.1,step=0.01)\n",
    "        \n",
    "    model.compile(loss='binary_crossentropy',\n",
    "                  optimizer=tensorflow.keras.optimizers.Adam(learning_rate),\n",
    "                 metrics=['accuracy'])\n",
    "    return model"
   ]
  },
  {
   "cell_type": "code",
   "execution_count": 34,
   "metadata": {},
   "outputs": [],
   "source": [
    "import keras_tuner as kt"
   ]
  },
  {
   "cell_type": "code",
   "execution_count": 35,
   "metadata": {},
   "outputs": [
    {
     "data": {
      "text/plain": [
       "<keras.engine.sequential.Sequential at 0x7f2d1c419c50>"
      ]
     },
     "execution_count": 35,
     "metadata": {},
     "output_type": "execute_result"
    }
   ],
   "source": [
    "build_model(kt.HyperParameters())"
   ]
  },
  {
   "cell_type": "code",
   "execution_count": 36,
   "metadata": {},
   "outputs": [],
   "source": [
    "rtuner=kt.RandomSearch(hypermodel=build_model,\n",
    "                       objective='val_accuracy',\n",
    "                       max_trials=10                   \n",
    "                      )"
   ]
  },
  {
   "cell_type": "code",
   "execution_count": 37,
   "metadata": {},
   "outputs": [
    {
     "name": "stdout",
     "output_type": "stream",
     "text": [
      "Trial 10 Complete [00h 01m 54s]\n",
      "val_accuracy: 0.6109384894371033\n",
      "\n",
      "Best val_accuracy So Far: 0.6886264681816101\n",
      "Total elapsed time: 00h 37m 47s\n",
      "INFO:tensorflow:Oracle triggered exit\n"
     ]
    }
   ],
   "source": [
    "rtuner.search(X_train,y_train,\n",
    "             epochs=50,validation_data=(X_test,y_test),\n",
    "             verbose=2)"
   ]
  },
  {
   "cell_type": "code",
   "execution_count": 40,
   "metadata": {},
   "outputs": [],
   "source": [
    "par=rtuner.get_best_hyperparameters()"
   ]
  },
  {
   "cell_type": "code",
   "execution_count": 50,
   "metadata": {
    "collapsed": true,
    "jupyter": {
     "outputs_hidden": true
    },
    "tags": []
   },
   "outputs": [
    {
     "ename": "KeyError",
     "evalue": "'units1 does not exist.'",
     "output_type": "error",
     "traceback": [
      "\u001b[0;31m---------------------------------------------------------------------------\u001b[0m",
      "\u001b[0;31mKeyError\u001b[0m                                  Traceback (most recent call last)",
      "\u001b[0;32m<ipython-input-50-4b97b70ff686>\u001b[0m in \u001b[0;36m<module>\u001b[0;34m\u001b[0m\n\u001b[1;32m      1\u001b[0m \u001b[0;32mfor\u001b[0m \u001b[0mh_param\u001b[0m \u001b[0;32min\u001b[0m \u001b[0;34m[\u001b[0m\u001b[0;34mf\"units{i}\"\u001b[0m \u001b[0;32mfor\u001b[0m \u001b[0mi\u001b[0m \u001b[0;32min\u001b[0m \u001b[0mrange\u001b[0m\u001b[0;34m(\u001b[0m\u001b[0;36m1\u001b[0m\u001b[0;34m,\u001b[0m\u001b[0;36m4\u001b[0m\u001b[0;34m)\u001b[0m\u001b[0;34m]\u001b[0m\u001b[0;34m+\u001b[0m\u001b[0;34m[\u001b[0m\u001b[0;34m'learning_rate'\u001b[0m\u001b[0;34m]\u001b[0m\u001b[0;34m:\u001b[0m\u001b[0;34m\u001b[0m\u001b[0;34m\u001b[0m\u001b[0m\n\u001b[0;32m----> 2\u001b[0;31m     \u001b[0mprint\u001b[0m\u001b[0;34m(\u001b[0m\u001b[0mh_param\u001b[0m\u001b[0;34m,\u001b[0m\u001b[0mrtuner\u001b[0m\u001b[0;34m.\u001b[0m\u001b[0mget_best_hyperparameters\u001b[0m\u001b[0;34m(\u001b[0m\u001b[0;34m)\u001b[0m\u001b[0;34m[\u001b[0m\u001b[0;36m0\u001b[0m\u001b[0;34m]\u001b[0m\u001b[0;34m.\u001b[0m\u001b[0mget\u001b[0m\u001b[0;34m(\u001b[0m\u001b[0mh_param\u001b[0m\u001b[0;34m)\u001b[0m\u001b[0;34m)\u001b[0m\u001b[0;34m\u001b[0m\u001b[0;34m\u001b[0m\u001b[0m\n\u001b[0m",
      "\u001b[0;32m/usr/local/lib/python3.7/site-packages/keras_tuner/engine/hyperparameters.py\u001b[0m in \u001b[0;36mget\u001b[0;34m(self, name)\u001b[0m\n\u001b[1;32m    739\u001b[0m             \u001b[0;32mraise\u001b[0m \u001b[0mValueError\u001b[0m\u001b[0;34m(\u001b[0m\u001b[0;34m\"{} is currently inactive.\"\u001b[0m\u001b[0;34m.\u001b[0m\u001b[0mformat\u001b[0m\u001b[0;34m(\u001b[0m\u001b[0mname\u001b[0m\u001b[0;34m)\u001b[0m\u001b[0;34m)\u001b[0m\u001b[0;34m\u001b[0m\u001b[0;34m\u001b[0m\u001b[0m\n\u001b[1;32m    740\u001b[0m         \u001b[0;32melse\u001b[0m\u001b[0;34m:\u001b[0m\u001b[0;34m\u001b[0m\u001b[0;34m\u001b[0m\u001b[0m\n\u001b[0;32m--> 741\u001b[0;31m             \u001b[0;32mraise\u001b[0m \u001b[0mKeyError\u001b[0m\u001b[0;34m(\u001b[0m\u001b[0;34m\"{} does not exist.\"\u001b[0m\u001b[0;34m.\u001b[0m\u001b[0mformat\u001b[0m\u001b[0;34m(\u001b[0m\u001b[0mname\u001b[0m\u001b[0;34m)\u001b[0m\u001b[0;34m)\u001b[0m\u001b[0;34m\u001b[0m\u001b[0;34m\u001b[0m\u001b[0m\n\u001b[0m\u001b[1;32m    742\u001b[0m \u001b[0;34m\u001b[0m\u001b[0m\n\u001b[1;32m    743\u001b[0m     \u001b[0;32mdef\u001b[0m \u001b[0m__getitem__\u001b[0m\u001b[0;34m(\u001b[0m\u001b[0mself\u001b[0m\u001b[0;34m,\u001b[0m \u001b[0mname\u001b[0m\u001b[0;34m)\u001b[0m\u001b[0;34m:\u001b[0m\u001b[0;34m\u001b[0m\u001b[0;34m\u001b[0m\u001b[0m\n",
      "\u001b[0;31mKeyError\u001b[0m: 'units1 does not exist.'"
     ]
    }
   ],
   "source": [
    "for h_param in [f\"units{i}\" for i in range(1,4)]+['learning_rate']:\n",
    "    print(h_param,rtuner.get_best_hyperparameters()[0].get(h_param))\n"
   ]
  },
  {
   "cell_type": "code",
   "execution_count": 47,
   "metadata": {},
   "outputs": [
    {
     "data": {
      "text/plain": [
       "<keras_tuner.engine.hyperparameters.HyperParameters at 0x7f2d92535390>"
      ]
     },
     "execution_count": 47,
     "metadata": {},
     "output_type": "execute_result"
    }
   ],
   "source": [
    "par"
   ]
  },
  {
   "cell_type": "code",
   "execution_count": 43,
   "metadata": {},
   "outputs": [],
   "source": [
    "models=rtuner.get_best_models()"
   ]
  },
  {
   "cell_type": "code",
   "execution_count": 44,
   "metadata": {},
   "outputs": [
    {
     "data": {
      "text/plain": [
       "1"
      ]
     },
     "execution_count": 44,
     "metadata": {},
     "output_type": "execute_result"
    }
   ],
   "source": [
    "len(models)"
   ]
  },
  {
   "cell_type": "code",
   "execution_count": 45,
   "metadata": {},
   "outputs": [
    {
     "name": "stdout",
     "output_type": "stream",
     "text": [
      "Model: \"sequential\"\n",
      "_________________________________________________________________\n",
      " Layer (type)                Output Shape              Param #   \n",
      "=================================================================\n",
      " dense (Dense)               (None, 752)               7520      \n",
      "                                                                 \n",
      " batch_normalization (BatchN  (None, 752)              3008      \n",
      " ormalization)                                                   \n",
      "                                                                 \n",
      " dropout (Dropout)           (None, 752)               0         \n",
      "                                                                 \n",
      " dense_1 (Dense)             (None, 752)               566256    \n",
      "                                                                 \n",
      " batch_normalization_1 (Batc  (None, 752)              3008      \n",
      " hNormalization)                                                 \n",
      "                                                                 \n",
      " dropout_1 (Dropout)         (None, 752)               0         \n",
      "                                                                 \n",
      " dense_2 (Dense)             (None, 752)               566256    \n",
      "                                                                 \n",
      " batch_normalization_2 (Batc  (None, 752)              3008      \n",
      " hNormalization)                                                 \n",
      "                                                                 \n",
      " dropout_2 (Dropout)         (None, 752)               0         \n",
      "                                                                 \n",
      " dense_3 (Dense)             (None, 1)                 753       \n",
      "                                                                 \n",
      "=================================================================\n",
      "Total params: 1,149,809\n",
      "Trainable params: 1,145,297\n",
      "Non-trainable params: 4,512\n",
      "_________________________________________________________________\n"
     ]
    }
   ],
   "source": [
    "models[0].summary()"
   ]
  },
  {
   "cell_type": "code",
   "execution_count": 51,
   "metadata": {},
   "outputs": [],
   "source": [
    "y_pred=models[0].predict(X_test)>=0.5"
   ]
  },
  {
   "cell_type": "code",
   "execution_count": 52,
   "metadata": {},
   "outputs": [
    {
     "data": {
      "text/plain": [
       "array([[ True],\n",
       "       [ True],\n",
       "       [ True],\n",
       "       ...,\n",
       "       [ True],\n",
       "       [ True],\n",
       "       [ True]])"
      ]
     },
     "execution_count": 52,
     "metadata": {},
     "output_type": "execute_result"
    }
   ],
   "source": [
    "y_pred"
   ]
  },
  {
   "cell_type": "code",
   "execution_count": 53,
   "metadata": {},
   "outputs": [
    {
     "data": {
      "text/plain": [
       "0.6886264760720945"
      ]
     },
     "execution_count": 53,
     "metadata": {},
     "output_type": "execute_result"
    }
   ],
   "source": [
    "from sklearn.metrics import accuracy_score\n",
    "accuracy_score(y_test,y_pred)"
   ]
  },
  {
   "cell_type": "code",
   "execution_count": null,
   "metadata": {},
   "outputs": [],
   "source": []
  }
 ],
 "metadata": {
  "kernelspec": {
   "display_name": "Python 3",
   "language": "python",
   "name": "python3"
  },
  "language_info": {
   "codemirror_mode": {
    "name": "ipython",
    "version": 3
   },
   "file_extension": ".py",
   "mimetype": "text/x-python",
   "name": "python",
   "nbconvert_exporter": "python",
   "pygments_lexer": "ipython3",
   "version": "3.7.6"
  }
 },
 "nbformat": 4,
 "nbformat_minor": 4
}
