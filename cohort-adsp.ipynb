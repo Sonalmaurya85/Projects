{
 "cells": [
  {
   "cell_type": "code",
   "execution_count": null,
   "id": "4e5ca3b2",
   "metadata": {},
   "outputs": [],
   "source": [
    "import math as mt"
   ]
  },
  {
   "cell_type": "code",
   "execution_count": null,
   "id": "4ad90124",
   "metadata": {},
   "outputs": [],
   "source": [
    "B = 64"
   ]
  },
  {
   "cell_type": "code",
   "execution_count": null,
   "id": "712dbe47",
   "metadata": {},
   "outputs": [],
   "source": [
    "print(B)"
   ]
  },
  {
   "cell_type": "code",
   "execution_count": null,
   "id": "2ae5e65b",
   "metadata": {},
   "outputs": [],
   "source": [
    "B"
   ]
  },
  {
   "cell_type": "code",
   "execution_count": null,
   "id": "347db058",
   "metadata": {},
   "outputs": [],
   "source": [
    "print(mt.sqrt(B))"
   ]
  },
  {
   "cell_type": "code",
   "execution_count": null,
   "id": "53fdfe0d",
   "metadata": {},
   "outputs": [],
   "source": [
    "a=56"
   ]
  },
  {
   "cell_type": "code",
   "execution_count": null,
   "id": "9112c706",
   "metadata": {},
   "outputs": [],
   "source": [
    "a"
   ]
  },
  {
   "cell_type": "code",
   "execution_count": null,
   "id": "e90efc1d",
   "metadata": {},
   "outputs": [],
   "source": [
    "#to know the datatype an object stores,we use the function 'type'\n",
    "type(a)"
   ]
  },
  {
   "cell_type": "code",
   "execution_count": null,
   "id": "428405c9",
   "metadata": {},
   "outputs": [],
   "source": [
    "b=10.5"
   ]
  },
  {
   "cell_type": "code",
   "execution_count": null,
   "id": "50579ad9",
   "metadata": {},
   "outputs": [],
   "source": [
    "type(b)"
   ]
  },
  {
   "cell_type": "code",
   "execution_count": null,
   "id": "da893c19",
   "metadata": {},
   "outputs": [],
   "source": [
    "c='My text'"
   ]
  },
  {
   "cell_type": "code",
   "execution_count": null,
   "id": "89491e6f",
   "metadata": {},
   "outputs": [],
   "source": [
    "c"
   ]
  },
  {
   "cell_type": "code",
   "execution_count": null,
   "id": "cd6c2056",
   "metadata": {},
   "outputs": [],
   "source": [
    "type(c)"
   ]
  },
  {
   "cell_type": "code",
   "execution_count": null,
   "id": "83021b8a",
   "metadata": {},
   "outputs": [],
   "source": [
    "d = \"secondtext\""
   ]
  },
  {
   "cell_type": "code",
   "execution_count": null,
   "id": "80795533",
   "metadata": {},
   "outputs": [],
   "source": [
    "d"
   ]
  },
  {
   "cell_type": "code",
   "execution_count": null,
   "id": "1b5a69c3",
   "metadata": {},
   "outputs": [],
   "source": [
    "type(d)"
   ]
  },
  {
   "cell_type": "code",
   "execution_count": null,
   "id": "a5325f38",
   "metadata": {},
   "outputs": [],
   "source": [
    "e = \"\"\"wierd\"\"\""
   ]
  },
  {
   "cell_type": "code",
   "execution_count": null,
   "id": "3d275608",
   "metadata": {},
   "outputs": [],
   "source": [
    "type(e)"
   ]
  },
  {
   "cell_type": "code",
   "execution_count": null,
   "id": "8320080d",
   "metadata": {},
   "outputs": [],
   "source": [
    "print(e)"
   ]
  },
  {
   "cell_type": "markdown",
   "id": "c313dd17",
   "metadata": {},
   "source": [
    "### Other data types in python"
   ]
  },
  {
   "cell_type": "code",
   "execution_count": null,
   "id": "8f5dc55f",
   "metadata": {},
   "outputs": [],
   "source": [
    "a = 56\n",
    "b=89\n",
    "a\n",
    "b     #problem of multiple assignments-assigning values to more than one object within the same coding cell"
   ]
  },
  {
   "cell_type": "code",
   "execution_count": null,
   "id": "397463c4",
   "metadata": {
    "scrolled": true
   },
   "outputs": [],
   "source": [
    "a = 56\n",
    "b=89\n",
    "print(a)\n",
    "print(b)    #we use the print function to print out multiple objects at the same time"
   ]
  },
  {
   "cell_type": "markdown",
   "id": "c4a3a139",
   "metadata": {},
   "source": [
    "## Other data types in python- Lists,Dictionaries,sets and tuples"
   ]
  },
  {
   "cell_type": "markdown",
   "id": "22c91da3",
   "metadata": {},
   "source": [
    "### Tuples-:"
   ]
  },
  {
   "cell_type": "markdown",
   "id": "644bef7f",
   "metadata": {},
   "source": [
    "### A tuple is a collection of elements which are ordered and immutable. Tuples are written with round brackets and a comma is the separater between two elements of a tuple. A tuple contains mixed data types"
   ]
  },
  {
   "cell_type": "code",
   "execution_count": null,
   "id": "69bd2b03",
   "metadata": {},
   "outputs": [],
   "source": [
    "first_tuple=(12,'test',56.5,(8,9),True)   #True and False are distinct datatypes in python called Boolean datatypes"
   ]
  },
  {
   "cell_type": "code",
   "execution_count": null,
   "id": "93e36216",
   "metadata": {},
   "outputs": [],
   "source": [
    "first_tuple"
   ]
  },
  {
   "cell_type": "markdown",
   "id": "afa76e18",
   "metadata": {},
   "source": [
    "## 0---1--2---3 = positive indices---->left to right\n",
    "## -1---(-2)---(-3) = negetive indices--->right to left"
   ]
  },
  {
   "cell_type": "code",
   "execution_count": null,
   "id": "c60993ab",
   "metadata": {},
   "outputs": [],
   "source": [
    "first_tuple[3]=60"
   ]
  },
  {
   "cell_type": "code",
   "execution_count": null,
   "id": "022b0c34",
   "metadata": {},
   "outputs": [],
   "source": [
    "#slicing of elements of a tuple\n",
    "first_tuple[1:4] #the lower limit is included while the upper limit is excluded"
   ]
  },
  {
   "cell_type": "markdown",
   "id": "fef6136c",
   "metadata": {},
   "source": [
    "## Lists--: Lists are created with box brackets,contains mixed data types,and are mutable"
   ]
  },
  {
   "cell_type": "code",
   "execution_count": null,
   "id": "cb4a9429",
   "metadata": {},
   "outputs": [],
   "source": [
    "first_list = ['text',100,95.6,(5,6),None,False]   #None is a datatype in python"
   ]
  },
  {
   "cell_type": "code",
   "execution_count": null,
   "id": "a5401cc8",
   "metadata": {},
   "outputs": [],
   "source": [
    "first_list"
   ]
  },
  {
   "cell_type": "code",
   "execution_count": null,
   "id": "b46194fd",
   "metadata": {},
   "outputs": [],
   "source": [
    "type(first_list)"
   ]
  },
  {
   "cell_type": "code",
   "execution_count": null,
   "id": "3b6c1c39",
   "metadata": {},
   "outputs": [],
   "source": [
    "first_list[5]=90"
   ]
  },
  {
   "cell_type": "code",
   "execution_count": null,
   "id": "06dfc36c",
   "metadata": {},
   "outputs": [],
   "source": [
    "first_list"
   ]
  },
  {
   "cell_type": "code",
   "execution_count": null,
   "id": "22b448d5",
   "metadata": {},
   "outputs": [],
   "source": [
    "#adding a value(element) to this list with the 'append' function\n",
    "first_list.append('extra')\n"
   ]
  },
  {
   "cell_type": "code",
   "execution_count": null,
   "id": "ff59a6e6",
   "metadata": {},
   "outputs": [],
   "source": [
    "first_list"
   ]
  },
  {
   "cell_type": "code",
   "execution_count": null,
   "id": "97e24107",
   "metadata": {},
   "outputs": [],
   "source": [
    "first_list.remove('text')"
   ]
  },
  {
   "cell_type": "code",
   "execution_count": null,
   "id": "baaa6135",
   "metadata": {},
   "outputs": [],
   "source": [
    "first_list    #removes the 1st element from the list"
   ]
  },
  {
   "cell_type": "code",
   "execution_count": null,
   "id": "0ef39a07",
   "metadata": {},
   "outputs": [],
   "source": [
    "first_list.pop(2) #removing elements with the help of the index values"
   ]
  },
  {
   "cell_type": "code",
   "execution_count": null,
   "id": "6087c992",
   "metadata": {},
   "outputs": [],
   "source": [
    "first_list"
   ]
  },
  {
   "cell_type": "code",
   "execution_count": null,
   "id": "96229a52",
   "metadata": {},
   "outputs": [],
   "source": [
    "#adding an element in a specific position using index\n",
    "first_list.insert(3,'nothing')"
   ]
  },
  {
   "cell_type": "code",
   "execution_count": null,
   "id": "f215b367",
   "metadata": {},
   "outputs": [],
   "source": [
    "first_list"
   ]
  },
  {
   "cell_type": "markdown",
   "id": "f38851c1",
   "metadata": {},
   "source": [
    "## Sets-: A set is an unordered collection of Unique elements. Sets are store multiple elements in a single container. Set items are immutable(cant be modified),but you can remove elements and add new elements. Duplicates are not allowed.Sets are created with curly brackets,unless you use the set function"
   ]
  },
  {
   "cell_type": "code",
   "execution_count": null,
   "id": "20615797",
   "metadata": {},
   "outputs": [],
   "source": [
    "set1= {\"abc\",34,True,40,\"male\"}"
   ]
  },
  {
   "cell_type": "code",
   "execution_count": null,
   "id": "1f58b63c",
   "metadata": {},
   "outputs": [],
   "source": [
    "#unordered feature\n",
    "set1"
   ]
  },
  {
   "cell_type": "code",
   "execution_count": null,
   "id": "0561de3d",
   "metadata": {},
   "outputs": [],
   "source": [
    "#unique feature-no duplicates\n",
    "set11= {\"abc\",34,True,40,\"male\",40,34,\"abc\"}"
   ]
  },
  {
   "cell_type": "code",
   "execution_count": null,
   "id": "0378943a",
   "metadata": {},
   "outputs": [],
   "source": [
    "set11"
   ]
  },
  {
   "cell_type": "code",
   "execution_count": null,
   "id": "25307e7d",
   "metadata": {},
   "outputs": [],
   "source": [
    "type(set11)"
   ]
  },
  {
   "cell_type": "code",
   "execution_count": null,
   "id": "ffd4897c",
   "metadata": {},
   "outputs": [],
   "source": [
    "len(set11) #checking the number of elements in the set len=length"
   ]
  },
  {
   "cell_type": "code",
   "execution_count": null,
   "id": "566d4516",
   "metadata": {},
   "outputs": [],
   "source": [
    "#creating a set without the {} braces and using the function instead\n",
    "set3 = set([10,20,30,40])"
   ]
  },
  {
   "cell_type": "code",
   "execution_count": null,
   "id": "d1e90e5b",
   "metadata": {},
   "outputs": [],
   "source": [
    "type(set3)"
   ]
  },
  {
   "cell_type": "code",
   "execution_count": null,
   "id": "c1f9af3d",
   "metadata": {},
   "outputs": [],
   "source": [
    "set4 =set([50,60,70,80])"
   ]
  },
  {
   "cell_type": "code",
   "execution_count": null,
   "id": "d8802988",
   "metadata": {},
   "outputs": [],
   "source": [
    "#using the OR operater\n",
    "set3|set4"
   ]
  },
  {
   "cell_type": "markdown",
   "id": "c074b9ce",
   "metadata": {},
   "source": [
    "### The OR operator implies union of two sets and the AND operator implies the intersection of two sets"
   ]
  },
  {
   "cell_type": "code",
   "execution_count": null,
   "id": "fff4fafb",
   "metadata": {},
   "outputs": [],
   "source": [
    "set3&set4"
   ]
  },
  {
   "cell_type": "code",
   "execution_count": null,
   "id": "ffd92f0b",
   "metadata": {},
   "outputs": [],
   "source": [
    "#update function---updating a exsisting set with new values. values will be updated in the beginning\n",
    "set3.update([3,2,1])"
   ]
  },
  {
   "cell_type": "code",
   "execution_count": null,
   "id": "cd7ac442",
   "metadata": {},
   "outputs": [],
   "source": [
    "set3"
   ]
  },
  {
   "cell_type": "code",
   "execution_count": null,
   "id": "6edc1d9d",
   "metadata": {},
   "outputs": [],
   "source": [
    "#discard function\n",
    "set6 = {'python','R','Java','Scala'}"
   ]
  },
  {
   "cell_type": "code",
   "execution_count": null,
   "id": "5132bf71",
   "metadata": {},
   "outputs": [],
   "source": [
    "set6.discard('Scala')"
   ]
  },
  {
   "cell_type": "code",
   "execution_count": null,
   "id": "cdf0cf0e",
   "metadata": {},
   "outputs": [],
   "source": [
    "set6"
   ]
  },
  {
   "cell_type": "markdown",
   "id": "0b013314",
   "metadata": {},
   "source": [
    "## Dictionaries- Are created with {} brackets and is composed of a key-value pair. Keys are immutable,values are mutable. Again instead of the default 1-1 mapping we also have a 1-many mapping"
   ]
  },
  {
   "cell_type": "code",
   "execution_count": null,
   "id": "fa5c9724",
   "metadata": {},
   "outputs": [],
   "source": [
    "first_dict = {'John':'Travolta','Summer':'Mangoes','strength':45}"
   ]
  },
  {
   "cell_type": "code",
   "execution_count": null,
   "id": "69ffb449",
   "metadata": {},
   "outputs": [],
   "source": [
    "first_dict"
   ]
  },
  {
   "cell_type": "code",
   "execution_count": null,
   "id": "974c12cb",
   "metadata": {},
   "outputs": [],
   "source": [
    "type(first_dict)"
   ]
  },
  {
   "cell_type": "code",
   "execution_count": null,
   "id": "34b06d96",
   "metadata": {},
   "outputs": [],
   "source": [
    "first_dict.keys()"
   ]
  },
  {
   "cell_type": "code",
   "execution_count": null,
   "id": "5584490d",
   "metadata": {},
   "outputs": [],
   "source": [
    "first_dict.values()"
   ]
  },
  {
   "cell_type": "code",
   "execution_count": null,
   "id": "17fa84d3",
   "metadata": {},
   "outputs": [],
   "source": [
    "#slicing dictionaries--cannot be done with the values\n",
    "first_dict['Mangoes']"
   ]
  },
  {
   "cell_type": "code",
   "execution_count": null,
   "id": "43d6edf0",
   "metadata": {},
   "outputs": [],
   "source": [
    "#slicing with keys only works\n",
    "first_dict['Summer']"
   ]
  },
  {
   "cell_type": "code",
   "execution_count": null,
   "id": "51d45310",
   "metadata": {},
   "outputs": [],
   "source": [
    "#updating the values of a key\n",
    "first_dict.update({'strength':44})"
   ]
  },
  {
   "cell_type": "code",
   "execution_count": null,
   "id": "dcf7ac55",
   "metadata": {},
   "outputs": [],
   "source": [
    "first_dict"
   ]
  },
  {
   "cell_type": "code",
   "execution_count": null,
   "id": "977eec2a",
   "metadata": {},
   "outputs": [],
   "source": [
    "first_dict.update({'Number':44})  #this will create a new key-value pair,if we want to update the key"
   ]
  },
  {
   "cell_type": "code",
   "execution_count": null,
   "id": "f8f6cc6c",
   "metadata": {},
   "outputs": [],
   "source": [
    "first_dict"
   ]
  },
  {
   "cell_type": "code",
   "execution_count": null,
   "id": "604a8517",
   "metadata": {},
   "outputs": [],
   "source": [
    "#we can always delete a key\n",
    "del first_dict['Number']"
   ]
  },
  {
   "cell_type": "code",
   "execution_count": null,
   "id": "4173acd4",
   "metadata": {},
   "outputs": [],
   "source": [
    "first_dict"
   ]
  },
  {
   "cell_type": "markdown",
   "id": "592ceb78",
   "metadata": {},
   "source": [
    "## NUMPY"
   ]
  },
  {
   "cell_type": "code",
   "execution_count": null,
   "id": "a9ace6b7",
   "metadata": {},
   "outputs": [],
   "source": [
    "distance = [65,56,45,35]"
   ]
  },
  {
   "cell_type": "code",
   "execution_count": null,
   "id": "96e0104b",
   "metadata": {},
   "outputs": [],
   "source": [
    "time =[2.3,3.2,4.3,3.4]"
   ]
  },
  {
   "cell_type": "code",
   "execution_count": null,
   "id": "55d2915f",
   "metadata": {},
   "outputs": [],
   "source": [
    "type(time)"
   ]
  },
  {
   "cell_type": "code",
   "execution_count": null,
   "id": "d3312883",
   "metadata": {},
   "outputs": [],
   "source": [
    "#lets compute the speed\n",
    "speed = distance/time"
   ]
  },
  {
   "cell_type": "code",
   "execution_count": null,
   "id": "1460b087",
   "metadata": {},
   "outputs": [],
   "source": [
    "import numpy as nm"
   ]
  },
  {
   "cell_type": "code",
   "execution_count": null,
   "id": "51adc3b2",
   "metadata": {},
   "outputs": [],
   "source": [
    "dist_array = nm.array(distance)"
   ]
  },
  {
   "cell_type": "code",
   "execution_count": null,
   "id": "2923103c",
   "metadata": {},
   "outputs": [],
   "source": [
    "type(dist_array)"
   ]
  },
  {
   "cell_type": "code",
   "execution_count": null,
   "id": "16dab0e0",
   "metadata": {},
   "outputs": [],
   "source": [
    "time_array = nm.array(time)"
   ]
  },
  {
   "cell_type": "code",
   "execution_count": null,
   "id": "412e19c7",
   "metadata": {},
   "outputs": [],
   "source": [
    "type(time_array)"
   ]
  },
  {
   "cell_type": "code",
   "execution_count": null,
   "id": "f6069f7d",
   "metadata": {},
   "outputs": [],
   "source": [
    "#lets calculate the speed!\n",
    "speed = dist_array/time_array"
   ]
  },
  {
   "cell_type": "code",
   "execution_count": null,
   "id": "c4a94a83",
   "metadata": {},
   "outputs": [],
   "source": [
    "speed"
   ]
  },
  {
   "cell_type": "code",
   "execution_count": null,
   "id": "be3c75ef",
   "metadata": {},
   "outputs": [],
   "source": [
    "#lets try multiplying a value to a tuple!\n",
    "tuple1=(23,56,22,12)"
   ]
  },
  {
   "cell_type": "code",
   "execution_count": null,
   "id": "944fca98",
   "metadata": {},
   "outputs": [],
   "source": [
    "#lets multiply a scaler value 3\n",
    "tuple1*3"
   ]
  },
  {
   "cell_type": "code",
   "execution_count": null,
   "id": "b2a7f743",
   "metadata": {},
   "outputs": [],
   "source": [
    "tuple_array = nm.array(tuple1)"
   ]
  },
  {
   "cell_type": "code",
   "execution_count": null,
   "id": "5502e3d6",
   "metadata": {},
   "outputs": [],
   "source": [
    "type(tuple_array)"
   ]
  },
  {
   "cell_type": "code",
   "execution_count": null,
   "id": "3ad59510",
   "metadata": {},
   "outputs": [],
   "source": [
    "tuple_array*3"
   ]
  },
  {
   "cell_type": "code",
   "execution_count": null,
   "id": "64ff8870",
   "metadata": {},
   "outputs": [],
   "source": [
    "#string values in tuple\n",
    "tup2=('ammm','b','c')"
   ]
  },
  {
   "cell_type": "code",
   "execution_count": null,
   "id": "a7d08fff",
   "metadata": {},
   "outputs": [],
   "source": [
    "tup2*5"
   ]
  },
  {
   "cell_type": "code",
   "execution_count": null,
   "id": "00299f65",
   "metadata": {},
   "outputs": [],
   "source": [
    "tup2a = nm.array(tup2)"
   ]
  },
  {
   "cell_type": "code",
   "execution_count": null,
   "id": "0c7a1376",
   "metadata": {},
   "outputs": [],
   "source": [
    "type(tup2a)"
   ]
  },
  {
   "cell_type": "code",
   "execution_count": null,
   "id": "b958187d",
   "metadata": {},
   "outputs": [],
   "source": [
    "tup2a*5"
   ]
  },
  {
   "cell_type": "markdown",
   "id": "726c7c66",
   "metadata": {},
   "source": [
    "## Arrays always ensure an elementwise operation of the mathematical operands on the arrays"
   ]
  },
  {
   "cell_type": "code",
   "execution_count": null,
   "id": "ba223d10",
   "metadata": {},
   "outputs": [],
   "source": [
    "#elementwise operation\n",
    "list2 = [4,5,6,8]\n",
    "list3 = [9,10,11,12]"
   ]
  },
  {
   "cell_type": "code",
   "execution_count": null,
   "id": "7380e166",
   "metadata": {},
   "outputs": [],
   "source": [
    "#convert the lists to an array to check on element wise operation\n",
    "list2a = nm.array(list2)\n",
    "list3a = nm.array(list3)"
   ]
  },
  {
   "cell_type": "code",
   "execution_count": null,
   "id": "f95bf7d3",
   "metadata": {},
   "outputs": [],
   "source": [
    "list2a+list3a"
   ]
  },
  {
   "cell_type": "code",
   "execution_count": null,
   "id": "c157dfa1",
   "metadata": {},
   "outputs": [],
   "source": [
    "## The numpy array object has a property called 'dtype'which return the data type of the elements stored in the array.\n",
    "import numpy as np\n",
    "arr1 = np.array([8,9,3,4])\n",
    "print(arr1.dtype)"
   ]
  },
  {
   "cell_type": "code",
   "execution_count": null,
   "id": "dad2c7c3",
   "metadata": {},
   "outputs": [],
   "source": [
    "arr2 = np.array(['apple','banana','cherryblossom'])"
   ]
  },
  {
   "cell_type": "code",
   "execution_count": null,
   "id": "f89141f9",
   "metadata": {},
   "outputs": [],
   "source": [
    "arr2.dtype"
   ]
  },
  {
   "cell_type": "code",
   "execution_count": null,
   "id": "734a9e86",
   "metadata": {},
   "outputs": [],
   "source": [
    "print(arr2.dtype)"
   ]
  },
  {
   "cell_type": "markdown",
   "id": "0894d032",
   "metadata": {},
   "source": [
    "#### Both datatypes 'unicode' and 'str' work on character data."
   ]
  },
  {
   "cell_type": "code",
   "execution_count": null,
   "id": "2a7fd14e",
   "metadata": {},
   "outputs": [],
   "source": [
    "## Ndim function returns the dimensions of an array\n",
    "arr3 = np.array([1,2,3,4])\n",
    "arr3.ndim"
   ]
  },
  {
   "cell_type": "code",
   "execution_count": null,
   "id": "e1fceef6",
   "metadata": {},
   "outputs": [],
   "source": [
    "#creating a 2-dim array\n",
    "arr4 = np.array([[1,2,3,4],[5,6,7,8]])\n",
    "arr4.ndim"
   ]
  },
  {
   "cell_type": "code",
   "execution_count": null,
   "id": "b81729e8",
   "metadata": {},
   "outputs": [],
   "source": [
    "arr4 = [[1,2,3,4],[5,6,7,8]]\n",
    "abc = np.ndim(arr4)\n",
    "print(abc)\n",
    "\n",
    "#arr4.ndim"
   ]
  },
  {
   "cell_type": "code",
   "execution_count": null,
   "id": "00998a6b",
   "metadata": {},
   "outputs": [],
   "source": [
    "##ndim is an attribute specific to arrays."
   ]
  },
  {
   "cell_type": "code",
   "execution_count": null,
   "id": "587b3247",
   "metadata": {},
   "outputs": [],
   "source": [
    "#creating a 3D array\n",
    "arr5 = np.array([[[5,6],[45,55]],[[88,92],[60,77]],[[89,90],[20,30]]])\n",
    "print(\"We are creating a 3-D array:\",arr5)"
   ]
  },
  {
   "cell_type": "markdown",
   "id": "95067822",
   "metadata": {},
   "source": [
    "### Reshaping means changing the shape of an array."
   ]
  },
  {
   "cell_type": "markdown",
   "id": "a42f8d6f",
   "metadata": {},
   "source": [
    "### The shape is an array attribute,which returns a tuple consisting of the array dimensions"
   ]
  },
  {
   "cell_type": "code",
   "execution_count": null,
   "id": "37ec992e",
   "metadata": {},
   "outputs": [],
   "source": [
    "l=np.array([[1,2,3],[4,5,6]])\n",
    "print(l.shape)\n",
    "print(l)"
   ]
  },
  {
   "cell_type": "code",
   "execution_count": null,
   "id": "e4e9b00f",
   "metadata": {},
   "outputs": [],
   "source": [
    "m_nw = np.array([[1,2,3],[4,5,6]])\n",
    "m_nw.shape =(3,2)\n",
    "print(m_nw)"
   ]
  },
  {
   "cell_type": "code",
   "execution_count": null,
   "id": "15b610f0",
   "metadata": {},
   "outputs": [],
   "source": [
    "m_nw = np.array([[1,2,3],[4,5,6]])\n",
    "m_nw.shape =(3,4)\n",
    "print(m_nw)"
   ]
  },
  {
   "cell_type": "code",
   "execution_count": null,
   "id": "f036ae2f",
   "metadata": {},
   "outputs": [],
   "source": [
    "#reshaping an array helps us to add or remove dimensions in an array\n",
    "#Converting a 2-D array to a 3-D array\n",
    "\n",
    "array_2d = np.array([[65,55,35,45],[100,78,88,98],[185,165,56,99]])\n",
    "array_2d"
   ]
  },
  {
   "cell_type": "code",
   "execution_count": null,
   "id": "810cb9da",
   "metadata": {},
   "outputs": [],
   "source": [
    "array_2d.shape"
   ]
  },
  {
   "cell_type": "code",
   "execution_count": null,
   "id": "afd2ec20",
   "metadata": {},
   "outputs": [],
   "source": [
    "array_3d = array_2d.reshape(3,2,2)\n",
    "print(array_3d)"
   ]
  },
  {
   "cell_type": "code",
   "execution_count": null,
   "id": "06dc09da",
   "metadata": {},
   "outputs": [],
   "source": [
    "#In the above code, 1st component= no of arrays,2nd component= no of rows,\n",
    "#3rd component= no of columns"
   ]
  },
  {
   "cell_type": "code",
   "execution_count": null,
   "id": "44222669",
   "metadata": {},
   "outputs": [],
   "source": [
    "array_3d.shape"
   ]
  },
  {
   "cell_type": "code",
   "execution_count": null,
   "id": "f04800f7",
   "metadata": {},
   "outputs": [],
   "source": [
    "#using the size attribute to find the number of elements in the array\n",
    "array_3d.size"
   ]
  },
  {
   "cell_type": "markdown",
   "id": "6d3427b1",
   "metadata": {},
   "source": [
    "### Accesing array elements by indexing"
   ]
  },
  {
   "cell_type": "code",
   "execution_count": null,
   "id": "3261236d",
   "metadata": {},
   "outputs": [],
   "source": [
    "first_trial=[10,16,18,26]\n",
    "second_trial=[12,11,21,24]"
   ]
  },
  {
   "cell_type": "code",
   "execution_count": null,
   "id": "8e2e0aed",
   "metadata": {},
   "outputs": [],
   "source": [
    "first_trial_arr = np.array(first_trial)\n",
    "second_trial_arr = np.array(second_trial)"
   ]
  },
  {
   "cell_type": "code",
   "execution_count": null,
   "id": "ba1e7737",
   "metadata": {},
   "outputs": [],
   "source": [
    "addition = first_trial_arr+second_trial_arr\n",
    "addition"
   ]
  },
  {
   "cell_type": "code",
   "execution_count": null,
   "id": "12cdb4b0",
   "metadata": {},
   "outputs": [],
   "source": [
    "#creating a 2-D array using data of both trials\n",
    "cyclist_trials = np.array([[10,16,18,26],[12,11,21,24]])"
   ]
  },
  {
   "cell_type": "code",
   "execution_count": null,
   "id": "4a10eefd",
   "metadata": {},
   "outputs": [],
   "source": [
    "cyclist_trials"
   ]
  },
  {
   "cell_type": "code",
   "execution_count": null,
   "id": "172594f8",
   "metadata": {},
   "outputs": [],
   "source": [
    "dist_first_trial = cyclist_trials[0]\n",
    "dist_first_trial"
   ]
  },
  {
   "cell_type": "code",
   "execution_count": null,
   "id": "fd947a6a",
   "metadata": {},
   "outputs": [],
   "source": [
    "#I want to find the distance covered by only the first cyclist in both the trials\n",
    "# As i want the info from both the rows I will use the ':' operator.\n",
    "# the ':' means=select all"
   ]
  },
  {
   "cell_type": "code",
   "execution_count": null,
   "id": "c5a336cf",
   "metadata": {},
   "outputs": [],
   "source": [
    "first_cyclist_data =cyclist_trials[:,0]\n",
    "first_cyclist_data"
   ]
  },
  {
   "cell_type": "code",
   "execution_count": null,
   "id": "5f542eb1",
   "metadata": {},
   "outputs": [],
   "source": [
    "cyclist_trials[:, (1,2)]   #the distance covered by the 2nd and 3rd cyclist in both trials"
   ]
  },
  {
   "cell_type": "code",
   "execution_count": null,
   "id": "23e464c6",
   "metadata": {},
   "outputs": [],
   "source": [
    "#replicating the code\n",
    "cyclist_trials[:,1:3]"
   ]
  },
  {
   "cell_type": "markdown",
   "id": "b06d792e",
   "metadata": {},
   "source": [
    "### Numpy array slicing\n",
    "#### slicing with indexes [start:end]\n",
    "#### step method [start:end:step]"
   ]
  },
  {
   "cell_type": "code",
   "execution_count": 2,
   "id": "23304ad2",
   "metadata": {},
   "outputs": [
    {
     "name": "stdout",
     "output_type": "stream",
     "text": [
      "6\n",
      "[30 50 70]\n"
     ]
    }
   ],
   "source": [
    "import numpy as np\n",
    "arrs = np.array([10,30,50,70,90,110]) \n",
    "print(arrs.size)\n",
    "print(arrs[1:4]) #we will start reading from 1(2nd ele) and stop before the 4th index(5th ele)"
   ]
  },
  {
   "cell_type": "code",
   "execution_count": 3,
   "id": "711ad0dd",
   "metadata": {},
   "outputs": [
    {
     "name": "stdout",
     "output_type": "stream",
     "text": [
      "[10 30 50 70]\n"
     ]
    }
   ],
   "source": [
    "print(arrs[0:4]) #upper index is excluded,lower index included"
   ]
  },
  {
   "cell_type": "code",
   "execution_count": 4,
   "id": "3d015a21",
   "metadata": {},
   "outputs": [
    {
     "name": "stdout",
     "output_type": "stream",
     "text": [
      "[ 30  50  70  90 110]\n"
     ]
    }
   ],
   "source": [
    "#mentioning one index-reading all elements starting from one index till the end\n",
    "print(arrs[1:])  #no upper limit specified\n"
   ]
  },
  {
   "cell_type": "code",
   "execution_count": 5,
   "id": "c4033fa2",
   "metadata": {},
   "outputs": [
    {
     "name": "stdout",
     "output_type": "stream",
     "text": [
      "[10 30 50 70 90]\n",
      "[10 30 50 70 90]\n"
     ]
    }
   ],
   "source": [
    "#i want to read all elements till the 5th element(index:4)\n",
    "print(arrs[0:5])\n",
    "#we can also do this-\n",
    "print(arrs[:5])  #upper index is ignored"
   ]
  },
  {
   "cell_type": "code",
   "execution_count": 6,
   "id": "5c5e2df8",
   "metadata": {},
   "outputs": [
    {
     "name": "stdout",
     "output_type": "stream",
     "text": [
      "[10 30 50 70 90]\n"
     ]
    }
   ],
   "source": [
    "#reading with negetive indices\n",
    "print(arrs[-6:-1])"
   ]
  },
  {
   "cell_type": "code",
   "execution_count": 7,
   "id": "99e7af3c",
   "metadata": {},
   "outputs": [
    {
     "data": {
      "text/plain": [
       "array([20, 40, 60])"
      ]
     },
     "execution_count": 7,
     "metadata": {},
     "output_type": "execute_result"
    }
   ],
   "source": [
    "#step method\n",
    "arrs2= np.array([10,20,30,40,50,60,70])\n",
    "arrs2[1:6:2]"
   ]
  },
  {
   "cell_type": "code",
   "execution_count": 10,
   "id": "af45976e",
   "metadata": {},
   "outputs": [
    {
     "data": {
      "text/plain": [
       "array([10, 30, 50, 70])"
      ]
     },
     "execution_count": 10,
     "metadata": {},
     "output_type": "execute_result"
    }
   ],
   "source": [
    "#reading every alternate element in the array\n",
    "arrs2[::2]"
   ]
  },
  {
   "cell_type": "code",
   "execution_count": 9,
   "id": "c23f5f47",
   "metadata": {},
   "outputs": [
    {
     "data": {
      "text/plain": [
       "array([10, 40, 70])"
      ]
     },
     "execution_count": 9,
     "metadata": {},
     "output_type": "execute_result"
    }
   ],
   "source": [
    "arrs2[::3]"
   ]
  },
  {
   "cell_type": "markdown",
   "id": "d558633a",
   "metadata": {},
   "source": [
    "### slicing a 2-D array"
   ]
  },
  {
   "cell_type": "code",
   "execution_count": 11,
   "id": "2a1bf34b",
   "metadata": {},
   "outputs": [
    {
     "data": {
      "text/plain": [
       "array([[ 1,  2,  3,  4,  5],\n",
       "       [11, 22, 33, 44, 55]])"
      ]
     },
     "execution_count": 11,
     "metadata": {},
     "output_type": "execute_result"
    }
   ],
   "source": [
    "arr2dd= np.array([[1,2,3,4,5],[11,22,33,44,55]])\n",
    "arr2dd"
   ]
  },
  {
   "cell_type": "code",
   "execution_count": 12,
   "id": "842c3e11",
   "metadata": {},
   "outputs": [
    {
     "name": "stdout",
     "output_type": "stream",
     "text": [
      "[[ 2  3  4]\n",
      " [22 33 44]]\n"
     ]
    }
   ],
   "source": [
    "print(arr2dd[0:2,1:4])"
   ]
  },
  {
   "cell_type": "code",
   "execution_count": 13,
   "id": "014378ec",
   "metadata": {},
   "outputs": [
    {
     "name": "stdout",
     "output_type": "stream",
     "text": [
      "[22 33 44]\n"
     ]
    }
   ],
   "source": [
    "print(arr2dd[1,1:4])"
   ]
  },
  {
   "cell_type": "code",
   "execution_count": 14,
   "id": "8b418167",
   "metadata": {},
   "outputs": [
    {
     "name": "stdout",
     "output_type": "stream",
     "text": [
      "[ 3 33]\n"
     ]
    }
   ],
   "source": [
    "print(arr2dd[0:2,2])"
   ]
  },
  {
   "cell_type": "code",
   "execution_count": 15,
   "id": "75ce8b12",
   "metadata": {},
   "outputs": [
    {
     "data": {
      "text/plain": [
       "18.0"
      ]
     },
     "execution_count": 15,
     "metadata": {},
     "output_type": "execute_result"
    }
   ],
   "source": [
    "#calculating the mean of a 2D array\n",
    "array_2mean=np.mean(arr2dd)\n",
    "array_2mean"
   ]
  },
  {
   "cell_type": "code",
   "execution_count": null,
   "id": "0f99cda7",
   "metadata": {},
   "outputs": [],
   "source": [
    "#differences between the copy and view of an array\n",
    "# The main difference is ,the copy is an independent object and any changes made to the copy\n",
    "#will not impact the original array. Copy is also referred to as a deep copy\n",
    "#View in the other hand,depends on the original array,and any changes made to the view will impact\n",
    "#the original array and vice versa. also called the shallow copy."
   ]
  },
  {
   "cell_type": "code",
   "execution_count": null,
   "id": "32a183f0",
   "metadata": {},
   "outputs": [],
   "source": [
    "arr9 = np.array([6,7,8,9,10])\n",
    "x= arr9.copy()\n",
    "arr9[0]=45"
   ]
  },
  {
   "cell_type": "code",
   "execution_count": null,
   "id": "bbe166f4",
   "metadata": {},
   "outputs": [],
   "source": [
    "print(arr9)\n",
    "print(x)"
   ]
  },
  {
   "cell_type": "code",
   "execution_count": null,
   "id": "66a5ba39",
   "metadata": {},
   "outputs": [],
   "source": [
    "#creating a view of arr9\n",
    "y=arr9.view()\n",
    "print(y)\n",
    "print(arr9)"
   ]
  },
  {
   "cell_type": "code",
   "execution_count": null,
   "id": "6d0ce9a3",
   "metadata": {},
   "outputs": [],
   "source": [
    "y[0]=39\n",
    "print(y)\n",
    "print(arr9)"
   ]
  },
  {
   "cell_type": "code",
   "execution_count": null,
   "id": "736c33a0",
   "metadata": {},
   "outputs": [],
   "source": [
    "print(x.base)\n",
    "print(y.base)"
   ]
  },
  {
   "cell_type": "code",
   "execution_count": null,
   "id": "e13e55fd",
   "metadata": {},
   "outputs": [],
   "source": [
    "## Universal functions in numpy\n",
    "arr_1d = np.sqrt([4,5,6])\n",
    "arr_1d\n"
   ]
  },
  {
   "cell_type": "code",
   "execution_count": null,
   "id": "a241e2bd",
   "metadata": {},
   "outputs": [],
   "source": [
    "arr_1d = np.sqrt([-4,5,-6])\n",
    "arr_1d\n"
   ]
  },
  {
   "cell_type": "code",
   "execution_count": null,
   "id": "c62e3416",
   "metadata": {},
   "outputs": [],
   "source": [
    "##floor functions\n",
    "arr10=[0.23,0.09,1.23,-6.25,2.43]\n",
    "fl_aar10 = np.floor(arr10)\n",
    "fl_aar10"
   ]
  },
  {
   "cell_type": "code",
   "execution_count": 16,
   "id": "3a3809ec",
   "metadata": {},
   "outputs": [],
   "source": [
    "import numpy as np"
   ]
  },
  {
   "cell_type": "code",
   "execution_count": 17,
   "id": "9cbefa9c",
   "metadata": {},
   "outputs": [
    {
     "name": "stdout",
     "output_type": "stream",
     "text": [
      "[ 0  1  2  3  4  5  6  7  8  9 10 11]\n"
     ]
    }
   ],
   "source": [
    "number_list = np.arange(0,12)\n",
    "print(number_list)"
   ]
  },
  {
   "cell_type": "code",
   "execution_count": 19,
   "id": "69238d00",
   "metadata": {},
   "outputs": [
    {
     "name": "stdout",
     "output_type": "stream",
     "text": [
      "[1.  2.5 4.  5.5 7.  8.5]\n"
     ]
    }
   ],
   "source": [
    "number_list2=np.arange(1,10,1.5) # 1st component is the lower limit,2nd-upper limit,3rd component=increment\n",
    "print(number_list2)"
   ]
  },
  {
   "cell_type": "code",
   "execution_count": 22,
   "id": "16d48c14",
   "metadata": {
    "scrolled": true
   },
   "outputs": [
    {
     "name": "stdout",
     "output_type": "stream",
     "text": [
      "[2.         2.15789474 2.31578947 2.47368421 2.63157895 2.78947368\n",
      " 2.94736842 3.10526316 3.26315789 3.42105263 3.57894737 3.73684211\n",
      " 3.89473684 4.05263158 4.21052632 4.36842105 4.52631579 4.68421053\n",
      " 4.84210526 5.        ]\n"
     ]
    }
   ],
   "source": [
    "#linspace function generates evenly spaced numbers within an interval\n",
    "number_list3 = np.linspace(2,5,20)\n",
    "print(number_list3)"
   ]
  },
  {
   "cell_type": "markdown",
   "id": "4925105e",
   "metadata": {},
   "source": [
    "## Both the linspace and the arange function will generate a sequence/collection of values. With linspace function we do not have a control on the incremental value,but with arange function,we have a control over the incremental value."
   ]
  },
  {
   "cell_type": "markdown",
   "id": "58e5af94",
   "metadata": {},
   "source": [
    "## Random module in numpy defines a series of functions that are used to manipulate \n",
    "## random numbers. The random function generates random float numbers in the range \n",
    "## 0 to 1"
   ]
  },
  {
   "cell_type": "code",
   "execution_count": null,
   "id": "b8116d59",
   "metadata": {},
   "outputs": [],
   "source": []
  },
  {
   "cell_type": "code",
   "execution_count": 23,
   "id": "8cbff120",
   "metadata": {},
   "outputs": [
    {
     "data": {
      "text/plain": [
       "array([0.57028055, 0.43577223, 0.78521511, 0.34389369, 0.19709775,\n",
       "       0.95800937, 0.43607322, 0.63902243, 0.90333475, 0.08379845,\n",
       "       0.24303391, 0.08220711, 0.64306555, 0.54614488, 0.23186925,\n",
       "       0.56657168, 0.42571657, 0.0267996 , 0.39921677, 0.89052311])"
      ]
     },
     "execution_count": 23,
     "metadata": {},
     "output_type": "execute_result"
    }
   ],
   "source": [
    "import random\n",
    "n1 = np.random.random(20)\n",
    "n1"
   ]
  },
  {
   "cell_type": "code",
   "execution_count": 24,
   "id": "70a1c839",
   "metadata": {},
   "outputs": [
    {
     "data": {
      "text/plain": [
       "array([[ 0.01119863, -0.38569942, -0.04849366],\n",
       "       [ 0.1466511 , -2.32236892, -0.03302674],\n",
       "       [ 1.53211162,  0.44926207, -0.23910993],\n",
       "       [ 0.51892847, -0.12790291,  0.83740051]])"
      ]
     },
     "execution_count": 24,
     "metadata": {},
     "output_type": "execute_result"
    }
   ],
   "source": [
    "##randn-this function generates an array with the shape we specify.\n",
    "## the randn function generates random numbers from a standard normal distribution \n",
    "a2 = np.random.randn(4,3)\n",
    "a2"
   ]
  },
  {
   "cell_type": "code",
   "execution_count": 25,
   "id": "baf3d384",
   "metadata": {},
   "outputs": [
    {
     "data": {
      "text/plain": [
       "array([[ 1.49190325, -0.44438051,  0.40217873, -0.38434112],\n",
       "       [ 1.52850953, -0.10903712,  1.73667015,  0.05898888]])"
      ]
     },
     "execution_count": 25,
     "metadata": {},
     "output_type": "execute_result"
    }
   ],
   "source": [
    "a3 = np.random.randn(2,4)\n",
    "a3"
   ]
  },
  {
   "cell_type": "code",
   "execution_count": 46,
   "id": "d55eb35f",
   "metadata": {},
   "outputs": [
    {
     "data": {
      "text/plain": [
       "7"
      ]
     },
     "execution_count": 46,
     "metadata": {},
     "output_type": "execute_result"
    }
   ],
   "source": [
    "##we use the randint function to generate random integer values\n",
    "a4=np.random.randint(5,20)\n",
    "a4"
   ]
  },
  {
   "cell_type": "code",
   "execution_count": 72,
   "id": "83eb1aec",
   "metadata": {},
   "outputs": [
    {
     "data": {
      "text/plain": [
       "array([[ 5, 18],\n",
       "       [10, 13],\n",
       "       [ 5, 16]])"
      ]
     },
     "execution_count": 72,
     "metadata": {},
     "output_type": "execute_result"
    }
   ],
   "source": [
    "#creating a tabular structure of data with the randint function\n",
    "a5 = np.random.randint(1,20,(3,2))\n",
    "a5"
   ]
  },
  {
   "cell_type": "code",
   "execution_count": 84,
   "id": "81492ec5",
   "metadata": {
    "scrolled": true
   },
   "outputs": [
    {
     "name": "stdout",
     "output_type": "stream",
     "text": [
      "13\n",
      "13\n",
      "13\n",
      "13\n",
      "13\n"
     ]
    }
   ],
   "source": [
    "#seed method-- ensures reproducibility of your results\n",
    "import random\n",
    "for i in range(5):\n",
    "    random.seed(36)\n",
    "    print(random.randint(8,20))"
   ]
  },
  {
   "cell_type": "code",
   "execution_count": 77,
   "id": "305bbacf",
   "metadata": {
    "scrolled": true
   },
   "outputs": [
    {
     "data": {
      "text/plain": [
       "range(0, 12)"
      ]
     },
     "execution_count": 77,
     "metadata": {},
     "output_type": "execute_result"
    }
   ],
   "source": [
    "range(12)"
   ]
  },
  {
   "cell_type": "code",
   "execution_count": 100,
   "id": "4d7a8847",
   "metadata": {},
   "outputs": [
    {
     "name": "stdout",
     "output_type": "stream",
     "text": [
      "0\n",
      "1\n",
      "2\n",
      "3\n",
      "4\n"
     ]
    }
   ],
   "source": [
    "for seema in range(5):\n",
    "    print(seema)\n",
    "    "
   ]
  },
  {
   "cell_type": "code",
   "execution_count": 101,
   "id": "1bb8b845",
   "metadata": {},
   "outputs": [
    {
     "data": {
      "text/plain": [
       "array([ 1.,  5.,  8., -5.])"
      ]
     },
     "execution_count": 101,
     "metadata": {},
     "output_type": "execute_result"
    }
   ],
   "source": [
    "## ceiling function-- gives us the next highest integer value\n",
    "arr20 = np.array([0.8,4.2,7.1,-5.2])\n",
    "arr21 = np.ceil(arr20)\n",
    "arr21\n"
   ]
  },
  {
   "cell_type": "code",
   "execution_count": 85,
   "id": "71764cbf",
   "metadata": {},
   "outputs": [
    {
     "data": {
      "text/plain": [
       "array([ 0.,  4.,  7., -6.])"
      ]
     },
     "execution_count": 85,
     "metadata": {},
     "output_type": "execute_result"
    }
   ],
   "source": [
    "arr20 = np.array([0.8,4.2,7.1,-5.2])\n",
    "arr21_fl = np.floor(arr20)\n",
    "arr21_fl\n"
   ]
  },
  {
   "cell_type": "code",
   "execution_count": 1,
   "id": "76860e8d",
   "metadata": {},
   "outputs": [
    {
     "name": "stdout",
     "output_type": "stream",
     "text": [
      "my original array:\n",
      "  [[10 20 30 40]\n",
      " [ 5  6  7  8]]\n"
     ]
    }
   ],
   "source": [
    "#ravel/flatten function -this converts any array to a 1D array. or flattens it.\n",
    "import numpy as np\n",
    "b1 = np.array([(10,20,30,40),(5,6,7,8)])\n",
    "print(\"my original array:\\n \",b1)"
   ]
  },
  {
   "cell_type": "code",
   "execution_count": 2,
   "id": "6661c933",
   "metadata": {},
   "outputs": [
    {
     "data": {
      "text/plain": [
       "(2, 4)"
      ]
     },
     "execution_count": 2,
     "metadata": {},
     "output_type": "execute_result"
    }
   ],
   "source": [
    "b1.shape"
   ]
  },
  {
   "cell_type": "code",
   "execution_count": 3,
   "id": "23e10366",
   "metadata": {},
   "outputs": [
    {
     "data": {
      "text/plain": [
       "array([10, 20, 30, 40,  5,  6,  7,  8])"
      ]
     },
     "execution_count": 3,
     "metadata": {},
     "output_type": "execute_result"
    }
   ],
   "source": [
    "c1 = b1.flatten()\n",
    "c1"
   ]
  },
  {
   "cell_type": "code",
   "execution_count": 4,
   "id": "5e83cbf3",
   "metadata": {},
   "outputs": [
    {
     "data": {
      "text/plain": [
       "(8,)"
      ]
     },
     "execution_count": 4,
     "metadata": {},
     "output_type": "execute_result"
    }
   ],
   "source": [
    "c1.shape"
   ]
  },
  {
   "cell_type": "code",
   "execution_count": 5,
   "id": "81d83b57",
   "metadata": {},
   "outputs": [
    {
     "name": "stdout",
     "output_type": "stream",
     "text": [
      "[10  5 20  6 30  7 40  8]\n"
     ]
    }
   ],
   "source": [
    "#ravel function\n",
    "d1=np.ravel(b1,order='F')\n",
    "print(d1)"
   ]
  },
  {
   "cell_type": "code",
   "execution_count": 6,
   "id": "7f5a3e49",
   "metadata": {},
   "outputs": [
    {
     "name": "stdout",
     "output_type": "stream",
     "text": [
      "[10 20 30 40  5  6  7  8]\n"
     ]
    }
   ],
   "source": [
    "e1 = np.ravel(b1,order='C')\n",
    "print(e1)"
   ]
  },
  {
   "cell_type": "code",
   "execution_count": null,
   "id": "649dc2df",
   "metadata": {},
   "outputs": [],
   "source": []
  },
  {
   "cell_type": "markdown",
   "id": "5d87ee7b",
   "metadata": {},
   "source": [
    "### Pandas-:"
   ]
  },
  {
   "cell_type": "code",
   "execution_count": 7,
   "id": "9c910cce",
   "metadata": {},
   "outputs": [],
   "source": [
    "import numpy as np\n",
    "import pandas as pd"
   ]
  },
  {
   "cell_type": "code",
   "execution_count": 8,
   "id": "b676a87f",
   "metadata": {},
   "outputs": [],
   "source": [
    "#lets create our first series!\n",
    "first_series=pd.Series(list('simplilearn'))"
   ]
  },
  {
   "cell_type": "code",
   "execution_count": 9,
   "id": "33b98196",
   "metadata": {},
   "outputs": [
    {
     "data": {
      "text/plain": [
       "0     s\n",
       "1     i\n",
       "2     m\n",
       "3     p\n",
       "4     l\n",
       "5     i\n",
       "6     l\n",
       "7     e\n",
       "8     a\n",
       "9     r\n",
       "10    n\n",
       "dtype: object"
      ]
     },
     "execution_count": 9,
     "metadata": {},
     "output_type": "execute_result"
    }
   ],
   "source": [
    "first_series"
   ]
  },
  {
   "cell_type": "code",
   "execution_count": 10,
   "id": "165aa3d2",
   "metadata": {},
   "outputs": [],
   "source": [
    "#reading data into python\n",
    "data=pd.read_csv('driver-data.csv')"
   ]
  },
  {
   "cell_type": "code",
   "execution_count": 11,
   "id": "34a0bea1",
   "metadata": {},
   "outputs": [
    {
     "data": {
      "text/html": [
       "<div>\n",
       "<style scoped>\n",
       "    .dataframe tbody tr th:only-of-type {\n",
       "        vertical-align: middle;\n",
       "    }\n",
       "\n",
       "    .dataframe tbody tr th {\n",
       "        vertical-align: top;\n",
       "    }\n",
       "\n",
       "    .dataframe thead th {\n",
       "        text-align: right;\n",
       "    }\n",
       "</style>\n",
       "<table border=\"1\" class=\"dataframe\">\n",
       "  <thead>\n",
       "    <tr style=\"text-align: right;\">\n",
       "      <th></th>\n",
       "      <th>id,mean_dist_day,mean_over_speed_perc</th>\n",
       "    </tr>\n",
       "  </thead>\n",
       "  <tbody>\n",
       "    <tr>\n",
       "      <th>0</th>\n",
       "      <td>3423311935,71.24,28</td>\n",
       "    </tr>\n",
       "    <tr>\n",
       "      <th>1</th>\n",
       "      <td>3423313212,52.53,25</td>\n",
       "    </tr>\n",
       "    <tr>\n",
       "      <th>2</th>\n",
       "      <td>3423313724,64.54,27</td>\n",
       "    </tr>\n",
       "    <tr>\n",
       "      <th>3</th>\n",
       "      <td>3423311373,55.69,22</td>\n",
       "    </tr>\n",
       "    <tr>\n",
       "      <th>4</th>\n",
       "      <td>3423310999,54.58,25</td>\n",
       "    </tr>\n",
       "    <tr>\n",
       "      <th>...</th>\n",
       "      <td>...</td>\n",
       "    </tr>\n",
       "    <tr>\n",
       "      <th>3995</th>\n",
       "      <td>3423310685,160.04,10</td>\n",
       "    </tr>\n",
       "    <tr>\n",
       "      <th>3996</th>\n",
       "      <td>3423312600,176.17,5</td>\n",
       "    </tr>\n",
       "    <tr>\n",
       "      <th>3997</th>\n",
       "      <td>3423312921,170.91,12</td>\n",
       "    </tr>\n",
       "    <tr>\n",
       "      <th>3998</th>\n",
       "      <td>3423313630,176.14,5</td>\n",
       "    </tr>\n",
       "    <tr>\n",
       "      <th>3999</th>\n",
       "      <td>3423311533,168.03,9</td>\n",
       "    </tr>\n",
       "  </tbody>\n",
       "</table>\n",
       "<p>4000 rows × 1 columns</p>\n",
       "</div>"
      ],
      "text/plain": [
       "     id,mean_dist_day,mean_over_speed_perc\n",
       "0                      3423311935,71.24,28\n",
       "1                      3423313212,52.53,25\n",
       "2                      3423313724,64.54,27\n",
       "3                      3423311373,55.69,22\n",
       "4                      3423310999,54.58,25\n",
       "...                                    ...\n",
       "3995                  3423310685,160.04,10\n",
       "3996                   3423312600,176.17,5\n",
       "3997                  3423312921,170.91,12\n",
       "3998                   3423313630,176.14,5\n",
       "3999                   3423311533,168.03,9\n",
       "\n",
       "[4000 rows x 1 columns]"
      ]
     },
     "execution_count": 11,
     "metadata": {},
     "output_type": "execute_result"
    }
   ],
   "source": [
    "data"
   ]
  },
  {
   "cell_type": "code",
   "execution_count": 12,
   "id": "2fff33ec",
   "metadata": {},
   "outputs": [
    {
     "data": {
      "text/html": [
       "<div>\n",
       "<style scoped>\n",
       "    .dataframe tbody tr th:only-of-type {\n",
       "        vertical-align: middle;\n",
       "    }\n",
       "\n",
       "    .dataframe tbody tr th {\n",
       "        vertical-align: top;\n",
       "    }\n",
       "\n",
       "    .dataframe thead th {\n",
       "        text-align: right;\n",
       "    }\n",
       "</style>\n",
       "<table border=\"1\" class=\"dataframe\">\n",
       "  <thead>\n",
       "    <tr style=\"text-align: right;\">\n",
       "      <th></th>\n",
       "      <th>id,mean_dist_day,mean_over_speed_perc</th>\n",
       "    </tr>\n",
       "  </thead>\n",
       "  <tbody>\n",
       "    <tr>\n",
       "      <th>0</th>\n",
       "      <td>3423311935,71.24,28</td>\n",
       "    </tr>\n",
       "    <tr>\n",
       "      <th>1</th>\n",
       "      <td>3423313212,52.53,25</td>\n",
       "    </tr>\n",
       "    <tr>\n",
       "      <th>2</th>\n",
       "      <td>3423313724,64.54,27</td>\n",
       "    </tr>\n",
       "    <tr>\n",
       "      <th>3</th>\n",
       "      <td>3423311373,55.69,22</td>\n",
       "    </tr>\n",
       "    <tr>\n",
       "      <th>4</th>\n",
       "      <td>3423310999,54.58,25</td>\n",
       "    </tr>\n",
       "    <tr>\n",
       "      <th>5</th>\n",
       "      <td>3423313857,41.91,10</td>\n",
       "    </tr>\n",
       "    <tr>\n",
       "      <th>6</th>\n",
       "      <td>3423312432,58.64,20</td>\n",
       "    </tr>\n",
       "    <tr>\n",
       "      <th>7</th>\n",
       "      <td>3423311434,52.02,8</td>\n",
       "    </tr>\n",
       "    <tr>\n",
       "      <th>8</th>\n",
       "      <td>3423311328,31.25,34</td>\n",
       "    </tr>\n",
       "    <tr>\n",
       "      <th>9</th>\n",
       "      <td>3423312488,44.31,19</td>\n",
       "    </tr>\n",
       "  </tbody>\n",
       "</table>\n",
       "</div>"
      ],
      "text/plain": [
       "  id,mean_dist_day,mean_over_speed_perc\n",
       "0                   3423311935,71.24,28\n",
       "1                   3423313212,52.53,25\n",
       "2                   3423313724,64.54,27\n",
       "3                   3423311373,55.69,22\n",
       "4                   3423310999,54.58,25\n",
       "5                   3423313857,41.91,10\n",
       "6                   3423312432,58.64,20\n",
       "7                    3423311434,52.02,8\n",
       "8                   3423311328,31.25,34\n",
       "9                   3423312488,44.31,19"
      ]
     },
     "execution_count": 12,
     "metadata": {},
     "output_type": "execute_result"
    }
   ],
   "source": [
    "#head function-helps display the top 5 rows of the dataset\n",
    "data.head(10)"
   ]
  },
  {
   "cell_type": "code",
   "execution_count": 13,
   "id": "9360edaa",
   "metadata": {},
   "outputs": [
    {
     "data": {
      "text/html": [
       "<div>\n",
       "<style scoped>\n",
       "    .dataframe tbody tr th:only-of-type {\n",
       "        vertical-align: middle;\n",
       "    }\n",
       "\n",
       "    .dataframe tbody tr th {\n",
       "        vertical-align: top;\n",
       "    }\n",
       "\n",
       "    .dataframe thead th {\n",
       "        text-align: right;\n",
       "    }\n",
       "</style>\n",
       "<table border=\"1\" class=\"dataframe\">\n",
       "  <thead>\n",
       "    <tr style=\"text-align: right;\">\n",
       "      <th></th>\n",
       "      <th>id,mean_dist_day,mean_over_speed_perc</th>\n",
       "    </tr>\n",
       "  </thead>\n",
       "  <tbody>\n",
       "    <tr>\n",
       "      <th>0</th>\n",
       "      <td>3423311935,71.24,28</td>\n",
       "    </tr>\n",
       "    <tr>\n",
       "      <th>1</th>\n",
       "      <td>3423313212,52.53,25</td>\n",
       "    </tr>\n",
       "  </tbody>\n",
       "</table>\n",
       "</div>"
      ],
      "text/plain": [
       "  id,mean_dist_day,mean_over_speed_perc\n",
       "0                   3423311935,71.24,28\n",
       "1                   3423313212,52.53,25"
      ]
     },
     "execution_count": 13,
     "metadata": {},
     "output_type": "execute_result"
    }
   ],
   "source": [
    "#to display only the top 2 rows\n",
    "data.head(2)"
   ]
  },
  {
   "cell_type": "code",
   "execution_count": null,
   "id": "f62c285d",
   "metadata": {},
   "outputs": [],
   "source": [
    "#To display the rows from the bottom\n",
    "data.tail()"
   ]
  },
  {
   "cell_type": "code",
   "execution_count": 14,
   "id": "72ebfe4c",
   "metadata": {},
   "outputs": [
    {
     "data": {
      "text/plain": [
       "(4000, 1)"
      ]
     },
     "execution_count": 14,
     "metadata": {},
     "output_type": "execute_result"
    }
   ],
   "source": [
    "#checking the number of rows and columns in our data using the shape attribute\n",
    "data.shape"
   ]
  },
  {
   "cell_type": "code",
   "execution_count": 15,
   "id": "62131bd0",
   "metadata": {},
   "outputs": [
    {
     "name": "stdout",
     "output_type": "stream",
     "text": [
      "<class 'pandas.core.frame.DataFrame'>\n",
      "RangeIndex: 4000 entries, 0 to 3999\n",
      "Data columns (total 1 columns):\n",
      " #   Column                                 Non-Null Count  Dtype \n",
      "---  ------                                 --------------  ----- \n",
      " 0   id,mean_dist_day,mean_over_speed_perc  4000 non-null   object\n",
      "dtypes: object(1)\n",
      "memory usage: 31.4+ KB\n"
     ]
    }
   ],
   "source": [
    "#using the info function to get all relevent information about our data\n",
    "data.info()"
   ]
  },
  {
   "cell_type": "code",
   "execution_count": 16,
   "id": "fcd3c5c4",
   "metadata": {},
   "outputs": [],
   "source": [
    "#creating a dataframe from a dictionary of equal length series\n",
    "dataframe = {'Name':pd.Series(['Tom','Cynthia','Jyoti','Bill']),\n",
    "            'Language':pd.Series(['English','Japanese','French','Hindi']),\n",
    "            'Marks':pd.Series([56,67,89,84])}"
   ]
  },
  {
   "cell_type": "code",
   "execution_count": 17,
   "id": "c4a1831b",
   "metadata": {},
   "outputs": [
    {
     "name": "stdout",
     "output_type": "stream",
     "text": [
      "      Name  Language  Marks\n",
      "0      Tom   English     56\n",
      "1  Cynthia  Japanese     67\n",
      "2    Jyoti    French     89\n",
      "3     Bill     Hindi     84\n"
     ]
    }
   ],
   "source": [
    "df = pd.DataFrame(dataframe)\n",
    "print(df)"
   ]
  },
  {
   "cell_type": "code",
   "execution_count": 18,
   "id": "269b7232",
   "metadata": {},
   "outputs": [
    {
     "name": "stdout",
     "output_type": "stream",
     "text": [
      "<class 'pandas.core.frame.DataFrame'>\n",
      "RangeIndex: 4 entries, 0 to 3\n",
      "Data columns (total 3 columns):\n",
      " #   Column    Non-Null Count  Dtype \n",
      "---  ------    --------------  ----- \n",
      " 0   Name      4 non-null      object\n",
      " 1   Language  4 non-null      object\n",
      " 2   Marks     4 non-null      int64 \n",
      "dtypes: int64(1), object(2)\n",
      "memory usage: 224.0+ bytes\n"
     ]
    }
   ],
   "source": [
    "df.info()"
   ]
  },
  {
   "cell_type": "code",
   "execution_count": 19,
   "id": "fb8830a2",
   "metadata": {},
   "outputs": [
    {
     "name": "stdout",
     "output_type": "stream",
     "text": [
      "                0         1       2      3\n",
      "Name          Tom   Cynthia   Jyoti   Bill\n",
      "Language  English  Japanese  French  Hindi\n",
      "Marks          56        67      89     84\n"
     ]
    }
   ],
   "source": [
    "print(df.T)"
   ]
  },
  {
   "cell_type": "code",
   "execution_count": 20,
   "id": "04f5636f",
   "metadata": {},
   "outputs": [],
   "source": [
    "#creating a dataframe from a dict of equal length lists\n",
    "olympic_data ={'HostCity':['London','Beijing','Sydney'],\n",
    "               'Year':[2015,2014,2013],\n",
    "                'Participating_Countries':[210,220,230]}"
   ]
  },
  {
   "cell_type": "code",
   "execution_count": 21,
   "id": "f7270056",
   "metadata": {
    "scrolled": true
   },
   "outputs": [
    {
     "data": {
      "text/html": [
       "<div>\n",
       "<style scoped>\n",
       "    .dataframe tbody tr th:only-of-type {\n",
       "        vertical-align: middle;\n",
       "    }\n",
       "\n",
       "    .dataframe tbody tr th {\n",
       "        vertical-align: top;\n",
       "    }\n",
       "\n",
       "    .dataframe thead th {\n",
       "        text-align: right;\n",
       "    }\n",
       "</style>\n",
       "<table border=\"1\" class=\"dataframe\">\n",
       "  <thead>\n",
       "    <tr style=\"text-align: right;\">\n",
       "      <th></th>\n",
       "      <th>HostCity</th>\n",
       "      <th>Year</th>\n",
       "      <th>Participating_Countries</th>\n",
       "    </tr>\n",
       "  </thead>\n",
       "  <tbody>\n",
       "    <tr>\n",
       "      <th>0</th>\n",
       "      <td>London</td>\n",
       "      <td>2015</td>\n",
       "      <td>210</td>\n",
       "    </tr>\n",
       "    <tr>\n",
       "      <th>1</th>\n",
       "      <td>Beijing</td>\n",
       "      <td>2014</td>\n",
       "      <td>220</td>\n",
       "    </tr>\n",
       "    <tr>\n",
       "      <th>2</th>\n",
       "      <td>Sydney</td>\n",
       "      <td>2013</td>\n",
       "      <td>230</td>\n",
       "    </tr>\n",
       "  </tbody>\n",
       "</table>\n",
       "</div>"
      ],
      "text/plain": [
       "  HostCity  Year  Participating_Countries\n",
       "0   London  2015                      210\n",
       "1  Beijing  2014                      220\n",
       "2   Sydney  2013                      230"
      ]
     },
     "execution_count": 21,
     "metadata": {},
     "output_type": "execute_result"
    }
   ],
   "source": [
    "olympic_df = pd.DataFrame(olympic_data)\n",
    "olympic_df"
   ]
  },
  {
   "cell_type": "code",
   "execution_count": 22,
   "id": "bd07a627",
   "metadata": {},
   "outputs": [
    {
     "name": "stdout",
     "output_type": "stream",
     "text": [
      "<class 'pandas.core.frame.DataFrame'>\n",
      "RangeIndex: 3 entries, 0 to 2\n",
      "Data columns (total 3 columns):\n",
      " #   Column                   Non-Null Count  Dtype \n",
      "---  ------                   --------------  ----- \n",
      " 0   HostCity                 3 non-null      object\n",
      " 1   Year                     3 non-null      int64 \n",
      " 2   Participating_Countries  3 non-null      int64 \n",
      "dtypes: int64(2), object(1)\n",
      "memory usage: 200.0+ bytes\n"
     ]
    }
   ],
   "source": [
    "olympic_df.info()"
   ]
  },
  {
   "cell_type": "code",
   "execution_count": 23,
   "id": "c60dde3b",
   "metadata": {},
   "outputs": [
    {
     "data": {
      "text/plain": [
       "0     London\n",
       "1    Beijing\n",
       "2     Sydney\n",
       "Name: HostCity, dtype: object"
      ]
     },
     "execution_count": 23,
     "metadata": {},
     "output_type": "execute_result"
    }
   ],
   "source": [
    "# selectively displaying a column results\n",
    "olympic_df.HostCity"
   ]
  },
  {
   "cell_type": "code",
   "execution_count": 24,
   "id": "a2523c51",
   "metadata": {},
   "outputs": [
    {
     "data": {
      "text/plain": [
       "0    210\n",
       "1    220\n",
       "2    230\n",
       "Name: Participating_Countries, dtype: int64"
      ]
     },
     "execution_count": 24,
     "metadata": {},
     "output_type": "execute_result"
    }
   ],
   "source": [
    "olympic_df.Participating_Countries"
   ]
  },
  {
   "cell_type": "code",
   "execution_count": 25,
   "id": "e6cfe739",
   "metadata": {},
   "outputs": [],
   "source": [
    "#subsetting two columns from the dataframe\n",
    "df_new = olympic_df[['HostCity','Year']]"
   ]
  },
  {
   "cell_type": "code",
   "execution_count": 26,
   "id": "c066c9fd",
   "metadata": {},
   "outputs": [
    {
     "data": {
      "text/html": [
       "<div>\n",
       "<style scoped>\n",
       "    .dataframe tbody tr th:only-of-type {\n",
       "        vertical-align: middle;\n",
       "    }\n",
       "\n",
       "    .dataframe tbody tr th {\n",
       "        vertical-align: top;\n",
       "    }\n",
       "\n",
       "    .dataframe thead th {\n",
       "        text-align: right;\n",
       "    }\n",
       "</style>\n",
       "<table border=\"1\" class=\"dataframe\">\n",
       "  <thead>\n",
       "    <tr style=\"text-align: right;\">\n",
       "      <th></th>\n",
       "      <th>HostCity</th>\n",
       "      <th>Year</th>\n",
       "    </tr>\n",
       "  </thead>\n",
       "  <tbody>\n",
       "    <tr>\n",
       "      <th>0</th>\n",
       "      <td>London</td>\n",
       "      <td>2015</td>\n",
       "    </tr>\n",
       "    <tr>\n",
       "      <th>1</th>\n",
       "      <td>Beijing</td>\n",
       "      <td>2014</td>\n",
       "    </tr>\n",
       "    <tr>\n",
       "      <th>2</th>\n",
       "      <td>Sydney</td>\n",
       "      <td>2013</td>\n",
       "    </tr>\n",
       "  </tbody>\n",
       "</table>\n",
       "</div>"
      ],
      "text/plain": [
       "  HostCity  Year\n",
       "0   London  2015\n",
       "1  Beijing  2014\n",
       "2   Sydney  2013"
      ]
     },
     "execution_count": 26,
     "metadata": {},
     "output_type": "execute_result"
    }
   ],
   "source": [
    "df_new"
   ]
  },
  {
   "cell_type": "code",
   "execution_count": 27,
   "id": "5f95491a",
   "metadata": {},
   "outputs": [
    {
     "data": {
      "text/html": [
       "<div>\n",
       "<style scoped>\n",
       "    .dataframe tbody tr th:only-of-type {\n",
       "        vertical-align: middle;\n",
       "    }\n",
       "\n",
       "    .dataframe tbody tr th {\n",
       "        vertical-align: top;\n",
       "    }\n",
       "\n",
       "    .dataframe thead th {\n",
       "        text-align: right;\n",
       "    }\n",
       "</style>\n",
       "<table border=\"1\" class=\"dataframe\">\n",
       "  <thead>\n",
       "    <tr style=\"text-align: right;\">\n",
       "      <th></th>\n",
       "      <th>HostCity</th>\n",
       "      <th>Year</th>\n",
       "    </tr>\n",
       "  </thead>\n",
       "  <tbody>\n",
       "    <tr>\n",
       "      <th>0</th>\n",
       "      <td>London</td>\n",
       "      <td>2015</td>\n",
       "    </tr>\n",
       "    <tr>\n",
       "      <th>1</th>\n",
       "      <td>Beijing</td>\n",
       "      <td>2014</td>\n",
       "    </tr>\n",
       "    <tr>\n",
       "      <th>2</th>\n",
       "      <td>Sydney</td>\n",
       "      <td>2013</td>\n",
       "    </tr>\n",
       "  </tbody>\n",
       "</table>\n",
       "</div>"
      ],
      "text/plain": [
       "  HostCity  Year\n",
       "0   London  2015\n",
       "1  Beijing  2014\n",
       "2   Sydney  2013"
      ]
     },
     "execution_count": 27,
     "metadata": {},
     "output_type": "execute_result"
    }
   ],
   "source": [
    "#we replicate the same action using the indices instead of the column names\n",
    "df_new2 = olympic_df.iloc[:,0:2]\n",
    "df_new2"
   ]
  },
  {
   "cell_type": "markdown",
   "id": "2a27f678",
   "metadata": {},
   "source": [
    "### Subsetting a dataframe:"
   ]
  },
  {
   "cell_type": "code",
   "execution_count": null,
   "id": "ac04c07e",
   "metadata": {},
   "outputs": [],
   "source": [
    "#when we want to select specific rows and columns from a dataframe,we use a loc and iloc function.\n",
    "#'Loc' function selects rows and columns with specific labels\n",
    "#'iloc' function selects the rows and columns at particular positions specified by the indexes"
   ]
  },
  {
   "cell_type": "code",
   "execution_count": 29,
   "id": "8adb13a7",
   "metadata": {},
   "outputs": [
    {
     "data": {
      "text/html": [
       "<div>\n",
       "<style scoped>\n",
       "    .dataframe tbody tr th:only-of-type {\n",
       "        vertical-align: middle;\n",
       "    }\n",
       "\n",
       "    .dataframe tbody tr th {\n",
       "        vertical-align: top;\n",
       "    }\n",
       "\n",
       "    .dataframe thead th {\n",
       "        text-align: right;\n",
       "    }\n",
       "</style>\n",
       "<table border=\"1\" class=\"dataframe\">\n",
       "  <thead>\n",
       "    <tr style=\"text-align: right;\">\n",
       "      <th></th>\n",
       "      <th>Group</th>\n",
       "      <th>Marks</th>\n",
       "      <th>Members</th>\n",
       "    </tr>\n",
       "  </thead>\n",
       "  <tbody>\n",
       "    <tr>\n",
       "      <th>one</th>\n",
       "      <td>A</td>\n",
       "      <td>10</td>\n",
       "      <td>11</td>\n",
       "    </tr>\n",
       "    <tr>\n",
       "      <th>two</th>\n",
       "      <td>A</td>\n",
       "      <td>20</td>\n",
       "      <td>8</td>\n",
       "    </tr>\n",
       "    <tr>\n",
       "      <th>three</th>\n",
       "      <td>A</td>\n",
       "      <td>30</td>\n",
       "      <td>10</td>\n",
       "    </tr>\n",
       "    <tr>\n",
       "      <th>four</th>\n",
       "      <td>B</td>\n",
       "      <td>40</td>\n",
       "      <td>5</td>\n",
       "    </tr>\n",
       "    <tr>\n",
       "      <th>five</th>\n",
       "      <td>B</td>\n",
       "      <td>50</td>\n",
       "      <td>7</td>\n",
       "    </tr>\n",
       "    <tr>\n",
       "      <th>six</th>\n",
       "      <td>A</td>\n",
       "      <td>60</td>\n",
       "      <td>7</td>\n",
       "    </tr>\n",
       "  </tbody>\n",
       "</table>\n",
       "</div>"
      ],
      "text/plain": [
       "      Group  Marks  Members\n",
       "one       A     10       11\n",
       "two       A     20        8\n",
       "three     A     30       10\n",
       "four      B     40        5\n",
       "five      B     50        7\n",
       "six       A     60        7"
      ]
     },
     "execution_count": 29,
     "metadata": {},
     "output_type": "execute_result"
    }
   ],
   "source": [
    "df_lt=pd.DataFrame({'Group':['A','A','A','B','B','A'],\n",
    "                    'Marks':[10,20,30,40,50,60],\n",
    "                    'Members':[11,8,10,5,7,7]},\n",
    "                    index=['one','two','three','four','five','six'])\n",
    "df_lt\n",
    "    \n"
   ]
  },
  {
   "cell_type": "code",
   "execution_count": null,
   "id": "84a36ff9",
   "metadata": {},
   "outputs": [],
   "source": [
    "#fetching the 5th and 6th rows of my dataframe using the loc function and specifying the labels\n",
    "df_lt.loc[['five','six']]"
   ]
  },
  {
   "cell_type": "code",
   "execution_count": null,
   "id": "bc8c21ea",
   "metadata": {},
   "outputs": [],
   "source": [
    "#Now say,i want info of the last two columns for the 5th and 6th row\n",
    "df_lt.loc[['five','six'],['Marks','Members']]"
   ]
  },
  {
   "cell_type": "code",
   "execution_count": null,
   "id": "a3137b8e",
   "metadata": {},
   "outputs": [],
   "source": [
    "#i want to fetch rows two-five using the indexes only\n",
    "df_lt.iloc[1:5]"
   ]
  },
  {
   "cell_type": "code",
   "execution_count": null,
   "id": "34b00fc1",
   "metadata": {},
   "outputs": [],
   "source": [
    "#select a range of rows and a range of columns which will give us only the common \n",
    "#elements as an output\n",
    "df_lt.iloc[1:3,0:2]"
   ]
  },
  {
   "cell_type": "code",
   "execution_count": null,
   "id": "b982d188",
   "metadata": {},
   "outputs": [],
   "source": [
    "df_lt.iloc[[0,3],[0,2]] #selecting the 1st,4th row and first,third column"
   ]
  },
  {
   "cell_type": "markdown",
   "id": "6c570f76",
   "metadata": {},
   "source": [
    "### MATPLOTLIB - Line plots"
   ]
  },
  {
   "cell_type": "code",
   "execution_count": null,
   "id": "593163c8",
   "metadata": {},
   "outputs": [],
   "source": [
    "import matplotlib.pyplot as plt\n",
    "import numpy as np"
   ]
  },
  {
   "cell_type": "code",
   "execution_count": null,
   "id": "4fbbec26",
   "metadata": {},
   "outputs": [],
   "source": [
    "x_data = np.array([60,120])\n",
    "y_data = np.array([110,180])\n",
    "plt.plot(x_data,y_data)\n",
    "plt.show()"
   ]
  },
  {
   "cell_type": "code",
   "execution_count": null,
   "id": "39741f82",
   "metadata": {},
   "outputs": [],
   "source": [
    "x_data = np.array([60,120])\n",
    "y_data = np.array([110,180])\n",
    "plt.xlabel('Demand of a product')\n",
    "plt.ylabel('Price')\n",
    "plt.plot(x_data,y_data)\n",
    "plt.show()"
   ]
  },
  {
   "cell_type": "code",
   "execution_count": null,
   "id": "0055acb3",
   "metadata": {},
   "outputs": [],
   "source": [
    "time_intervals = np.array([7,14,2,21])\n",
    "plt.xlabel('No of Intervals')\n",
    "plt.ylabel('Difference of price')\n",
    "plt.plot(time_intervals,marker='o',linestyle='dashed')\n",
    "plt.show()"
   ]
  },
  {
   "cell_type": "code",
   "execution_count": null,
   "id": "f0a526f6",
   "metadata": {},
   "outputs": [],
   "source": [
    "time_intervals = np.array([7,14,2,21])\n",
    "plt.xlabel('No of Intervals')\n",
    "plt.ylabel('Difference of price')\n",
    "plt.plot(time_intervals,marker='o',linestyle='dashed')\n",
    "plt.grid()\n",
    "plt.show()"
   ]
  },
  {
   "cell_type": "markdown",
   "id": "acfc3535",
   "metadata": {},
   "source": [
    "## Say an e commerce site wants to know the maximum traffic,or the time of the day when most visitors visit the site. It gives us a count of visitors for 3 consecutive days,and we have to give them an idea as to when(in a day) the website visits are maximum so that they can use their promotional activity at that particular time."
   ]
  },
  {
   "cell_type": "code",
   "execution_count": null,
   "id": "572db9d7",
   "metadata": {},
   "outputs": [],
   "source": [
    "#creating our website traffic data\n",
    "web_monday = [123,645,950,1290,1630,1450,1034,1295,465,205,80]\n",
    "web_tuesday = [95,680,889,1145,1670,1323,1119,1265,510,310,110]\n",
    "web_wednesday =[105,630,700,1006,1520,1124,1239,1380,580,610,230]\n",
    "time_hrs = [7,8,9,10,11,12,13,14,15,16,17] #7am has 123,95,105 visitors on each of the 3 days"
   ]
  },
  {
   "cell_type": "code",
   "execution_count": null,
   "id": "c76c838a",
   "metadata": {},
   "outputs": [],
   "source": [
    "plt.plot(time_hrs,web_monday,'red',label='Monday',linewidth=1.5,linestyle='dotted')\n",
    "plt.plot(time_hrs,web_tuesday,'blue',label='Tuesday',linewidth=1.8,linestyle='dashed')\n",
    "plt.plot(time_hrs,web_wednesday,'green',label='Wednesday',linewidth=2)\n",
    "plt.axis([6.5,17.5,60,2000]) #setting the range of x-axis and y-axis\n",
    "#giving a title to the plot\n",
    "plt.title('Web Site Traffic')\n",
    "#label the x-axis\n",
    "plt.xlabel('Time(Hrs)')\n",
    "#label the y-axis\n",
    "plt.ylabel('Number of Visitors')\n",
    "#To get the labels of each line plot as a reference,we use the legend function\n",
    "plt.legend()\n",
    "plt.show()\n",
    "\n"
   ]
  },
  {
   "cell_type": "code",
   "execution_count": null,
   "id": "3ab2462c",
   "metadata": {},
   "outputs": [],
   "source": [
    "#To see the themes available,which will change the style of the plot\n",
    "themes = plt.style.available\n",
    "print(themes)"
   ]
  },
  {
   "cell_type": "code",
   "execution_count": null,
   "id": "888ba3f9",
   "metadata": {},
   "outputs": [],
   "source": [
    "#We choose any one,say seaborn\n",
    "plt.style.use('seaborn')\n",
    "#plt.style.use('classic')"
   ]
  },
  {
   "cell_type": "code",
   "execution_count": null,
   "id": "711de22c",
   "metadata": {},
   "outputs": [],
   "source": [
    "#The maximum number of visits are during 10.30-11 am"
   ]
  },
  {
   "cell_type": "markdown",
   "id": "5332a3a2",
   "metadata": {},
   "source": [
    "## Subplots"
   ]
  },
  {
   "cell_type": "markdown",
   "id": "e2d22a58",
   "metadata": {},
   "source": [
    "## The subplot() function takes 3 arguments that describes the layout of the figure. The layout is organized into rows and columns,which is represented by the first and second argument. The third argument represents the index of the current plot"
   ]
  },
  {
   "cell_type": "code",
   "execution_count": null,
   "id": "d38bb89f",
   "metadata": {},
   "outputs": [],
   "source": [
    "x= np.array([0,1,2,3])\n",
    "y = np.array([3,8,1,10])"
   ]
  },
  {
   "cell_type": "code",
   "execution_count": null,
   "id": "abea2613",
   "metadata": {},
   "outputs": [],
   "source": [
    "plt.subplot(1,2,1)\n",
    "plt.plot(x,y)"
   ]
  },
  {
   "cell_type": "code",
   "execution_count": null,
   "id": "fcf35bf4",
   "metadata": {},
   "outputs": [],
   "source": [
    "#plot2\n",
    "x1 = np.array([0,1,2,3])\n",
    "y1 = np.array([10,20,30,40])"
   ]
  },
  {
   "cell_type": "code",
   "execution_count": null,
   "id": "41be84de",
   "metadata": {},
   "outputs": [],
   "source": [
    "plt.subplot(1,2,2)\n",
    "plt.plot(x1,y1)\n"
   ]
  },
  {
   "cell_type": "code",
   "execution_count": null,
   "id": "2c306d4a",
   "metadata": {},
   "outputs": [],
   "source": [
    "x= np.array([0,1,2,3])\n",
    "y = np.array([3,8,1,10])\n",
    "\n",
    "plt.subplot(1,2,1)\n",
    "plt.plot(x,y)\n",
    "\n",
    "#plot2\n",
    "x1 = np.array([0,1,2,3])\n",
    "y1 = np.array([10,20,30,40])\n",
    "\n",
    "plt.subplot(1,2,2)\n",
    "plt.plot(x1,y1)\n",
    "\n",
    "plt.show()\n",
    "\n"
   ]
  },
  {
   "cell_type": "code",
   "execution_count": null,
   "id": "1a31b3d1",
   "metadata": {},
   "outputs": [],
   "source": [
    "#plot1\n",
    "x= np.array([0,1,2,3])\n",
    "y = np.array([3,8,1,10])\n",
    "\n",
    "plt.subplot(2,1,1)\n",
    "plt.plot(x,y)\n",
    "\n",
    "#plot2\n",
    "x1 = np.array([0,1,2,3])\n",
    "y1 = np.array([10,20,30,40])\n",
    "\n",
    "plt.subplot(2,1,2)\n",
    "plt.plot(x1,y1)\n",
    "\n",
    "plt.show()\n"
   ]
  },
  {
   "cell_type": "code",
   "execution_count": null,
   "id": "faa0c7f7",
   "metadata": {},
   "outputs": [],
   "source": [
    "#scatter plot\n",
    "x= np.array([0,1,2,3,8,10,13,23,45])\n",
    "y = np.array([3,8,1,10,22,23,24,25,40])\n",
    "\n",
    "plt.scatter(x,y)\n",
    "plt.show()\n"
   ]
  },
  {
   "cell_type": "markdown",
   "id": "5ddc67de",
   "metadata": {},
   "source": [
    "## Bar plots are used for categorical variable,and gives the frequency counts along the y-axis."
   ]
  },
  {
   "cell_type": "code",
   "execution_count": null,
   "id": "c982318d",
   "metadata": {},
   "outputs": [],
   "source": [
    "M = np.array([\"Good\",\"Average\",\"Excellent\",\"Fair\"])\n",
    "P = np.array([4,8,12,16])\n",
    "plt.bar(M,P)\n",
    "\n",
    "plt.show()\n"
   ]
  },
  {
   "cell_type": "markdown",
   "id": "a19084f1",
   "metadata": {},
   "source": [
    "## Histograms also plot the variable value against the frequency counts. The only difference from the bar plot is,histograms deal with continuous variables."
   ]
  },
  {
   "cell_type": "code",
   "execution_count": null,
   "id": "daa10121",
   "metadata": {},
   "outputs": [],
   "source": [
    "D = np.random.normal(100,20,500)# we are generating 500 random numbers from a normal distribution with mean=100 and SD =20\n",
    "plt.hist(D)\n",
    "plt.show()"
   ]
  },
  {
   "cell_type": "markdown",
   "id": "d5dd68dd",
   "metadata": {},
   "source": [
    "## Pie Charts"
   ]
  },
  {
   "cell_type": "code",
   "execution_count": null,
   "id": "80cf87a9",
   "metadata": {},
   "outputs": [],
   "source": [
    "y = np.array([35,25,25,15])\n",
    "components = [\"History\",\"Geography\",\"Science\",\"Computers\"]\n",
    "plt.pie(y,labels=components)\n",
    "plt.show()"
   ]
  },
  {
   "cell_type": "code",
   "execution_count": null,
   "id": "82b357eb",
   "metadata": {},
   "outputs": [],
   "source": [
    "y = np.array([35,25,25,15])\n",
    "components = [\"History\",\"Geography\",\"Science\",\"Computers\"]\n",
    "mycolors = ['m','k','g','c']\n",
    "plt.pie(y,labels=components,colors =mycolors )\n",
    "plt.legend()\n",
    "plt.show()"
   ]
  },
  {
   "cell_type": "code",
   "execution_count": null,
   "id": "5477d596",
   "metadata": {},
   "outputs": [],
   "source": [
    "#Countplot---can be created only with the seaborn package,so to create a countplot we will import the seaborn package first.\n",
    "import seaborn as sns\n",
    "\n",
    "count_data = sns.load_dataset('tips')\n",
    "#displaying\n",
    "count_data\n"
   ]
  },
  {
   "cell_type": "code",
   "execution_count": null,
   "id": "4128098f",
   "metadata": {},
   "outputs": [],
   "source": [
    "#countplot use a single categorical variable'time'\n",
    "\n",
    "sns.countplot(x='time',data = count_data)\n",
    "#show the plot\n",
    "\n",
    "plt.show()"
   ]
  },
  {
   "cell_type": "code",
   "execution_count": null,
   "id": "51cf19ee",
   "metadata": {},
   "outputs": [],
   "source": [
    "#countplot use a single categorical variable'day',and plots the counts of the subcategories\n",
    "\n",
    "sns.countplot(x='day',data = count_data)\n",
    "#show the plot\n",
    "\n",
    "plt.show()"
   ]
  },
  {
   "cell_type": "code",
   "execution_count": null,
   "id": "54b0a7ca",
   "metadata": {},
   "outputs": [],
   "source": [
    "#Tips dataset is also called a 'toy' dataset"
   ]
  },
  {
   "cell_type": "markdown",
   "id": "74039f4c",
   "metadata": {},
   "source": [
    "## Scipy-:"
   ]
  },
  {
   "cell_type": "code",
   "execution_count": null,
   "id": "30376adf",
   "metadata": {},
   "outputs": [],
   "source": [
    "import pandas as pd\n",
    "import numpy as np\n",
    "import matplotlib.pyplot as plt"
   ]
  },
  {
   "cell_type": "code",
   "execution_count": null,
   "id": "edbf28b8",
   "metadata": {},
   "outputs": [],
   "source": [
    "from scipy.integrate import quad"
   ]
  },
  {
   "cell_type": "code",
   "execution_count": null,
   "id": "74471db1",
   "metadata": {},
   "outputs": [],
   "source": [
    "#creating a function\n",
    "def test(x):\n",
    "    return x"
   ]
  },
  {
   "cell_type": "code",
   "execution_count": null,
   "id": "52ef5344",
   "metadata": {},
   "outputs": [],
   "source": [
    "#performing integration to find the total area enclosed within 2 limits\n",
    "quad(test,0,1)"
   ]
  },
  {
   "cell_type": "code",
   "execution_count": null,
   "id": "49f53d05",
   "metadata": {},
   "outputs": [],
   "source": [
    "#example 2:\n",
    "def second_function(x,a,b):\n",
    "    return x*a+b"
   ]
  },
  {
   "cell_type": "code",
   "execution_count": null,
   "id": "890b56b5",
   "metadata": {},
   "outputs": [],
   "source": [
    "#declaring the values for a&b\n",
    "a=3\n",
    "b=2"
   ]
  },
  {
   "cell_type": "code",
   "execution_count": null,
   "id": "07b59668",
   "metadata": {},
   "outputs": [],
   "source": [
    "#integrating over this function\n",
    "quad(second_function,1,2,args=(a,b))"
   ]
  },
  {
   "cell_type": "code",
   "execution_count": null,
   "id": "f1c77121",
   "metadata": {},
   "outputs": [],
   "source": [
    "#example3:\n",
    "#Finding the determinant of an array\n",
    "\n",
    "from scipy import linalg\n",
    "import numpy as np\n",
    "test_array = np.array([[8,9],[4,5]])"
   ]
  },
  {
   "cell_type": "code",
   "execution_count": null,
   "id": "f6139374",
   "metadata": {},
   "outputs": [],
   "source": [
    "test_array"
   ]
  },
  {
   "cell_type": "code",
   "execution_count": null,
   "id": "2c9b69cd",
   "metadata": {},
   "outputs": [],
   "source": [
    "linalg.det(test_array)"
   ]
  },
  {
   "cell_type": "code",
   "execution_count": null,
   "id": "d0973f8b",
   "metadata": {},
   "outputs": [],
   "source": []
  }
 ],
 "metadata": {
  "kernelspec": {
   "display_name": "Python 3",
   "language": "python",
   "name": "python3"
  },
  "language_info": {
   "codemirror_mode": {
    "name": "ipython",
    "version": 3
   },
   "file_extension": ".py",
   "mimetype": "text/x-python",
   "name": "python",
   "nbconvert_exporter": "python",
   "pygments_lexer": "ipython3",
   "version": "3.8.8"
  }
 },
 "nbformat": 4,
 "nbformat_minor": 5
}
