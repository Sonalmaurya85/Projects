{
 "cells": [
  {
   "cell_type": "markdown",
   "id": "9f11f3fe",
   "metadata": {},
   "source": [
    "### modules are files which store functions. A package is a collection of modules. to activate a package or module we use an 'import' keyword\n"
   ]
  },
  {
   "cell_type": "code",
   "execution_count": 1,
   "id": "486d13c0",
   "metadata": {},
   "outputs": [],
   "source": [
    "import math\n",
    "M = 25\n",
    "\n"
   ]
  },
  {
   "cell_type": "code",
   "execution_count": 2,
   "id": "44828280",
   "metadata": {},
   "outputs": [
    {
     "name": "stdout",
     "output_type": "stream",
     "text": [
      "25\n"
     ]
    }
   ],
   "source": [
    "print(M)"
   ]
  },
  {
   "cell_type": "code",
   "execution_count": 3,
   "id": "899d2e2a",
   "metadata": {},
   "outputs": [
    {
     "name": "stdout",
     "output_type": "stream",
     "text": [
      "5.0\n"
     ]
    }
   ],
   "source": [
    "print(math.sqrt(M))"
   ]
  },
  {
   "cell_type": "code",
   "execution_count": 4,
   "id": "416ccee8",
   "metadata": {},
   "outputs": [],
   "source": [
    "N = 7.83\n"
   ]
  },
  {
   "cell_type": "code",
   "execution_count": 9,
   "id": "1a3f6cb8",
   "metadata": {},
   "outputs": [],
   "source": [
    "import math as mt"
   ]
  },
  {
   "cell_type": "code",
   "execution_count": 10,
   "id": "1dd2f1a4",
   "metadata": {},
   "outputs": [
    {
     "name": "stdout",
     "output_type": "stream",
     "text": [
      "0.023979335325952467\n"
     ]
    }
   ],
   "source": [
    "print(mt.cos(N))"
   ]
  },
  {
   "cell_type": "code",
   "execution_count": 11,
   "id": "a1513341",
   "metadata": {},
   "outputs": [
    {
     "name": "stdout",
     "output_type": "stream",
     "text": [
      "0.999712454397426\n"
     ]
    }
   ],
   "source": [
    "print(mt.sin(N))"
   ]
  },
  {
   "cell_type": "code",
   "execution_count": 12,
   "id": "c4a39716",
   "metadata": {},
   "outputs": [],
   "source": [
    "import numpy as np"
   ]
  },
  {
   "cell_type": "code",
   "execution_count": 13,
   "id": "7a98fe66",
   "metadata": {},
   "outputs": [
    {
     "name": "stdout",
     "output_type": "stream",
     "text": [
      "[5 6 7 8]\n"
     ]
    },
    {
     "data": {
      "text/plain": [
       "numpy.ndarray"
      ]
     },
     "execution_count": 13,
     "metadata": {},
     "output_type": "execute_result"
    }
   ],
   "source": [
    "arr1 = np.array([5,6,7,8])\n",
    "print(arr1)\n",
    "type(arr1)"
   ]
  },
  {
   "cell_type": "code",
   "execution_count": 14,
   "id": "5e78e8c9",
   "metadata": {},
   "outputs": [
    {
     "name": "stdout",
     "output_type": "stream",
     "text": [
      "59\n"
     ]
    },
    {
     "data": {
      "text/plain": [
       "numpy.ndarray"
      ]
     },
     "execution_count": 14,
     "metadata": {},
     "output_type": "execute_result"
    }
   ],
   "source": [
    "#creating a 0-dimentional array\n",
    "arr2 = np.array(59)\n",
    "print(arr2)\n",
    "type(arr2)"
   ]
  },
  {
   "cell_type": "code",
   "execution_count": 16,
   "id": "0677c3d7",
   "metadata": {},
   "outputs": [
    {
     "name": "stdout",
     "output_type": "stream",
     "text": [
      "[[ 5  6  7  8]\n",
      " [ 9 10 11 12]]\n"
     ]
    },
    {
     "data": {
      "text/plain": [
       "numpy.ndarray"
      ]
     },
     "execution_count": 16,
     "metadata": {},
     "output_type": "execute_result"
    }
   ],
   "source": [
    "arr3 =  np.array([[5,6,7,8],[9,10,11,12]])\n",
    "print(arr3)\n",
    "type(arr3)"
   ]
  },
  {
   "cell_type": "code",
   "execution_count": 18,
   "id": "3f5330c0",
   "metadata": {},
   "outputs": [
    {
     "name": "stdout",
     "output_type": "stream",
     "text": [
      "[[[ 1  2  3  4]\n",
      "  [ 5  6  7  8]]\n",
      "\n",
      " [[ 9 10 11 12]\n",
      "  [13 14 15 16]]]\n"
     ]
    },
    {
     "data": {
      "text/plain": [
       "numpy.ndarray"
      ]
     },
     "execution_count": 18,
     "metadata": {},
     "output_type": "execute_result"
    }
   ],
   "source": [
    "#3D dimensional array\n",
    "arr4 =np.array([[[1,2,3,4],[5,6,7,8]],[[9,10,11,12],[13,14,15,16]]])\n",
    "print(arr4)\n",
    "type(arr4)"
   ]
  },
  {
   "cell_type": "code",
   "execution_count": 19,
   "id": "934b79b1",
   "metadata": {},
   "outputs": [
    {
     "data": {
      "text/plain": [
       "3"
      ]
     },
     "execution_count": 19,
     "metadata": {},
     "output_type": "execute_result"
    }
   ],
   "source": [
    "#checking the number of dimensions\n",
    "arr4.ndim"
   ]
  },
  {
   "cell_type": "code",
   "execution_count": 21,
   "id": "3fd0ee22",
   "metadata": {},
   "outputs": [
    {
     "data": {
      "text/plain": [
       "(2, 2, 4)"
      ]
     },
     "execution_count": 21,
     "metadata": {},
     "output_type": "execute_result"
    }
   ],
   "source": [
    "#finding the number of rows and columns\n",
    "arr4.shape          #first component = no of arrays 2nd component=-no of rows 3rd component=no of columns"
   ]
  },
  {
   "cell_type": "markdown",
   "id": "c4b6d2f3",
   "metadata": {},
   "source": [
    "### Broadcasting--1-many and 1-1 mapping is only possible."
   ]
  },
  {
   "cell_type": "code",
   "execution_count": 22,
   "id": "8f5df3a1",
   "metadata": {
    "scrolled": true
   },
   "outputs": [
    {
     "name": "stdout",
     "output_type": "stream",
     "text": [
      "[[10 20 30]\n",
      " [40 50 60]]\n"
     ]
    }
   ],
   "source": [
    "arr5 = np.array([[10,20,30],[40,50,60]])\n",
    "print(arr5)"
   ]
  },
  {
   "cell_type": "code",
   "execution_count": 32,
   "id": "426e1abe",
   "metadata": {},
   "outputs": [
    {
     "data": {
      "text/plain": [
       "(2, 3)"
      ]
     },
     "execution_count": 32,
     "metadata": {},
     "output_type": "execute_result"
    }
   ],
   "source": [
    "arr5.shape"
   ]
  },
  {
   "cell_type": "code",
   "execution_count": 33,
   "id": "62a10faa",
   "metadata": {},
   "outputs": [
    {
     "data": {
      "text/plain": [
       "6"
      ]
     },
     "execution_count": 33,
     "metadata": {},
     "output_type": "execute_result"
    }
   ],
   "source": [
    "arr5.size"
   ]
  },
  {
   "cell_type": "code",
   "execution_count": 23,
   "id": "7b4ea195",
   "metadata": {},
   "outputs": [],
   "source": [
    "value = 10"
   ]
  },
  {
   "cell_type": "code",
   "execution_count": 24,
   "id": "cde356c8",
   "metadata": {},
   "outputs": [
    {
     "name": "stdout",
     "output_type": "stream",
     "text": [
      "[[20 30 40]\n",
      " [50 60 70]]\n"
     ]
    }
   ],
   "source": [
    "arr6 = arr5+value\n",
    "print(arr6)"
   ]
  },
  {
   "cell_type": "markdown",
   "id": "bb515f92",
   "metadata": {},
   "source": [
    "### Reshaping means changing the shape of an array. The shape of an array is determined by the number of elements in each dimension. reshaping allows us to add or remove dimensions of an array"
   ]
  },
  {
   "cell_type": "code",
   "execution_count": 25,
   "id": "7e9691e8",
   "metadata": {},
   "outputs": [
    {
     "data": {
      "text/plain": [
       "array([[[ 6,  7,  8,  9],\n",
       "        [10, 11, 12, 13]],\n",
       "\n",
       "       [[14, 15, 16, 17],\n",
       "        [18, 19, 20, 21]]])"
      ]
     },
     "execution_count": 25,
     "metadata": {},
     "output_type": "execute_result"
    }
   ],
   "source": [
    "# creating a 3D array\n",
    "arr7 = np.array([[[6,7,8,9],[10,11,12,13]],[[14,15,16,17],[18,19,20,21]]])\n",
    "arr7"
   ]
  },
  {
   "cell_type": "code",
   "execution_count": 26,
   "id": "e22dd57f",
   "metadata": {},
   "outputs": [
    {
     "data": {
      "text/plain": [
       "(2, 2, 4)"
      ]
     },
     "execution_count": 26,
     "metadata": {},
     "output_type": "execute_result"
    }
   ],
   "source": [
    "arr7.shape"
   ]
  },
  {
   "cell_type": "code",
   "execution_count": 27,
   "id": "73a88985",
   "metadata": {},
   "outputs": [
    {
     "data": {
      "text/plain": [
       "3"
      ]
     },
     "execution_count": 27,
     "metadata": {},
     "output_type": "execute_result"
    }
   ],
   "source": [
    "arr7.ndim"
   ]
  },
  {
   "cell_type": "code",
   "execution_count": 30,
   "id": "a8b3abaf",
   "metadata": {},
   "outputs": [
    {
     "data": {
      "text/plain": [
       "array([[ 6,  7,  8,  9, 10, 11, 12, 13],\n",
       "       [14, 15, 16, 17, 18, 19, 20, 21]])"
      ]
     },
     "execution_count": 30,
     "metadata": {},
     "output_type": "execute_result"
    }
   ],
   "source": [
    "arr7_new = arr7.reshape(2,8)\n",
    "arr7_new"
   ]
  },
  {
   "cell_type": "code",
   "execution_count": 31,
   "id": "3861ee18",
   "metadata": {},
   "outputs": [
    {
     "data": {
      "text/plain": [
       "16"
      ]
     },
     "execution_count": 31,
     "metadata": {},
     "output_type": "execute_result"
    }
   ],
   "source": [
    "arr7.size"
   ]
  },
  {
   "cell_type": "code",
   "execution_count": 36,
   "id": "9f5928b7",
   "metadata": {},
   "outputs": [],
   "source": [
    "arr7_new1 = arr7.reshape(4,4)"
   ]
  },
  {
   "cell_type": "code",
   "execution_count": 37,
   "id": "8cd4d429",
   "metadata": {},
   "outputs": [
    {
     "data": {
      "text/plain": [
       "array([[ 6,  7,  8,  9],\n",
       "       [10, 11, 12, 13],\n",
       "       [14, 15, 16, 17],\n",
       "       [18, 19, 20, 21]])"
      ]
     },
     "execution_count": 37,
     "metadata": {},
     "output_type": "execute_result"
    }
   ],
   "source": [
    "arr7_new1"
   ]
  },
  {
   "cell_type": "code",
   "execution_count": 38,
   "id": "3d42779d",
   "metadata": {},
   "outputs": [
    {
     "data": {
      "text/plain": [
       "array([[[ 6,  7],\n",
       "        [ 8,  9],\n",
       "        [10, 11],\n",
       "        [12, 13]],\n",
       "\n",
       "       [[14, 15],\n",
       "        [16, 17],\n",
       "        [18, 19],\n",
       "        [20, 21]]])"
      ]
     },
     "execution_count": 38,
     "metadata": {},
     "output_type": "execute_result"
    }
   ],
   "source": [
    "###converting arr7 to 3D\n",
    "arr7_new2 = arr7.reshape(2,4,2)\n",
    "arr7_new2"
   ]
  },
  {
   "cell_type": "markdown",
   "id": "d97db0fd",
   "metadata": {},
   "source": [
    "### Concatenation-: means joining.This function is used to join two or more arrays of the same shape along a specific axis"
   ]
  },
  {
   "cell_type": "code",
   "execution_count": 39,
   "id": "2a68aec7",
   "metadata": {},
   "outputs": [
    {
     "name": "stdout",
     "output_type": "stream",
     "text": [
      "[[ 5  8 10]\n",
      " [ 6  3  2]]\n"
     ]
    }
   ],
   "source": [
    "arr8 = np.array([[5,8,10],[6,3,2]])\n",
    "print(arr8)"
   ]
  },
  {
   "cell_type": "code",
   "execution_count": 40,
   "id": "5b14904a",
   "metadata": {},
   "outputs": [
    {
     "name": "stdout",
     "output_type": "stream",
     "text": [
      "[[ 10  30  50]\n",
      " [ 70  90 110]]\n"
     ]
    }
   ],
   "source": [
    "arr9 = np.array([[10,30,50],[70,90,110]])\n",
    "print(arr9)"
   ]
  },
  {
   "cell_type": "code",
   "execution_count": 43,
   "id": "0874f637",
   "metadata": {},
   "outputs": [
    {
     "name": "stdout",
     "output_type": "stream",
     "text": [
      "[[  5   8  10]\n",
      " [  6   3   2]\n",
      " [ 10  30  50]\n",
      " [ 70  90 110]]\n"
     ]
    }
   ],
   "source": [
    "print(np.concatenate((arr8,arr9)))"
   ]
  },
  {
   "cell_type": "code",
   "execution_count": 44,
   "id": "636f426e",
   "metadata": {},
   "outputs": [
    {
     "name": "stdout",
     "output_type": "stream",
     "text": [
      "[[  5   8  10  10  30  50]\n",
      " [  6   3   2  70  90 110]]\n"
     ]
    }
   ],
   "source": [
    "print(np.concatenate((arr8,arr9),axis=1))"
   ]
  },
  {
   "cell_type": "code",
   "execution_count": 45,
   "id": "68ce0d87",
   "metadata": {},
   "outputs": [],
   "source": [
    "### axis=0 means rows and axis = 1 means columns"
   ]
  },
  {
   "cell_type": "code",
   "execution_count": 47,
   "id": "b1262b18",
   "metadata": {},
   "outputs": [],
   "source": [
    "#np.concatenate?   - help on any function"
   ]
  },
  {
   "cell_type": "code",
   "execution_count": 49,
   "id": "0aed3d38",
   "metadata": {},
   "outputs": [
    {
     "name": "stdout",
     "output_type": "stream",
     "text": [
      "['HelloPython']\n"
     ]
    }
   ],
   "source": [
    "#string concatenation\n",
    "#d = 'Hello'\n",
    "#e = 'Python'\n",
    "print(np.char.add(['Hello'],['Python']))"
   ]
  },
  {
   "cell_type": "code",
   "execution_count": 51,
   "id": "0e142edd",
   "metadata": {},
   "outputs": [
    {
     "name": "stdout",
     "output_type": "stream",
     "text": [
      "Elementwise Concatenation:\n",
      "['Hello Python' 'Good Day']\n"
     ]
    }
   ],
   "source": [
    "print('Elementwise Concatenation:')\n",
    "print(np.char.add(['Hello','Good'],[' Python',' Day']))"
   ]
  },
  {
   "cell_type": "code",
   "execution_count": 52,
   "id": "47103fef",
   "metadata": {},
   "outputs": [
    {
     "name": "stdout",
     "output_type": "stream",
     "text": [
      "Today was a great session\n"
     ]
    }
   ],
   "source": [
    "print(np.char.replace('Today was a good session','good','great'))"
   ]
  },
  {
   "cell_type": "code",
   "execution_count": 53,
   "id": "c990b2d8",
   "metadata": {},
   "outputs": [
    {
     "name": "stdout",
     "output_type": "stream",
     "text": [
      "TODAY IS THE THIRD SESSION\n"
     ]
    }
   ],
   "source": [
    "#lowercase and uppercase functions \n",
    "text='Today is the Third session'\n",
    "out = np.char.upper(text)\n",
    "print(out)"
   ]
  },
  {
   "cell_type": "code",
   "execution_count": 54,
   "id": "29ea26f6",
   "metadata": {},
   "outputs": [
    {
     "name": "stdout",
     "output_type": "stream",
     "text": [
      "today is the third session\n"
     ]
    }
   ],
   "source": [
    "#lowercase and uppercase functions \n",
    "text='Today is the Third session'\n",
    "out1 = np.char.lower(text)\n",
    "print(out1)"
   ]
  },
  {
   "cell_type": "code",
   "execution_count": null,
   "id": "c6630d05",
   "metadata": {},
   "outputs": [],
   "source": []
  }
 ],
 "metadata": {
  "kernelspec": {
   "display_name": "Python 3",
   "language": "python",
   "name": "python3"
  },
  "language_info": {
   "codemirror_mode": {
    "name": "ipython",
    "version": 3
   },
   "file_extension": ".py",
   "mimetype": "text/x-python",
   "name": "python",
   "nbconvert_exporter": "python",
   "pygments_lexer": "ipython3",
   "version": "3.8.8"
  }
 },
 "nbformat": 4,
 "nbformat_minor": 5
}
