{
  "nbformat": 4,
  "nbformat_minor": 0,
  "metadata": {
    "colab": {
      "provenance": []
    },
    "kernelspec": {
      "name": "python3",
      "display_name": "Python 3"
    },
    "language_info": {
      "name": "python"
    }
  },
  "cells": [
    {
      "cell_type": "markdown",
      "source": [
        "## Create a Neural Network using Python"
      ],
      "metadata": {
        "id": "FxtcTgVnmA8h"
      }
    },
    {
      "cell_type": "markdown",
      "source": [
        "1. Architecture\n",
        "2. compile\n",
        "3. fit\n",
        "4. predict & evaluate"
      ],
      "metadata": {
        "id": "-2sFSjT91Vi4"
      }
    },
    {
      "cell_type": "code",
      "execution_count": null,
      "metadata": {
        "id": "nlQpllPyllCO"
      },
      "outputs": [],
      "source": [
        "import numpy\n",
        "from numpy import exp,array,random,dot"
      ]
    },
    {
      "cell_type": "code",
      "source": [
        "2*random.random((3,1))-1"
      ],
      "metadata": {
        "colab": {
          "base_uri": "https://localhost:8080/"
        },
        "id": "N5Mdz7jhoA1s",
        "outputId": "39847fbc-44ea-4869-dcbf-6ae1073490d1"
      },
      "execution_count": null,
      "outputs": [
        {
          "output_type": "execute_result",
          "data": {
            "text/plain": [
              "array([[ 0.35486645],\n",
              "       [-0.44459736],\n",
              "       [-0.16457653]])"
            ]
          },
          "metadata": {},
          "execution_count": 12
        }
      ]
    },
    {
      "cell_type": "markdown",
      "source": [
        "### Architecture- Single neuron , 3 input connections and one output , create a 3*1 matrix, to -1 to +1 "
      ],
      "metadata": {
        "id": "0Xx3pDsYnS7P"
      }
    },
    {
      "cell_type": "code",
      "source": [
        "[3,4,5].T\n",
        "3\n",
        "4\n",
        "5"
      ],
      "metadata": {
        "id": "227sAVVVsPOu"
      },
      "execution_count": null,
      "outputs": []
    },
    {
      "cell_type": "code",
      "source": [
        "class NeuralNetwork():\n",
        "  def __init__(self):\n",
        "    # seed the random number generator , so it generates the same numbers\n",
        "    random.seed(2)\n",
        "    self.weights=2*random.random((3,1))-1\n",
        "    \n",
        "  def sigmoid(self,x):\n",
        "    return 1/(1+exp(-x))\n",
        "\n",
        "  def sigmoid_derivative(self,x):\n",
        "    return x*(1-x)\n",
        "\n",
        "  def netinputop(self,inputs):\n",
        "    return self.sigmoid(dot(inputs,self.weights))\n",
        "\n",
        "  def train(self,training_inputs,training_outputs,number_iterations):\n",
        "    for iteration in range(number_iterations):\n",
        "      # pass the training data to neural network\n",
        "      output=self.netinputop(training_inputs)\n",
        "      # calculate the error\n",
        "      error=training_outputs-output\n",
        "\n",
        "      adjustment=dot(training_inputs.T,error*self.sigmoid_derivative(output))\n",
        "\n",
        "      # change the weight\n",
        "      self.weights+=adjustment"
      ],
      "metadata": {
        "id": "NF3oNL1xmnII"
      },
      "execution_count": null,
      "outputs": []
    },
    {
      "cell_type": "code",
      "source": [
        " find relationship input & output"
      ],
      "metadata": {
        "id": "HC_7EjXdyjLO"
      },
      "execution_count": null,
      "outputs": []
    },
    {
      "cell_type": "code",
      "source": [
        "if __name__==\"__main__\":\n",
        "  # create the object\n",
        "  neural_network=NeuralNetwork()\n",
        "\n",
        "  print('Random weights befor training')\n",
        "  print(neural_network.weights)\n",
        "\n",
        "  training_inputs=array([[0,0,1],[1,1,1],[1,0,1],[0,1,1]])\n",
        "  training_outputs=array([[0,1,1,0]]).T\n",
        "\n",
        "  neural_network.train(training_inputs,training_outputs,10000)\n",
        "\n",
        "  print('Random weights after training')\n",
        "  print(neural_network.weights)\n",
        "\n"
      ],
      "metadata": {
        "colab": {
          "base_uri": "https://localhost:8080/"
        },
        "id": "UO2_qfOPs9OA",
        "outputId": "b51da42b-473b-489e-9ab8-530c1f49d03e"
      },
      "execution_count": null,
      "outputs": [
        {
          "output_type": "stream",
          "name": "stdout",
          "text": [
            "Random weights befor training\n",
            "[[-0.1280102 ]\n",
            " [-0.94814754]\n",
            " [ 0.09932496]]\n",
            "Random weights after training\n",
            "[[ 9.67282529]\n",
            " [-0.20892653]\n",
            " [-4.62890667]]\n"
          ]
        }
      ]
    },
    {
      "cell_type": "code",
      "source": [
        "print('test data')\n",
        "print('The output is',neural_network.netinputop(array([1,0,0])))"
      ],
      "metadata": {
        "colab": {
          "base_uri": "https://localhost:8080/"
        },
        "id": "ftHLp1TIvPIr",
        "outputId": "a14d94ef-96e9-43eb-9062-6fe6757c27e4"
      },
      "execution_count": null,
      "outputs": [
        {
          "output_type": "stream",
          "name": "stdout",
          "text": [
            "test data\n",
            "The output is [0.99993703]\n"
          ]
        }
      ]
    },
    {
      "cell_type": "code",
      "source": [],
      "metadata": {
        "id": "5zns6INRyVKE"
      },
      "execution_count": null,
      "outputs": []
    }
  ]
}