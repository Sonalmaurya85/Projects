{
 "cells": [
  {
   "cell_type": "markdown",
   "metadata": {},
   "source": [
    "# Diabetes Prediction"
   ]
  },
  {
   "cell_type": "code",
   "execution_count": 1,
   "metadata": {},
   "outputs": [],
   "source": [
    "import pandas as pd\n",
    "from tensorflow.keras.models import Sequential\n",
    "from tensorflow.keras.layers import Dense, Dropout,Input\n",
    "from livelossplot import PlotLossesKerasTF"
   ]
  },
  {
   "cell_type": "code",
   "execution_count": 2,
   "metadata": {},
   "outputs": [],
   "source": [
    "df=pd.read_csv(\"diabetes.csv\")"
   ]
  },
  {
   "cell_type": "code",
   "execution_count": 3,
   "metadata": {},
   "outputs": [
    {
     "data": {
      "text/html": [
       "<div>\n",
       "<style scoped>\n",
       "    .dataframe tbody tr th:only-of-type {\n",
       "        vertical-align: middle;\n",
       "    }\n",
       "\n",
       "    .dataframe tbody tr th {\n",
       "        vertical-align: top;\n",
       "    }\n",
       "\n",
       "    .dataframe thead th {\n",
       "        text-align: right;\n",
       "    }\n",
       "</style>\n",
       "<table border=\"1\" class=\"dataframe\">\n",
       "  <thead>\n",
       "    <tr style=\"text-align: right;\">\n",
       "      <th></th>\n",
       "      <th>Pregnancies</th>\n",
       "      <th>Glucose</th>\n",
       "      <th>BloodPressure</th>\n",
       "      <th>SkinThickness</th>\n",
       "      <th>Insulin</th>\n",
       "      <th>BMI</th>\n",
       "      <th>DiabetesPedigreeFunction</th>\n",
       "      <th>Age</th>\n",
       "      <th>Outcome</th>\n",
       "    </tr>\n",
       "  </thead>\n",
       "  <tbody>\n",
       "    <tr>\n",
       "      <th>0</th>\n",
       "      <td>6</td>\n",
       "      <td>148</td>\n",
       "      <td>72</td>\n",
       "      <td>35</td>\n",
       "      <td>0</td>\n",
       "      <td>33.6</td>\n",
       "      <td>0.627</td>\n",
       "      <td>50</td>\n",
       "      <td>1</td>\n",
       "    </tr>\n",
       "    <tr>\n",
       "      <th>1</th>\n",
       "      <td>1</td>\n",
       "      <td>85</td>\n",
       "      <td>66</td>\n",
       "      <td>29</td>\n",
       "      <td>0</td>\n",
       "      <td>26.6</td>\n",
       "      <td>0.351</td>\n",
       "      <td>31</td>\n",
       "      <td>0</td>\n",
       "    </tr>\n",
       "    <tr>\n",
       "      <th>2</th>\n",
       "      <td>8</td>\n",
       "      <td>183</td>\n",
       "      <td>64</td>\n",
       "      <td>0</td>\n",
       "      <td>0</td>\n",
       "      <td>23.3</td>\n",
       "      <td>0.672</td>\n",
       "      <td>32</td>\n",
       "      <td>1</td>\n",
       "    </tr>\n",
       "    <tr>\n",
       "      <th>3</th>\n",
       "      <td>1</td>\n",
       "      <td>89</td>\n",
       "      <td>66</td>\n",
       "      <td>23</td>\n",
       "      <td>94</td>\n",
       "      <td>28.1</td>\n",
       "      <td>0.167</td>\n",
       "      <td>21</td>\n",
       "      <td>0</td>\n",
       "    </tr>\n",
       "    <tr>\n",
       "      <th>4</th>\n",
       "      <td>0</td>\n",
       "      <td>137</td>\n",
       "      <td>40</td>\n",
       "      <td>35</td>\n",
       "      <td>168</td>\n",
       "      <td>43.1</td>\n",
       "      <td>2.288</td>\n",
       "      <td>33</td>\n",
       "      <td>1</td>\n",
       "    </tr>\n",
       "  </tbody>\n",
       "</table>\n",
       "</div>"
      ],
      "text/plain": [
       "   Pregnancies  Glucose  BloodPressure  SkinThickness  Insulin   BMI  \\\n",
       "0            6      148             72             35        0  33.6   \n",
       "1            1       85             66             29        0  26.6   \n",
       "2            8      183             64              0        0  23.3   \n",
       "3            1       89             66             23       94  28.1   \n",
       "4            0      137             40             35      168  43.1   \n",
       "\n",
       "   DiabetesPedigreeFunction  Age  Outcome  \n",
       "0                     0.627   50        1  \n",
       "1                     0.351   31        0  \n",
       "2                     0.672   32        1  \n",
       "3                     0.167   21        0  \n",
       "4                     2.288   33        1  "
      ]
     },
     "execution_count": 3,
     "metadata": {},
     "output_type": "execute_result"
    }
   ],
   "source": [
    "df.head()"
   ]
  },
  {
   "cell_type": "code",
   "execution_count": 4,
   "metadata": {},
   "outputs": [
    {
     "data": {
      "text/plain": [
       "(768, 9)"
      ]
     },
     "execution_count": 4,
     "metadata": {},
     "output_type": "execute_result"
    }
   ],
   "source": [
    "df.shape"
   ]
  },
  {
   "cell_type": "code",
   "execution_count": 5,
   "metadata": {},
   "outputs": [
    {
     "data": {
      "text/plain": [
       "0    500\n",
       "1    268\n",
       "Name: Outcome, dtype: int64"
      ]
     },
     "execution_count": 5,
     "metadata": {},
     "output_type": "execute_result"
    }
   ],
   "source": [
    "df.Outcome.value_counts()"
   ]
  },
  {
   "cell_type": "markdown",
   "metadata": {},
   "source": [
    "#### Separate feature and outcome"
   ]
  },
  {
   "cell_type": "code",
   "execution_count": 6,
   "metadata": {},
   "outputs": [],
   "source": [
    "x=df.drop(columns=\"Outcome\")\n",
    "y=df.Outcome"
   ]
  },
  {
   "cell_type": "markdown",
   "metadata": {},
   "source": [
    "#### Split the data"
   ]
  },
  {
   "cell_type": "code",
   "execution_count": 7,
   "metadata": {},
   "outputs": [],
   "source": [
    "from sklearn.model_selection import train_test_split\n",
    "x_train,x_test,y_train,y_test=train_test_split(x,y,test_size=0.2,random_state=0)"
   ]
  },
  {
   "cell_type": "code",
   "execution_count": 8,
   "metadata": {},
   "outputs": [
    {
     "name": "stdout",
     "output_type": "stream",
     "text": [
      "(614, 8)\n",
      "(154, 8)\n"
     ]
    }
   ],
   "source": [
    "print(x_train.shape)\n",
    "print(x_test.shape)"
   ]
  },
  {
   "cell_type": "markdown",
   "metadata": {},
   "source": [
    "#### Standardise the data"
   ]
  },
  {
   "cell_type": "code",
   "execution_count": 9,
   "metadata": {},
   "outputs": [],
   "source": [
    "from sklearn.preprocessing import StandardScaler\n",
    "st=StandardScaler()\n",
    "# st.fit(x_train)\n",
    "# st.fit(x_test)\n",
    "x_train_std=st.fit_transform(x_train)\n",
    "x_test_std=st.fit_transform(x_test)"
   ]
  },
  {
   "cell_type": "code",
   "execution_count": 10,
   "metadata": {},
   "outputs": [
    {
     "data": {
      "text/plain": [
       "array([[ 0.90832902,  0.91569367,  0.44912368, ...,  0.37852648,\n",
       "         0.67740401,  1.69955804],\n",
       "       [ 0.03644676, -0.75182191, -0.47230103, ..., -0.50667229,\n",
       "        -0.07049698, -0.96569189],\n",
       "       [-1.12606292,  1.38763205,  1.06340683, ...,  2.54094063,\n",
       "        -0.11855487, -0.88240283],\n",
       "       ...,\n",
       "       [ 0.03644676, -0.84620959, -0.21634972, ..., -0.94927168,\n",
       "        -0.95656442, -1.04898095],\n",
       "       [ 2.0708387 , -1.12937261,  0.24436264, ..., -0.26640405,\n",
       "        -0.50001442,  0.11706589],\n",
       "       [ 0.32707418,  0.47521786,  0.65388473, ..., -4.07275877,\n",
       "         0.52121586,  2.94889395]])"
      ]
     },
     "execution_count": 10,
     "metadata": {},
     "output_type": "execute_result"
    }
   ],
   "source": [
    "x_train_std"
   ]
  },
  {
   "cell_type": "markdown",
   "metadata": {},
   "source": [
    "#### Model Building"
   ]
  },
  {
   "cell_type": "code",
   "execution_count": 11,
   "metadata": {},
   "outputs": [],
   "source": [
    "model=Sequential()\n",
    "model.add(Input(shape=(8,),name=\"Input Layer\"))\n",
    "\n",
    "model.add(Dense(10,activation='relu',name=\"Hidden1\"))\n",
    "model.add(Dense(12,activation='relu',name=\"Hidden2\"))\n",
    "\n",
    "model.add(Dense(1,activation='sigmoid',name='OutputLayer'))\n",
    "\n",
    "model.compile(loss='binary_crossentropy',optimizer='adam',metrics=['accuracy'])\n"
   ]
  },
  {
   "cell_type": "code",
   "execution_count": 12,
   "metadata": {},
   "outputs": [
    {
     "name": "stdout",
     "output_type": "stream",
     "text": [
      "Model: \"sequential\"\n",
      "_________________________________________________________________\n",
      " Layer (type)                Output Shape              Param #   \n",
      "=================================================================\n",
      " Hidden1 (Dense)             (None, 10)                90        \n",
      "                                                                 \n",
      " Hidden2 (Dense)             (None, 12)                132       \n",
      "                                                                 \n",
      " OutputLayer (Dense)         (None, 1)                 13        \n",
      "                                                                 \n",
      "=================================================================\n",
      "Total params: 235\n",
      "Trainable params: 235\n",
      "Non-trainable params: 0\n",
      "_________________________________________________________________\n"
     ]
    }
   ],
   "source": [
    "model.summary()"
   ]
  },
  {
   "cell_type": "code",
   "execution_count": 13,
   "metadata": {},
   "outputs": [
    {
     "data": {
      "image/png": "[encoded data removed]",
      "text/plain": [
       "<Figure size 864x576 with 2 Axes>"
      ]
     },
     "metadata": {
      "needs_background": "light"
     },
     "output_type": "display_data"
    },
    {
     "name": "stdout",
     "output_type": "stream",
     "text": [
      "accuracy\n",
      "\ttraining         \t (min:    0.363, max:    0.806, cur:    0.798)\n",
      "\tvalidation       \t (min:    0.331, max:    0.792, cur:    0.779)\n",
      "Loss\n",
      "\ttraining         \t (min:    0.417, max:    0.818, cur:    0.417)\n",
      "\tvalidation       \t (min:    0.447, max:    0.793, cur:    0.480)\n",
      "20/20 [==============================] - 0s 23ms/step - loss: 0.4170 - accuracy: 0.7980 - val_loss: 0.4801 - val_accuracy: 0.7792\n"
     ]
    },
    {
     "data": {
      "text/plain": [
       "<keras.callbacks.History at 0x7efe2eabe810>"
      ]
     },
     "execution_count": 13,
     "metadata": {},
     "output_type": "execute_result"
    }
   ],
   "source": [
    "model.fit(x_train_std,y_train,epochs=100,batch_size=32, validation_data=(x_test_std,y_test),callbacks=[PlotLossesKerasTF()])"
   ]
  },
  {
   "cell_type": "code",
   "execution_count": 14,
   "metadata": {},
   "outputs": [],
   "source": [
    "from sklearn.metrics import classification_report"
   ]
  },
  {
   "cell_type": "code",
   "execution_count": 15,
   "metadata": {
    "tags": []
   },
   "outputs": [],
   "source": [
    "t= model.predict(x_test_std)"
   ]
  },
  {
   "cell_type": "code",
   "execution_count": 16,
   "metadata": {},
   "outputs": [
    {
     "data": {
      "text/plain": [
       "array([[9.74575400e-01],\n",
       "       [8.88932943e-02],\n",
       "       [5.72734177e-02],\n",
       "       [7.04624772e-01],\n",
       "       [1.26506209e-01],\n",
       "       [1.38253570e-02],\n",
       "       [8.69351864e-01],\n",
       "       [9.44236934e-01],\n",
       "       [3.41742694e-01],\n",
       "       [3.85298163e-01],\n",
       "       [7.03106761e-01],\n",
       "       [9.81887341e-01],\n",
       "       [2.90975273e-01],\n",
       "       [1.41966701e-01],\n",
       "       [2.63533473e-01],\n",
       "       [3.52645040e-01],\n",
       "       [9.31859970e-01],\n",
       "       [1.11225843e-02],\n",
       "       [3.04417312e-01],\n",
       "       [3.92597914e-01],\n",
       "       [8.56615305e-01],\n",
       "       [2.65705287e-01],\n",
       "       [2.92048573e-01],\n",
       "       [1.27320826e-01],\n",
       "       [4.51907516e-03],\n",
       "       [4.30745929e-01],\n",
       "       [2.77940929e-02],\n",
       "       [9.57452416e-01],\n",
       "       [6.91362917e-02],\n",
       "       [2.64778554e-01],\n",
       "       [4.55150068e-01],\n",
       "       [1.95555180e-01],\n",
       "       [6.22552037e-02],\n",
       "       [6.76218510e-01],\n",
       "       [4.31241989e-02],\n",
       "       [5.56527317e-01],\n",
       "       [2.94324458e-01],\n",
       "       [1.51876509e-02],\n",
       "       [4.47578967e-01],\n",
       "       [8.79633546e-01],\n",
       "       [2.38489717e-01],\n",
       "       [8.83611739e-02],\n",
       "       [1.97121888e-01],\n",
       "       [9.09718513e-01],\n",
       "       [8.90158057e-01],\n",
       "       [1.55618787e-03],\n",
       "       [2.12336779e-02],\n",
       "       [1.27007186e-01],\n",
       "       [5.00846446e-01],\n",
       "       [2.33432025e-01],\n",
       "       [4.20466959e-01],\n",
       "       [7.55705833e-02],\n",
       "       [9.27702606e-01],\n",
       "       [4.51784760e-01],\n",
       "       [6.61726892e-02],\n",
       "       [8.65578651e-04],\n",
       "       [8.65207911e-02],\n",
       "       [5.08997381e-01],\n",
       "       [1.38307929e-01],\n",
       "       [2.62899399e-02],\n",
       "       [7.78291821e-01],\n",
       "       [5.41581869e-01],\n",
       "       [2.86059976e-02],\n",
       "       [7.49057174e-01],\n",
       "       [8.09903264e-01],\n",
       "       [9.55651522e-01],\n",
       "       [3.96759301e-01],\n",
       "       [3.18805069e-01],\n",
       "       [2.81400025e-01],\n",
       "       [1.27723873e-01],\n",
       "       [4.25050855e-02],\n",
       "       [6.43729687e-01],\n",
       "       [1.39850080e-01],\n",
       "       [9.60383654e-01],\n",
       "       [8.78519833e-01],\n",
       "       [3.59282494e-01],\n",
       "       [8.85858834e-02],\n",
       "       [8.12260032e-01],\n",
       "       [1.30334407e-01],\n",
       "       [2.79246956e-01],\n",
       "       [2.55715191e-01],\n",
       "       [4.17918742e-01],\n",
       "       [2.02582806e-01],\n",
       "       [5.80030680e-03],\n",
       "       [2.52648681e-01],\n",
       "       [2.01547682e-01],\n",
       "       [2.01103270e-01],\n",
       "       [6.85423136e-01],\n",
       "       [9.43693161e-01],\n",
       "       [1.04160786e-01],\n",
       "       [1.89006001e-01],\n",
       "       [1.47440404e-01],\n",
       "       [1.16976529e-01],\n",
       "       [5.75703382e-03],\n",
       "       [7.20109642e-01],\n",
       "       [9.66963172e-02],\n",
       "       [4.80826527e-01],\n",
       "       [5.58868468e-01],\n",
       "       [7.07455218e-01],\n",
       "       [2.87663162e-01],\n",
       "       [1.18350625e-01],\n",
       "       [1.49984956e-02],\n",
       "       [1.94374770e-01],\n",
       "       [1.88152790e-02],\n",
       "       [7.41784692e-01],\n",
       "       [2.85610974e-01],\n",
       "       [2.94747353e-02],\n",
       "       [2.94467390e-01],\n",
       "       [3.32410336e-02],\n",
       "       [7.86301136e-01],\n",
       "       [5.62630594e-02],\n",
       "       [2.01054513e-01],\n",
       "       [4.37669545e-01],\n",
       "       [4.50439483e-01],\n",
       "       [3.44465911e-01],\n",
       "       [3.75842422e-01],\n",
       "       [5.81908226e-03],\n",
       "       [5.44573724e-01],\n",
       "       [4.84446883e-02],\n",
       "       [8.29902172e-01],\n",
       "       [4.56742227e-01],\n",
       "       [4.11565065e-01],\n",
       "       [3.03973079e-01],\n",
       "       [1.22849852e-01],\n",
       "       [7.41315186e-02],\n",
       "       [3.77521813e-02],\n",
       "       [2.88545460e-01],\n",
       "       [5.57515919e-01],\n",
       "       [5.05460858e-01],\n",
       "       [2.80431092e-01],\n",
       "       [4.69283611e-01],\n",
       "       [7.04476237e-03],\n",
       "       [5.03958762e-02],\n",
       "       [6.19595826e-01],\n",
       "       [4.93624419e-01],\n",
       "       [3.94275546e-01],\n",
       "       [1.47108853e-01],\n",
       "       [4.01988834e-01],\n",
       "       [7.72751570e-01],\n",
       "       [1.64655805e-01],\n",
       "       [5.07020950e-02],\n",
       "       [7.32080221e-01],\n",
       "       [2.39286721e-02],\n",
       "       [1.39480412e-01],\n",
       "       [2.86123097e-01],\n",
       "       [2.37282515e-02],\n",
       "       [8.22348893e-02],\n",
       "       [1.60330504e-01],\n",
       "       [1.27108306e-01],\n",
       "       [1.54137015e-01],\n",
       "       [6.99613690e-02],\n",
       "       [5.64376652e-01],\n",
       "       [3.25285792e-02],\n",
       "       [1.86162919e-01]], dtype=float32)"
      ]
     },
     "execution_count": 16,
     "metadata": {},
     "output_type": "execute_result"
    }
   ],
   "source": [
    "t"
   ]
  },
  {
   "cell_type": "code",
   "execution_count": 17,
   "metadata": {},
   "outputs": [
    {
     "name": "stdout",
     "output_type": "stream",
     "text": [
      "<class 'pandas.core.series.Series'>\n"
     ]
    }
   ],
   "source": [
    "print(type(y_test))"
   ]
  },
  {
   "cell_type": "code",
   "execution_count": 18,
   "metadata": {},
   "outputs": [
    {
     "name": "stdout",
     "output_type": "stream",
     "text": [
      "154\n"
     ]
    }
   ],
   "source": [
    "print(len(t))"
   ]
  },
  {
   "cell_type": "code",
   "execution_count": 20,
   "metadata": {},
   "outputs": [],
   "source": [
    "t1 = []\n",
    "for i in range(len(t)):\n",
    "    if t[i] >= 0.5:\n",
    "        t1.append(1)\n",
    "    else:\n",
    "        t1.append(0)"
   ]
  },
  {
   "cell_type": "code",
   "execution_count": 21,
   "metadata": {
    "tags": []
   },
   "outputs": [
    {
     "data": {
      "text/plain": [
       "[1,\n",
       " 0,\n",
       " 0,\n",
       " 1,\n",
       " 0,\n",
       " 0,\n",
       " 1,\n",
       " 1,\n",
       " 0,\n",
       " 0,\n",
       " 1,\n",
       " 1,\n",
       " 0,\n",
       " 0,\n",
       " 0,\n",
       " 0,\n",
       " 1,\n",
       " 0,\n",
       " 0,\n",
       " 0,\n",
       " 1,\n",
       " 0,\n",
       " 0,\n",
       " 0,\n",
       " 0,\n",
       " 0,\n",
       " 0,\n",
       " 1,\n",
       " 0,\n",
       " 0,\n",
       " 0,\n",
       " 0,\n",
       " 0,\n",
       " 1,\n",
       " 0,\n",
       " 1,\n",
       " 0,\n",
       " 0,\n",
       " 0,\n",
       " 1,\n",
       " 0,\n",
       " 0,\n",
       " 0,\n",
       " 1,\n",
       " 1,\n",
       " 0,\n",
       " 0,\n",
       " 0,\n",
       " 1,\n",
       " 0,\n",
       " 0,\n",
       " 0,\n",
       " 1,\n",
       " 0,\n",
       " 0,\n",
       " 0,\n",
       " 0,\n",
       " 1,\n",
       " 0,\n",
       " 0,\n",
       " 1,\n",
       " 1,\n",
       " 0,\n",
       " 1,\n",
       " 1,\n",
       " 1,\n",
       " 0,\n",
       " 0,\n",
       " 0,\n",
       " 0,\n",
       " 0,\n",
       " 1,\n",
       " 0,\n",
       " 1,\n",
       " 1,\n",
       " 0,\n",
       " 0,\n",
       " 1,\n",
       " 0,\n",
       " 0,\n",
       " 0,\n",
       " 0,\n",
       " 0,\n",
       " 0,\n",
       " 0,\n",
       " 0,\n",
       " 0,\n",
       " 1,\n",
       " 1,\n",
       " 0,\n",
       " 0,\n",
       " 0,\n",
       " 0,\n",
       " 0,\n",
       " 1,\n",
       " 0,\n",
       " 0,\n",
       " 1,\n",
       " 1,\n",
       " 0,\n",
       " 0,\n",
       " 0,\n",
       " 0,\n",
       " 0,\n",
       " 1,\n",
       " 0,\n",
       " 0,\n",
       " 0,\n",
       " 0,\n",
       " 1,\n",
       " 0,\n",
       " 0,\n",
       " 0,\n",
       " 0,\n",
       " 0,\n",
       " 0,\n",
       " 0,\n",
       " 1,\n",
       " 0,\n",
       " 1,\n",
       " 0,\n",
       " 0,\n",
       " 0,\n",
       " 0,\n",
       " 0,\n",
       " 0,\n",
       " 0,\n",
       " 1,\n",
       " 1,\n",
       " 0,\n",
       " 0,\n",
       " 0,\n",
       " 0,\n",
       " 1,\n",
       " 0,\n",
       " 0,\n",
       " 0,\n",
       " 0,\n",
       " 1,\n",
       " 0,\n",
       " 0,\n",
       " 1,\n",
       " 0,\n",
       " 0,\n",
       " 0,\n",
       " 0,\n",
       " 0,\n",
       " 0,\n",
       " 0,\n",
       " 0,\n",
       " 0,\n",
       " 1,\n",
       " 0,\n",
       " 0]"
      ]
     },
     "execution_count": 21,
     "metadata": {},
     "output_type": "execute_result"
    }
   ],
   "source": [
    "t1"
   ]
  },
  {
   "cell_type": "code",
   "execution_count": null,
   "metadata": {},
   "outputs": [],
   "source": [
    "new_pred = pd.Series(t1)  \n",
    "print(new_pred)"
   ]
  },
  {
   "cell_type": "code",
   "execution_count": null,
   "metadata": {},
   "outputs": [],
   "source": [
    "y_test"
   ]
  },
  {
   "cell_type": "code",
   "execution_count": null,
   "metadata": {},
   "outputs": [],
   "source": [
    "type(y_test)"
   ]
  },
  {
   "cell_type": "code",
   "execution_count": null,
   "metadata": {},
   "outputs": [],
   "source": [
    "print(classification_report(y_test,new_pred))"
   ]
  }
 ],
 "metadata": {
  "kernelspec": {
   "display_name": "Python 3",
   "language": "python",
   "name": "python3"
  },
  "language_info": {
   "codemirror_mode": {
    "name": "ipython",
    "version": 3
   },
   "file_extension": ".py",
   "mimetype": "text/x-python",
   "name": "python",
   "nbconvert_exporter": "python",
   "pygments_lexer": "ipython3",
   "version": "3.7.6"
  }
 },
 "nbformat": 4,
 "nbformat_minor": 4
}
