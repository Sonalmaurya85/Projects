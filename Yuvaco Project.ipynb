{
  "nbformat": 4,
  "nbformat_minor": 0,
  "metadata": {
    "colab": {
      "provenance": [],
      "authorship_tag": "ABX9TyNw0cVXvepB4Osi6tb3w52w",
      "include_colab_link": true
    },
    "kernelspec": {
      "name": "python3",
      "display_name": "Python 3"
    },
    "language_info": {
      "name": "python"
    }
  },
  "cells": [
    {
      "cell_type": "markdown",
      "metadata": {
        "id": "view-in-github",
        "colab_type": "text"
      },
      "source": [
        "<a href=\"https://colab.research.google.com/github/Sonalmaurya85/Projects/blob/main/Yuvaco%20Project.ipynb\" target=\"_parent\"><img src=\"https://colab.research.google.com/assets/colab-badge.svg\" alt=\"Open In Colab\"/></a>"
      ]
    },
    {
      "cell_type": "code",
      "source": [
        "# Importing pandas for data handling\n",
        "import pandas as pd"
      ],
      "metadata": {
        "id": "ikAN_x938Ahx"
      },
      "execution_count": 1,
      "outputs": []
    },
    {
      "cell_type": "code",
      "source": [
        "# Sample data\n",
        "data = {\n",
        "    'Package ID': [1, 2, 3, 4, 5],\n",
        "    'Weight (kg)': [3, 5, 2, 6, 4],\n",
        "    'Distance (km)': [10, 25, 5, 15, 30],\n",
        "    'Delivery Type': ['Express', 'Standard', 'Express', 'Standard', 'Express']\n",
        "}"
      ],
      "metadata": {
        "id": "N35gEk0Q8AlG"
      },
      "execution_count": 3,
      "outputs": []
    },
    {
      "cell_type": "code",
      "source": [
        "# Creating a DataFrame\n",
        "df = pd.DataFrame(data)"
      ],
      "metadata": {
        "id": "OJVXYtoe9yBr"
      },
      "execution_count": 7,
      "outputs": []
    },
    {
      "cell_type": "code",
      "source": [
        "# Cost grid\n",
        "cost_grid = {\n",
        "    'Express': {\n",
        "        'Base Cost': 10,\n",
        "        'Cost per kg': 2,\n",
        "        'Cost per km': 1,\n",
        "    },\n",
        "    'Standard': {\n",
        "        'Base Cost': 5,\n",
        "        'Cost per kg': 1.5,\n",
        "        'Cost per km': 0.5,\n",
        "    }\n",
        "}\n"
      ],
      "metadata": {
        "id": "ksQsxbes8An3"
      },
      "execution_count": 8,
      "outputs": []
    },
    {
      "cell_type": "code",
      "source": [
        "# Function to calculate cost for each row\n",
        "def calculate_cost(row):\n",
        "    delivery_type = row['Delivery Type']\n",
        "    base_cost = cost_grid[delivery_type]['Base Cost']\n",
        "    cost_per_kg = cost_grid[delivery_type]['Cost per kg']\n",
        "    cost_per_km = cost_grid[delivery_type]['Cost per km']\n",
        "    weight = row['Weight (kg)']\n",
        "    distance = row['Distance (km)']\n",
        "    total_cost = base_cost + (cost_per_kg * weight) + (cost_per_km * distance)\n",
        "    return total_cost"
      ],
      "metadata": {
        "id": "hbr_IE2C8AqU"
      },
      "execution_count": 9,
      "outputs": []
    },
    {
      "cell_type": "code",
      "source": [
        "# Applying the function to calculate cost for each package\n",
        "df['Cost'] = df.apply(calculate_cost, axis=1)"
      ],
      "metadata": {
        "id": "xziafG2T8AtT"
      },
      "execution_count": 10,
      "outputs": []
    },
    {
      "cell_type": "code",
      "source": [
        "# Outputting the DataFrame with calculated costs\n",
        "print(df)"
      ],
      "metadata": {
        "colab": {
          "base_uri": "https://localhost:8080/"
        },
        "id": "jBic8MYX8AvT",
        "outputId": "c617b5f8-04ed-4327-9ce7-fa0476e2ffcc"
      },
      "execution_count": 11,
      "outputs": [
        {
          "output_type": "stream",
          "name": "stdout",
          "text": [
            "   Package ID  Weight (kg)  Distance (km) Delivery Type  Cost\n",
            "0           1            3             10       Express  26.0\n",
            "1           2            5             25      Standard  25.0\n",
            "2           3            2              5       Express  19.0\n",
            "3           4            6             15      Standard  21.5\n",
            "4           5            4             30       Express  48.0\n"
          ]
        }
      ]
    },
    {
      "cell_type": "code",
      "source": [
        "# Saving the DataFrame to a CSV file\n",
        "df.to_csv('package_costs.csv', index=False)"
      ],
      "metadata": {
        "id": "v1Une3FB8AxM"
      },
      "execution_count": 12,
      "outputs": []
    },
    {
      "cell_type": "code",
      "source": [],
      "metadata": {
        "id": "HRHyBFLX8AzY"
      },
      "execution_count": null,
      "outputs": []
    },
    {
      "cell_type": "code",
      "source": [],
      "metadata": {
        "id": "Muvq50Hr8A2Q"
      },
      "execution_count": null,
      "outputs": []
    },
    {
      "cell_type": "code",
      "source": [],
      "metadata": {
        "id": "zl4inTJR8A5c"
      },
      "execution_count": null,
      "outputs": []
    },
    {
      "cell_type": "code",
      "source": [],
      "metadata": {
        "id": "tsZgBm768BBu"
      },
      "execution_count": null,
      "outputs": []
    },
    {
      "cell_type": "code",
      "source": [],
      "metadata": {
        "id": "BF-kOgqE8BFJ"
      },
      "execution_count": null,
      "outputs": []
    },
    {
      "cell_type": "code",
      "source": [],
      "metadata": {
        "id": "Stxtda_X8BLM"
      },
      "execution_count": null,
      "outputs": []
    },
    {
      "cell_type": "code",
      "source": [
        "# Importing pandas for data handling\n",
        "import pandas as pd\n",
        "\n",
        "# Sample data\n",
        "data = {\n",
        "    'Package ID': [1, 2, 3, 4, 5],\n",
        "    'Weight (kg)': [3, 5, 2, 6, 4],\n",
        "    'Distance (km)': [10, 25, 5, 15, 30],\n",
        "    'Delivery Type': ['Express', 'Standard', 'Express', 'Standard', 'Express']\n",
        "}\n",
        "\n",
        "# Creating a DataFrame\n",
        "df = pd.DataFrame(data)\n",
        "\n",
        "# Cost grid\n",
        "cost_grid = {\n",
        "    'Express': {\n",
        "        'Base Cost': 10,\n",
        "        'Cost per kg': 2,\n",
        "        'Cost per km': 1,\n",
        "    },\n",
        "    'Standard': {\n",
        "        'Base Cost': 5,\n",
        "        'Cost per kg': 1.5,\n",
        "        'Cost per km': 0.5,\n",
        "    }\n",
        "}\n",
        "\n",
        "# Function to calculate cost for each row\n",
        "def calculate_cost(row):\n",
        "    delivery_type = row['Delivery Type']\n",
        "    base_cost = cost_grid[delivery_type]['Base Cost']\n",
        "    cost_per_kg = cost_grid[delivery_type]['Cost per kg']\n",
        "    cost_per_km = cost_grid[delivery_type]['Cost per km']\n",
        "    weight = row['Weight (kg)']\n",
        "    distance = row['Distance (km)']\n",
        "    total_cost = base_cost + (cost_per_kg * weight) + (cost_per_km * distance)\n",
        "    return total_cost\n",
        "\n",
        "# Applying the function to calculate cost for each package\n",
        "df['Cost'] = df.apply(calculate_cost, axis=1)\n",
        "\n",
        "# Outputting the DataFrame with calculated costs\n",
        "print(df)\n",
        "\n",
        "# Saving the DataFrame to a CSV file\n",
        "df.to_csv('package_costs.csv', index=False)\n"
      ],
      "metadata": {
        "id": "0vFeaQLI8BN3"
      },
      "execution_count": null,
      "outputs": []
    }
  ]
}