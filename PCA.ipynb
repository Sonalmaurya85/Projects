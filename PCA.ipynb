{
 "cells": [
  {
   "cell_type": "code",
   "execution_count": 1,
   "metadata": {},
   "outputs": [],
   "source": [
    "from sklearn.datasets import load_digits"
   ]
  },
  {
   "cell_type": "code",
   "execution_count": 2,
   "metadata": {},
   "outputs": [],
   "source": [
    "import pandas as pd\n",
    "import numpy as np"
   ]
  },
  {
   "cell_type": "code",
   "execution_count": 3,
   "metadata": {},
   "outputs": [],
   "source": [
    "data = load_digits()"
   ]
  },
  {
   "cell_type": "code",
   "execution_count": 4,
   "metadata": {},
   "outputs": [
    {
     "name": "stdout",
     "output_type": "stream",
     "text": [
      ".. _digits_dataset:\n",
      "\n",
      "Optical recognition of handwritten digits dataset\n",
      "--------------------------------------------------\n",
      "\n",
      "**Data Set Characteristics:**\n",
      "\n",
      "    :Number of Instances: 1797\n",
      "    :Number of Attributes: 64\n",
      "    :Attribute Information: 8x8 image of integer pixels in the range 0..16.\n",
      "    :Missing Attribute Values: None\n",
      "    :Creator: E. Alpaydin (alpaydin '@' boun.edu.tr)\n",
      "    :Date: July; 1998\n",
      "\n",
      "This is a copy of the test set of the UCI ML hand-written digits datasets\n",
      "https://archive.ics.uci.edu/ml/datasets/Optical+Recognition+of+Handwritten+Digits\n",
      "\n",
      "The data set contains images of hand-written digits: 10 classes where\n",
      "each class refers to a digit.\n",
      "\n",
      "Preprocessing programs made available by NIST were used to extract\n",
      "normalized bitmaps of handwritten digits from a preprinted form. From a\n",
      "total of 43 people, 30 contributed to the training set and different 13\n",
      "to the test set. 32x32 bitmaps are divided into nonoverlapping blocks of\n",
      "4x4 and the number of on pixels are counted in each block. This generates\n",
      "an input matrix of 8x8 where each element is an integer in the range\n",
      "0..16. This reduces dimensionality and gives invariance to small\n",
      "distortions.\n",
      "\n",
      "For info on NIST preprocessing routines, see M. D. Garris, J. L. Blue, G.\n",
      "T. Candela, D. L. Dimmick, J. Geist, P. J. Grother, S. A. Janet, and C.\n",
      "L. Wilson, NIST Form-Based Handprint Recognition System, NISTIR 5469,\n",
      "1994.\n",
      "\n",
      ".. topic:: References\n",
      "\n",
      "  - C. Kaynak (1995) Methods of Combining Multiple Classifiers and Their\n",
      "    Applications to Handwritten Digit Recognition, MSc Thesis, Institute of\n",
      "    Graduate Studies in Science and Engineering, Bogazici University.\n",
      "  - E. Alpaydin, C. Kaynak (1998) Cascading Classifiers, Kybernetika.\n",
      "  - Ken Tang and Ponnuthurai N. Suganthan and Xi Yao and A. Kai Qin.\n",
      "    Linear dimensionalityreduction using relevance weighted LDA. School of\n",
      "    Electrical and Electronic Engineering Nanyang Technological University.\n",
      "    2005.\n",
      "  - Claudio Gentile. A New Approximate Maximal Margin Classification\n",
      "    Algorithm. NIPS. 2000.\n",
      "\n"
     ]
    }
   ],
   "source": [
    "print(data.DESCR)"
   ]
  },
  {
   "cell_type": "code",
   "execution_count": 5,
   "metadata": {},
   "outputs": [
    {
     "data": {
      "text/plain": [
       "((1797, 64), (1797,))"
      ]
     },
     "execution_count": 5,
     "metadata": {},
     "output_type": "execute_result"
    }
   ],
   "source": [
    "features = data.data\n",
    "target = data.target\n",
    "\n",
    "features.shape,target.shape"
   ]
  },
  {
   "cell_type": "code",
   "execution_count": 6,
   "metadata": {},
   "outputs": [],
   "source": [
    "from sklearn.model_selection import train_test_split"
   ]
  },
  {
   "cell_type": "code",
   "execution_count": 7,
   "metadata": {},
   "outputs": [
    {
     "name": "stdout",
     "output_type": "stream",
     "text": [
      "(1257, 64)\n",
      "(540, 64)\n",
      "(1257,)\n",
      "(540,)\n"
     ]
    }
   ],
   "source": [
    "X_train, X_test, y_train, y_test = train_test_split(features, target, train_size = 0.7, random_state = 3)\n",
    "print(X_train.shape)\n",
    "print(X_test.shape)\n",
    "print(y_train.shape)\n",
    "print(y_test.shape)"
   ]
  },
  {
   "cell_type": "code",
   "execution_count": 8,
   "metadata": {},
   "outputs": [],
   "source": [
    "from sklearn.linear_model import LogisticRegression"
   ]
  },
  {
   "cell_type": "code",
   "execution_count": 9,
   "metadata": {},
   "outputs": [],
   "source": [
    "my_model = LogisticRegression()"
   ]
  },
  {
   "cell_type": "code",
   "execution_count": 10,
   "metadata": {},
   "outputs": [
    {
     "name": "stderr",
     "output_type": "stream",
     "text": [
      "C:\\ProgramData\\Anaconda3\\lib\\site-packages\\sklearn\\linear_model\\_logistic.py:814: ConvergenceWarning: lbfgs failed to converge (status=1):\n",
      "STOP: TOTAL NO. of ITERATIONS REACHED LIMIT.\n",
      "\n",
      "Increase the number of iterations (max_iter) or scale the data as shown in:\n",
      "    https://scikit-learn.org/stable/modules/preprocessing.html\n",
      "Please also refer to the documentation for alternative solver options:\n",
      "    https://scikit-learn.org/stable/modules/linear_model.html#logistic-regression\n",
      "  n_iter_i = _check_optimize_result(\n"
     ]
    },
    {
     "data": {
      "text/plain": [
       "LogisticRegression()"
      ]
     },
     "execution_count": 10,
     "metadata": {},
     "output_type": "execute_result"
    }
   ],
   "source": [
    "my_model.fit(X_train,y_train)"
   ]
  },
  {
   "cell_type": "code",
   "execution_count": 11,
   "metadata": {},
   "outputs": [],
   "source": [
    "preds = my_model.predict(X_test)"
   ]
  },
  {
   "cell_type": "code",
   "execution_count": 12,
   "metadata": {},
   "outputs": [],
   "source": [
    "from sklearn.metrics import accuracy_score,confusion_matrix"
   ]
  },
  {
   "cell_type": "code",
   "execution_count": 13,
   "metadata": {},
   "outputs": [
    {
     "name": "stdout",
     "output_type": "stream",
     "text": [
      "0.9537037037037037\n"
     ]
    }
   ],
   "source": [
    "print(accuracy_score(y_test, preds))"
   ]
  },
  {
   "cell_type": "code",
   "execution_count": 14,
   "metadata": {},
   "outputs": [],
   "source": [
    "from sklearn.decomposition import PCA"
   ]
  },
  {
   "cell_type": "markdown",
   "metadata": {},
   "source": [
    "Initially I have 64 dimensions. Now I want to bring it down to 4 dimensions"
   ]
  },
  {
   "cell_type": "code",
   "execution_count": 15,
   "metadata": {},
   "outputs": [],
   "source": [
    "pca = PCA(n_components=15)"
   ]
  },
  {
   "cell_type": "code",
   "execution_count": 16,
   "metadata": {},
   "outputs": [
    {
     "data": {
      "text/plain": [
       "PCA(n_components=15)"
      ]
     },
     "execution_count": 16,
     "metadata": {},
     "output_type": "execute_result"
    }
   ],
   "source": [
    "pca.fit(X_train)\n"
   ]
  },
  {
   "cell_type": "code",
   "execution_count": 17,
   "metadata": {},
   "outputs": [],
   "source": [
    "pc = pca.explained_variance_ratio_"
   ]
  },
  {
   "cell_type": "code",
   "execution_count": 18,
   "metadata": {},
   "outputs": [
    {
     "data": {
      "text/plain": [
       "(15,)"
      ]
     },
     "execution_count": 18,
     "metadata": {},
     "output_type": "execute_result"
    }
   ],
   "source": [
    "pca.explained_variance_ratio_.shape"
   ]
  },
  {
   "cell_type": "code",
   "execution_count": 19,
   "metadata": {},
   "outputs": [
    {
     "data": {
      "text/plain": [
       "0.8354202103772543"
      ]
     },
     "execution_count": 19,
     "metadata": {},
     "output_type": "execute_result"
    }
   ],
   "source": [
    "np.sum(pca.explained_variance_ratio_)"
   ]
  },
  {
   "cell_type": "code",
   "execution_count": 20,
   "metadata": {},
   "outputs": [
    {
     "data": {
      "image/png": "[encoded data removed]",
      "text/plain": [
       "<Figure size 640x480 with 1 Axes>"
      ]
     },
     "metadata": {},
     "output_type": "display_data"
    }
   ],
   "source": [
    "import matplotlib.pyplot as plt\n",
    "import numpy as np\n",
    "\n",
    "PC_values = np.arange(pca.n_components) + 1\n",
    "plt.plot(PC_values, pc, 'o-', linewidth=2, color='blue')\n",
    "plt.title('Scree Plot')\n",
    "plt.xlabel('Principal Component')\n",
    "plt.ylabel('Variance Explained')\n",
    "plt.show()"
   ]
  },
  {
   "cell_type": "code",
   "execution_count": 21,
   "metadata": {},
   "outputs": [],
   "source": [
    "X_train_transformed = pca.transform(X_train)\n",
    "X_test_transformed = pca.transform(X_test)"
   ]
  },
  {
   "cell_type": "code",
   "execution_count": 22,
   "metadata": {},
   "outputs": [
    {
     "data": {
      "text/html": [
       "<div>\n",
       "<style scoped>\n",
       "    .dataframe tbody tr th:only-of-type {\n",
       "        vertical-align: middle;\n",
       "    }\n",
       "\n",
       "    .dataframe tbody tr th {\n",
       "        vertical-align: top;\n",
       "    }\n",
       "\n",
       "    .dataframe thead th {\n",
       "        text-align: right;\n",
       "    }\n",
       "</style>\n",
       "<table border=\"1\" class=\"dataframe\">\n",
       "  <thead>\n",
       "    <tr style=\"text-align: right;\">\n",
       "      <th></th>\n",
       "      <th>0</th>\n",
       "      <th>1</th>\n",
       "      <th>2</th>\n",
       "      <th>3</th>\n",
       "      <th>4</th>\n",
       "      <th>5</th>\n",
       "      <th>6</th>\n",
       "      <th>7</th>\n",
       "      <th>8</th>\n",
       "      <th>9</th>\n",
       "      <th>10</th>\n",
       "      <th>11</th>\n",
       "      <th>12</th>\n",
       "      <th>13</th>\n",
       "      <th>14</th>\n",
       "    </tr>\n",
       "  </thead>\n",
       "  <tbody>\n",
       "    <tr>\n",
       "      <th>0</th>\n",
       "      <td>9.726065</td>\n",
       "      <td>-20.028604</td>\n",
       "      <td>-8.971993</td>\n",
       "      <td>15.267968</td>\n",
       "      <td>-12.158092</td>\n",
       "      <td>9.906784</td>\n",
       "      <td>-6.458475</td>\n",
       "      <td>-1.642915</td>\n",
       "      <td>3.716303</td>\n",
       "      <td>-0.303245</td>\n",
       "      <td>-2.398790</td>\n",
       "      <td>-6.024666</td>\n",
       "      <td>4.889328</td>\n",
       "      <td>8.061696</td>\n",
       "      <td>4.395460</td>\n",
       "    </tr>\n",
       "    <tr>\n",
       "      <th>1</th>\n",
       "      <td>13.105492</td>\n",
       "      <td>10.510808</td>\n",
       "      <td>4.449354</td>\n",
       "      <td>-3.932217</td>\n",
       "      <td>-2.524440</td>\n",
       "      <td>-2.758948</td>\n",
       "      <td>-4.023797</td>\n",
       "      <td>3.617451</td>\n",
       "      <td>-2.116122</td>\n",
       "      <td>5.766622</td>\n",
       "      <td>-1.273228</td>\n",
       "      <td>0.768326</td>\n",
       "      <td>-10.201044</td>\n",
       "      <td>2.443190</td>\n",
       "      <td>5.911374</td>\n",
       "    </tr>\n",
       "    <tr>\n",
       "      <th>2</th>\n",
       "      <td>14.416908</td>\n",
       "      <td>-1.898829</td>\n",
       "      <td>4.294996</td>\n",
       "      <td>-4.639076</td>\n",
       "      <td>6.439363</td>\n",
       "      <td>2.611997</td>\n",
       "      <td>2.285793</td>\n",
       "      <td>0.710052</td>\n",
       "      <td>-7.601331</td>\n",
       "      <td>12.545534</td>\n",
       "      <td>-8.103152</td>\n",
       "      <td>6.555891</td>\n",
       "      <td>1.121644</td>\n",
       "      <td>-7.208840</td>\n",
       "      <td>4.116223</td>\n",
       "    </tr>\n",
       "    <tr>\n",
       "      <th>3</th>\n",
       "      <td>8.426678</td>\n",
       "      <td>11.048425</td>\n",
       "      <td>-21.957287</td>\n",
       "      <td>-23.193420</td>\n",
       "      <td>9.344958</td>\n",
       "      <td>-2.766547</td>\n",
       "      <td>0.972949</td>\n",
       "      <td>-7.840312</td>\n",
       "      <td>7.479583</td>\n",
       "      <td>-9.469065</td>\n",
       "      <td>-0.163924</td>\n",
       "      <td>8.058352</td>\n",
       "      <td>4.293685</td>\n",
       "      <td>11.194400</td>\n",
       "      <td>-0.574705</td>\n",
       "    </tr>\n",
       "    <tr>\n",
       "      <th>4</th>\n",
       "      <td>-26.159248</td>\n",
       "      <td>6.788478</td>\n",
       "      <td>13.470954</td>\n",
       "      <td>-6.396350</td>\n",
       "      <td>0.657040</td>\n",
       "      <td>0.888399</td>\n",
       "      <td>5.763575</td>\n",
       "      <td>-10.779989</td>\n",
       "      <td>1.919116</td>\n",
       "      <td>-5.429200</td>\n",
       "      <td>-5.527203</td>\n",
       "      <td>-0.246491</td>\n",
       "      <td>4.878835</td>\n",
       "      <td>4.111794</td>\n",
       "      <td>-10.296684</td>\n",
       "    </tr>\n",
       "    <tr>\n",
       "      <th>...</th>\n",
       "      <td>...</td>\n",
       "      <td>...</td>\n",
       "      <td>...</td>\n",
       "      <td>...</td>\n",
       "      <td>...</td>\n",
       "      <td>...</td>\n",
       "      <td>...</td>\n",
       "      <td>...</td>\n",
       "      <td>...</td>\n",
       "      <td>...</td>\n",
       "      <td>...</td>\n",
       "      <td>...</td>\n",
       "      <td>...</td>\n",
       "      <td>...</td>\n",
       "      <td>...</td>\n",
       "    </tr>\n",
       "    <tr>\n",
       "      <th>1252</th>\n",
       "      <td>-17.386324</td>\n",
       "      <td>15.677525</td>\n",
       "      <td>12.476833</td>\n",
       "      <td>4.139974</td>\n",
       "      <td>-8.727127</td>\n",
       "      <td>18.330117</td>\n",
       "      <td>-0.779632</td>\n",
       "      <td>-1.466886</td>\n",
       "      <td>2.543919</td>\n",
       "      <td>4.442333</td>\n",
       "      <td>0.644760</td>\n",
       "      <td>3.494270</td>\n",
       "      <td>-0.995301</td>\n",
       "      <td>1.064997</td>\n",
       "      <td>-0.464378</td>\n",
       "    </tr>\n",
       "    <tr>\n",
       "      <th>1253</th>\n",
       "      <td>2.586187</td>\n",
       "      <td>3.880502</td>\n",
       "      <td>18.151459</td>\n",
       "      <td>-12.412509</td>\n",
       "      <td>14.573550</td>\n",
       "      <td>3.672587</td>\n",
       "      <td>11.888366</td>\n",
       "      <td>-0.641937</td>\n",
       "      <td>0.485089</td>\n",
       "      <td>-2.727248</td>\n",
       "      <td>5.537776</td>\n",
       "      <td>-14.095100</td>\n",
       "      <td>-1.767287</td>\n",
       "      <td>3.198643</td>\n",
       "      <td>-2.059148</td>\n",
       "    </tr>\n",
       "    <tr>\n",
       "      <th>1254</th>\n",
       "      <td>1.468588</td>\n",
       "      <td>20.106344</td>\n",
       "      <td>-0.402106</td>\n",
       "      <td>9.499244</td>\n",
       "      <td>-7.903424</td>\n",
       "      <td>-11.963460</td>\n",
       "      <td>4.796032</td>\n",
       "      <td>3.801855</td>\n",
       "      <td>2.487012</td>\n",
       "      <td>-3.225869</td>\n",
       "      <td>-5.151416</td>\n",
       "      <td>0.791604</td>\n",
       "      <td>2.849918</td>\n",
       "      <td>-2.287399</td>\n",
       "      <td>1.906922</td>\n",
       "    </tr>\n",
       "    <tr>\n",
       "      <th>1255</th>\n",
       "      <td>20.107115</td>\n",
       "      <td>-9.330120</td>\n",
       "      <td>17.585439</td>\n",
       "      <td>2.061942</td>\n",
       "      <td>-14.173787</td>\n",
       "      <td>0.406146</td>\n",
       "      <td>-0.344005</td>\n",
       "      <td>-6.657496</td>\n",
       "      <td>-5.127438</td>\n",
       "      <td>-3.927779</td>\n",
       "      <td>5.139594</td>\n",
       "      <td>4.033682</td>\n",
       "      <td>5.344517</td>\n",
       "      <td>1.905764</td>\n",
       "      <td>-4.544713</td>\n",
       "    </tr>\n",
       "    <tr>\n",
       "      <th>1256</th>\n",
       "      <td>-12.893592</td>\n",
       "      <td>-10.900883</td>\n",
       "      <td>14.363935</td>\n",
       "      <td>-3.812106</td>\n",
       "      <td>7.972322</td>\n",
       "      <td>-13.196879</td>\n",
       "      <td>-2.028981</td>\n",
       "      <td>0.945129</td>\n",
       "      <td>4.189087</td>\n",
       "      <td>2.956220</td>\n",
       "      <td>-1.589635</td>\n",
       "      <td>-0.996532</td>\n",
       "      <td>3.272019</td>\n",
       "      <td>0.209974</td>\n",
       "      <td>3.580415</td>\n",
       "    </tr>\n",
       "  </tbody>\n",
       "</table>\n",
       "<p>1257 rows × 15 columns</p>\n",
       "</div>"
      ],
      "text/plain": [
       "             0          1          2          3          4          5   \\\n",
       "0      9.726065 -20.028604  -8.971993  15.267968 -12.158092   9.906784   \n",
       "1     13.105492  10.510808   4.449354  -3.932217  -2.524440  -2.758948   \n",
       "2     14.416908  -1.898829   4.294996  -4.639076   6.439363   2.611997   \n",
       "3      8.426678  11.048425 -21.957287 -23.193420   9.344958  -2.766547   \n",
       "4    -26.159248   6.788478  13.470954  -6.396350   0.657040   0.888399   \n",
       "...         ...        ...        ...        ...        ...        ...   \n",
       "1252 -17.386324  15.677525  12.476833   4.139974  -8.727127  18.330117   \n",
       "1253   2.586187   3.880502  18.151459 -12.412509  14.573550   3.672587   \n",
       "1254   1.468588  20.106344  -0.402106   9.499244  -7.903424 -11.963460   \n",
       "1255  20.107115  -9.330120  17.585439   2.061942 -14.173787   0.406146   \n",
       "1256 -12.893592 -10.900883  14.363935  -3.812106   7.972322 -13.196879   \n",
       "\n",
       "             6          7         8          9         10         11  \\\n",
       "0     -6.458475  -1.642915  3.716303  -0.303245 -2.398790  -6.024666   \n",
       "1     -4.023797   3.617451 -2.116122   5.766622 -1.273228   0.768326   \n",
       "2      2.285793   0.710052 -7.601331  12.545534 -8.103152   6.555891   \n",
       "3      0.972949  -7.840312  7.479583  -9.469065 -0.163924   8.058352   \n",
       "4      5.763575 -10.779989  1.919116  -5.429200 -5.527203  -0.246491   \n",
       "...         ...        ...       ...        ...       ...        ...   \n",
       "1252  -0.779632  -1.466886  2.543919   4.442333  0.644760   3.494270   \n",
       "1253  11.888366  -0.641937  0.485089  -2.727248  5.537776 -14.095100   \n",
       "1254   4.796032   3.801855  2.487012  -3.225869 -5.151416   0.791604   \n",
       "1255  -0.344005  -6.657496 -5.127438  -3.927779  5.139594   4.033682   \n",
       "1256  -2.028981   0.945129  4.189087   2.956220 -1.589635  -0.996532   \n",
       "\n",
       "             12         13         14  \n",
       "0      4.889328   8.061696   4.395460  \n",
       "1    -10.201044   2.443190   5.911374  \n",
       "2      1.121644  -7.208840   4.116223  \n",
       "3      4.293685  11.194400  -0.574705  \n",
       "4      4.878835   4.111794 -10.296684  \n",
       "...         ...        ...        ...  \n",
       "1252  -0.995301   1.064997  -0.464378  \n",
       "1253  -1.767287   3.198643  -2.059148  \n",
       "1254   2.849918  -2.287399   1.906922  \n",
       "1255   5.344517   1.905764  -4.544713  \n",
       "1256   3.272019   0.209974   3.580415  \n",
       "\n",
       "[1257 rows x 15 columns]"
      ]
     },
     "execution_count": 22,
     "metadata": {},
     "output_type": "execute_result"
    }
   ],
   "source": [
    "pd.DataFrame(X_train_transformed)"
   ]
  },
  {
   "cell_type": "code",
   "execution_count": 23,
   "metadata": {},
   "outputs": [
    {
     "data": {
      "text/plain": [
       "((1257, 15), (540, 15))"
      ]
     },
     "execution_count": 23,
     "metadata": {},
     "output_type": "execute_result"
    }
   ],
   "source": [
    "X_train_transformed.shape, X_test_transformed.shape"
   ]
  },
  {
   "cell_type": "code",
   "execution_count": null,
   "metadata": {},
   "outputs": [],
   "source": []
  },
  {
   "cell_type": "code",
   "execution_count": 24,
   "metadata": {},
   "outputs": [
    {
     "name": "stderr",
     "output_type": "stream",
     "text": [
      "C:\\ProgramData\\Anaconda3\\lib\\site-packages\\sklearn\\linear_model\\_logistic.py:814: ConvergenceWarning: lbfgs failed to converge (status=1):\n",
      "STOP: TOTAL NO. of ITERATIONS REACHED LIMIT.\n",
      "\n",
      "Increase the number of iterations (max_iter) or scale the data as shown in:\n",
      "    https://scikit-learn.org/stable/modules/preprocessing.html\n",
      "Please also refer to the documentation for alternative solver options:\n",
      "    https://scikit-learn.org/stable/modules/linear_model.html#logistic-regression\n",
      "  n_iter_i = _check_optimize_result(\n"
     ]
    },
    {
     "data": {
      "text/plain": [
       "LogisticRegression()"
      ]
     },
     "execution_count": 24,
     "metadata": {},
     "output_type": "execute_result"
    }
   ],
   "source": [
    "my_model.fit(X_train_transformed,y_train)"
   ]
  },
  {
   "cell_type": "code",
   "execution_count": 25,
   "metadata": {},
   "outputs": [],
   "source": [
    "preds = my_model.predict(X_test_transformed)"
   ]
  },
  {
   "cell_type": "code",
   "execution_count": 26,
   "metadata": {},
   "outputs": [
    {
     "name": "stdout",
     "output_type": "stream",
     "text": [
      "0.9518518518518518\n"
     ]
    }
   ],
   "source": [
    "print(accuracy_score(y_test, preds))"
   ]
  },
  {
   "cell_type": "code",
   "execution_count": null,
   "metadata": {},
   "outputs": [],
   "source": []
  }
 ],
 "metadata": {
  "kernelspec": {
   "display_name": "Python 3",
   "language": "python",
   "name": "python3"
  },
  "language_info": {
   "codemirror_mode": {
    "name": "ipython",
    "version": 3
   },
   "file_extension": ".py",
   "mimetype": "text/x-python",
   "name": "python",
   "nbconvert_exporter": "python",
   "pygments_lexer": "ipython3",
   "version": "3.7.6"
  }
 },
 "nbformat": 4,
 "nbformat_minor": 4
}
