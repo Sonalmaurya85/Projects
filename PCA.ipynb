{
 "cells": [
  {
   "cell_type": "code",
   "execution_count": 1,
   "metadata": {},
   "outputs": [],
   "source": [
    "from sklearn.datasets import load_digits\n",
    "import warnings\n",
    "warnings.filterwarnings('ignore')"
   ]
  },
  {
   "cell_type": "code",
   "execution_count": 2,
   "metadata": {},
   "outputs": [],
   "source": [
    "import pandas as pd\n",
    "import numpy as np\n",
    "\n"
   ]
  },
  {
   "cell_type": "code",
   "execution_count": 3,
   "metadata": {},
   "outputs": [],
   "source": [
    "data = load_digits()"
   ]
  },
  {
   "cell_type": "code",
   "execution_count": 4,
   "metadata": {},
   "outputs": [
    {
     "name": "stdout",
     "output_type": "stream",
     "text": [
      ".. _digits_dataset:\n",
      "\n",
      "Optical recognition of handwritten digits dataset\n",
      "--------------------------------------------------\n",
      "\n",
      "**Data Set Characteristics:**\n",
      "\n",
      "    :Number of Instances: 1797\n",
      "    :Number of Attributes: 64\n",
      "    :Attribute Information: 8x8 image of integer pixels in the range 0..16.\n",
      "    :Missing Attribute Values: None\n",
      "    :Creator: E. Alpaydin (alpaydin '@' boun.edu.tr)\n",
      "    :Date: July; 1998\n",
      "\n",
      "This is a copy of the test set of the UCI ML hand-written digits datasets\n",
      "https://archive.ics.uci.edu/ml/datasets/Optical+Recognition+of+Handwritten+Digits\n",
      "\n",
      "The data set contains images of hand-written digits: 10 classes where\n",
      "each class refers to a digit.\n",
      "\n",
      "Preprocessing programs made available by NIST were used to extract\n",
      "normalized bitmaps of handwritten digits from a preprinted form. From a\n",
      "total of 43 people, 30 contributed to the training set and different 13\n",
      "to the test set. 32x32 bitmaps are divided into nonoverlapping blocks of\n",
      "4x4 and the number of on pixels are counted in each block. This generates\n",
      "an input matrix of 8x8 where each element is an integer in the range\n",
      "0..16. This reduces dimensionality and gives invariance to small\n",
      "distortions.\n",
      "\n",
      "For info on NIST preprocessing routines, see M. D. Garris, J. L. Blue, G.\n",
      "T. Candela, D. L. Dimmick, J. Geist, P. J. Grother, S. A. Janet, and C.\n",
      "L. Wilson, NIST Form-Based Handprint Recognition System, NISTIR 5469,\n",
      "1994.\n",
      "\n",
      ".. topic:: References\n",
      "\n",
      "  - C. Kaynak (1995) Methods of Combining Multiple Classifiers and Their\n",
      "    Applications to Handwritten Digit Recognition, MSc Thesis, Institute of\n",
      "    Graduate Studies in Science and Engineering, Bogazici University.\n",
      "  - E. Alpaydin, C. Kaynak (1998) Cascading Classifiers, Kybernetika.\n",
      "  - Ken Tang and Ponnuthurai N. Suganthan and Xi Yao and A. Kai Qin.\n",
      "    Linear dimensionalityreduction using relevance weighted LDA. School of\n",
      "    Electrical and Electronic Engineering Nanyang Technological University.\n",
      "    2005.\n",
      "  - Claudio Gentile. A New Approximate Maximal Margin Classification\n",
      "    Algorithm. NIPS. 2000.\n",
      "\n"
     ]
    }
   ],
   "source": [
    "print(data.DESCR)"
   ]
  },
  {
   "cell_type": "code",
   "execution_count": 5,
   "metadata": {},
   "outputs": [
    {
     "data": {
      "text/plain": [
       "((1797, 64), (1797,))"
      ]
     },
     "execution_count": 5,
     "metadata": {},
     "output_type": "execute_result"
    }
   ],
   "source": [
    "features = data.data   #independent var\n",
    "target = data.target   # dep var\n",
    "\n",
    "features.shape,target.shape"
   ]
  },
  {
   "cell_type": "code",
   "execution_count": 6,
   "metadata": {},
   "outputs": [
    {
     "data": {
      "text/plain": [
       "array([[ 0.,  0.,  5., ...,  0.,  0.,  0.],\n",
       "       [ 0.,  0.,  0., ..., 10.,  0.,  0.],\n",
       "       [ 0.,  0.,  0., ..., 16.,  9.,  0.],\n",
       "       ...,\n",
       "       [ 0.,  0.,  1., ...,  6.,  0.,  0.],\n",
       "       [ 0.,  0.,  2., ..., 12.,  0.,  0.],\n",
       "       [ 0.,  0., 10., ..., 12.,  1.,  0.]])"
      ]
     },
     "execution_count": 6,
     "metadata": {},
     "output_type": "execute_result"
    }
   ],
   "source": [
    "features"
   ]
  },
  {
   "cell_type": "code",
   "execution_count": 7,
   "metadata": {},
   "outputs": [
    {
     "data": {
      "text/plain": [
       "pandas.core.frame.DataFrame"
      ]
     },
     "execution_count": 7,
     "metadata": {},
     "output_type": "execute_result"
    }
   ],
   "source": [
    "# type(features)\n",
    "# features.head()\n",
    "features1 = pd.DataFrame(features)\n",
    "type(features1)"
   ]
  },
  {
   "cell_type": "code",
   "execution_count": 8,
   "metadata": {},
   "outputs": [
    {
     "data": {
      "text/html": [
       "<div>\n",
       "<style scoped>\n",
       "    .dataframe tbody tr th:only-of-type {\n",
       "        vertical-align: middle;\n",
       "    }\n",
       "\n",
       "    .dataframe tbody tr th {\n",
       "        vertical-align: top;\n",
       "    }\n",
       "\n",
       "    .dataframe thead th {\n",
       "        text-align: right;\n",
       "    }\n",
       "</style>\n",
       "<table border=\"1\" class=\"dataframe\">\n",
       "  <thead>\n",
       "    <tr style=\"text-align: right;\">\n",
       "      <th></th>\n",
       "      <th>0</th>\n",
       "      <th>1</th>\n",
       "      <th>2</th>\n",
       "      <th>3</th>\n",
       "      <th>4</th>\n",
       "      <th>5</th>\n",
       "      <th>6</th>\n",
       "      <th>7</th>\n",
       "      <th>8</th>\n",
       "      <th>9</th>\n",
       "      <th>...</th>\n",
       "      <th>54</th>\n",
       "      <th>55</th>\n",
       "      <th>56</th>\n",
       "      <th>57</th>\n",
       "      <th>58</th>\n",
       "      <th>59</th>\n",
       "      <th>60</th>\n",
       "      <th>61</th>\n",
       "      <th>62</th>\n",
       "      <th>63</th>\n",
       "    </tr>\n",
       "  </thead>\n",
       "  <tbody>\n",
       "    <tr>\n",
       "      <th>0</th>\n",
       "      <td>0.0</td>\n",
       "      <td>0.0</td>\n",
       "      <td>5.0</td>\n",
       "      <td>13.0</td>\n",
       "      <td>9.0</td>\n",
       "      <td>1.0</td>\n",
       "      <td>0.0</td>\n",
       "      <td>0.0</td>\n",
       "      <td>0.0</td>\n",
       "      <td>0.0</td>\n",
       "      <td>...</td>\n",
       "      <td>0.0</td>\n",
       "      <td>0.0</td>\n",
       "      <td>0.0</td>\n",
       "      <td>0.0</td>\n",
       "      <td>6.0</td>\n",
       "      <td>13.0</td>\n",
       "      <td>10.0</td>\n",
       "      <td>0.0</td>\n",
       "      <td>0.0</td>\n",
       "      <td>0.0</td>\n",
       "    </tr>\n",
       "    <tr>\n",
       "      <th>1</th>\n",
       "      <td>0.0</td>\n",
       "      <td>0.0</td>\n",
       "      <td>0.0</td>\n",
       "      <td>12.0</td>\n",
       "      <td>13.0</td>\n",
       "      <td>5.0</td>\n",
       "      <td>0.0</td>\n",
       "      <td>0.0</td>\n",
       "      <td>0.0</td>\n",
       "      <td>0.0</td>\n",
       "      <td>...</td>\n",
       "      <td>0.0</td>\n",
       "      <td>0.0</td>\n",
       "      <td>0.0</td>\n",
       "      <td>0.0</td>\n",
       "      <td>0.0</td>\n",
       "      <td>11.0</td>\n",
       "      <td>16.0</td>\n",
       "      <td>10.0</td>\n",
       "      <td>0.0</td>\n",
       "      <td>0.0</td>\n",
       "    </tr>\n",
       "    <tr>\n",
       "      <th>2</th>\n",
       "      <td>0.0</td>\n",
       "      <td>0.0</td>\n",
       "      <td>0.0</td>\n",
       "      <td>4.0</td>\n",
       "      <td>15.0</td>\n",
       "      <td>12.0</td>\n",
       "      <td>0.0</td>\n",
       "      <td>0.0</td>\n",
       "      <td>0.0</td>\n",
       "      <td>0.0</td>\n",
       "      <td>...</td>\n",
       "      <td>5.0</td>\n",
       "      <td>0.0</td>\n",
       "      <td>0.0</td>\n",
       "      <td>0.0</td>\n",
       "      <td>0.0</td>\n",
       "      <td>3.0</td>\n",
       "      <td>11.0</td>\n",
       "      <td>16.0</td>\n",
       "      <td>9.0</td>\n",
       "      <td>0.0</td>\n",
       "    </tr>\n",
       "    <tr>\n",
       "      <th>3</th>\n",
       "      <td>0.0</td>\n",
       "      <td>0.0</td>\n",
       "      <td>7.0</td>\n",
       "      <td>15.0</td>\n",
       "      <td>13.0</td>\n",
       "      <td>1.0</td>\n",
       "      <td>0.0</td>\n",
       "      <td>0.0</td>\n",
       "      <td>0.0</td>\n",
       "      <td>8.0</td>\n",
       "      <td>...</td>\n",
       "      <td>9.0</td>\n",
       "      <td>0.0</td>\n",
       "      <td>0.0</td>\n",
       "      <td>0.0</td>\n",
       "      <td>7.0</td>\n",
       "      <td>13.0</td>\n",
       "      <td>13.0</td>\n",
       "      <td>9.0</td>\n",
       "      <td>0.0</td>\n",
       "      <td>0.0</td>\n",
       "    </tr>\n",
       "    <tr>\n",
       "      <th>4</th>\n",
       "      <td>0.0</td>\n",
       "      <td>0.0</td>\n",
       "      <td>0.0</td>\n",
       "      <td>1.0</td>\n",
       "      <td>11.0</td>\n",
       "      <td>0.0</td>\n",
       "      <td>0.0</td>\n",
       "      <td>0.0</td>\n",
       "      <td>0.0</td>\n",
       "      <td>0.0</td>\n",
       "      <td>...</td>\n",
       "      <td>0.0</td>\n",
       "      <td>0.0</td>\n",
       "      <td>0.0</td>\n",
       "      <td>0.0</td>\n",
       "      <td>0.0</td>\n",
       "      <td>2.0</td>\n",
       "      <td>16.0</td>\n",
       "      <td>4.0</td>\n",
       "      <td>0.0</td>\n",
       "      <td>0.0</td>\n",
       "    </tr>\n",
       "  </tbody>\n",
       "</table>\n",
       "<p>5 rows × 64 columns</p>\n",
       "</div>"
      ],
      "text/plain": [
       "    0    1    2     3     4     5    6    7    8    9   ...   54   55   56  \\\n",
       "0  0.0  0.0  5.0  13.0   9.0   1.0  0.0  0.0  0.0  0.0  ...  0.0  0.0  0.0   \n",
       "1  0.0  0.0  0.0  12.0  13.0   5.0  0.0  0.0  0.0  0.0  ...  0.0  0.0  0.0   \n",
       "2  0.0  0.0  0.0   4.0  15.0  12.0  0.0  0.0  0.0  0.0  ...  5.0  0.0  0.0   \n",
       "3  0.0  0.0  7.0  15.0  13.0   1.0  0.0  0.0  0.0  8.0  ...  9.0  0.0  0.0   \n",
       "4  0.0  0.0  0.0   1.0  11.0   0.0  0.0  0.0  0.0  0.0  ...  0.0  0.0  0.0   \n",
       "\n",
       "    57   58    59    60    61   62   63  \n",
       "0  0.0  6.0  13.0  10.0   0.0  0.0  0.0  \n",
       "1  0.0  0.0  11.0  16.0  10.0  0.0  0.0  \n",
       "2  0.0  0.0   3.0  11.0  16.0  9.0  0.0  \n",
       "3  0.0  7.0  13.0  13.0   9.0  0.0  0.0  \n",
       "4  0.0  0.0   2.0  16.0   4.0  0.0  0.0  \n",
       "\n",
       "[5 rows x 64 columns]"
      ]
     },
     "execution_count": 8,
     "metadata": {},
     "output_type": "execute_result"
    }
   ],
   "source": [
    "features1.head()"
   ]
  },
  {
   "cell_type": "code",
   "execution_count": 9,
   "metadata": {},
   "outputs": [
    {
     "data": {
      "text/plain": [
       "array([0, 1, 2, ..., 8, 9, 8])"
      ]
     },
     "execution_count": 9,
     "metadata": {},
     "output_type": "execute_result"
    }
   ],
   "source": [
    "target"
   ]
  },
  {
   "cell_type": "code",
   "execution_count": 10,
   "metadata": {},
   "outputs": [
    {
     "data": {
      "text/plain": [
       "array([[ 0.,  0.,  5., ...,  0.,  0.,  0.],\n",
       "       [ 0.,  0.,  0., ..., 10.,  0.,  0.],\n",
       "       [ 0.,  0.,  0., ..., 16.,  9.,  0.],\n",
       "       ...,\n",
       "       [ 0.,  0.,  1., ...,  6.,  0.,  0.],\n",
       "       [ 0.,  0.,  2., ..., 12.,  0.,  0.],\n",
       "       [ 0.,  0., 10., ..., 12.,  1.,  0.]])"
      ]
     },
     "execution_count": 10,
     "metadata": {},
     "output_type": "execute_result"
    }
   ],
   "source": [
    "features"
   ]
  },
  {
   "cell_type": "code",
   "execution_count": 11,
   "metadata": {},
   "outputs": [],
   "source": [
    "from sklearn.model_selection import train_test_split"
   ]
  },
  {
   "cell_type": "code",
   "execution_count": 12,
   "metadata": {},
   "outputs": [
    {
     "name": "stdout",
     "output_type": "stream",
     "text": [
      "(1527, 64)\n",
      "(270, 64)\n",
      "(1527,)\n",
      "(270,)\n"
     ]
    }
   ],
   "source": [
    "X_train, X_test, y_train, y_test = train_test_split(features, target, train_size = 0.85, random_state = 3)\n",
    "print(X_train.shape)\n",
    "print(X_test.shape)\n",
    "print(y_train.shape)\n",
    "print(y_test.shape)"
   ]
  },
  {
   "cell_type": "code",
   "execution_count": 13,
   "metadata": {},
   "outputs": [],
   "source": [
    "from sklearn.linear_model import LogisticRegression"
   ]
  },
  {
   "cell_type": "code",
   "execution_count": 14,
   "metadata": {},
   "outputs": [],
   "source": [
    "my_model = LogisticRegression()"
   ]
  },
  {
   "cell_type": "code",
   "execution_count": 15,
   "metadata": {},
   "outputs": [
    {
     "data": {
      "text/plain": [
       "LogisticRegression()"
      ]
     },
     "execution_count": 15,
     "metadata": {},
     "output_type": "execute_result"
    }
   ],
   "source": [
    "my_model.fit(X_train,y_train)"
   ]
  },
  {
   "cell_type": "code",
   "execution_count": 16,
   "metadata": {},
   "outputs": [],
   "source": [
    "preds = my_model.predict(X_test)"
   ]
  },
  {
   "cell_type": "code",
   "execution_count": 17,
   "metadata": {},
   "outputs": [],
   "source": [
    "from sklearn.metrics import accuracy_score,confusion_matrix"
   ]
  },
  {
   "cell_type": "code",
   "execution_count": 18,
   "metadata": {},
   "outputs": [
    {
     "name": "stdout",
     "output_type": "stream",
     "text": [
      "0.9629629629629629\n"
     ]
    }
   ],
   "source": [
    "print(accuracy_score(y_test, preds))"
   ]
  },
  {
   "cell_type": "code",
   "execution_count": 19,
   "metadata": {},
   "outputs": [],
   "source": [
    "from sklearn.decomposition import PCA"
   ]
  },
  {
   "cell_type": "markdown",
   "metadata": {},
   "source": [
    "Initially I have 64 dimensions. Now I want to bring it down to 5 dimensions"
   ]
  },
  {
   "cell_type": "code",
   "execution_count": 20,
   "metadata": {},
   "outputs": [],
   "source": [
    "pca = PCA(n_components=18)"
   ]
  },
  {
   "cell_type": "code",
   "execution_count": 21,
   "metadata": {},
   "outputs": [
    {
     "data": {
      "text/plain": [
       "PCA(n_components=18)"
      ]
     },
     "execution_count": 21,
     "metadata": {},
     "output_type": "execute_result"
    }
   ],
   "source": [
    "pca.fit(X_train)\n"
   ]
  },
  {
   "cell_type": "code",
   "execution_count": 22,
   "metadata": {},
   "outputs": [
    {
     "data": {
      "text/plain": [
       "array([0.14966169, 0.13125052, 0.12005907, 0.08328038, 0.05787936,\n",
       "       0.04946346, 0.04429116, 0.03664287, 0.03302922, 0.03081248,\n",
       "       0.02409424, 0.023312  , 0.01848373, 0.01765478, 0.01454079,\n",
       "       0.01400058, 0.01345758, 0.01224751])"
      ]
     },
     "execution_count": 22,
     "metadata": {},
     "output_type": "execute_result"
    }
   ],
   "source": [
    "pc = pca.explained_variance_ratio_\n",
    "pc"
   ]
  },
  {
   "cell_type": "code",
   "execution_count": 23,
   "metadata": {},
   "outputs": [
    {
     "data": {
      "text/plain": [
       "(18,)"
      ]
     },
     "execution_count": 23,
     "metadata": {},
     "output_type": "execute_result"
    }
   ],
   "source": [
    "pca.explained_variance_ratio_.shape"
   ]
  },
  {
   "cell_type": "code",
   "execution_count": 24,
   "metadata": {},
   "outputs": [
    {
     "data": {
      "text/plain": [
       "0.8741614302286627"
      ]
     },
     "execution_count": 24,
     "metadata": {},
     "output_type": "execute_result"
    }
   ],
   "source": [
    "np.sum(pca.explained_variance_ratio_)"
   ]
  },
  {
   "cell_type": "code",
   "execution_count": 25,
   "metadata": {},
   "outputs": [
    {
     "data": {
      "image/png": "[encoded data removed]",
      "text/plain": [
       "<Figure size 432x288 with 1 Axes>"
      ]
     },
     "metadata": {
      "needs_background": "light"
     },
     "output_type": "display_data"
    }
   ],
   "source": [
    "import matplotlib.pyplot as plt\n",
    "import numpy as np\n",
    "\n",
    "PC_values = np.arange(pca.n_components) + 1\n",
    "plt.plot(PC_values, pc, 'o-', linewidth=2, color='blue')\n",
    "plt.title('Scree Plot')\n",
    "plt.xlabel('Principal Component')\n",
    "plt.ylabel('Variance Explained')\n",
    "plt.show()"
   ]
  },
  {
   "cell_type": "code",
   "execution_count": 26,
   "metadata": {},
   "outputs": [],
   "source": [
    "X_train_transformed = pca.transform(X_train)\n",
    "X_test_transformed = pca.transform(X_test)"
   ]
  },
  {
   "cell_type": "code",
   "execution_count": 27,
   "metadata": {},
   "outputs": [
    {
     "data": {
      "text/plain": [
       "numpy.ndarray"
      ]
     },
     "execution_count": 27,
     "metadata": {},
     "output_type": "execute_result"
    }
   ],
   "source": [
    "type(X_train_transformed)"
   ]
  },
  {
   "cell_type": "code",
   "execution_count": 28,
   "metadata": {},
   "outputs": [
    {
     "data": {
      "text/html": [
       "<div>\n",
       "<style scoped>\n",
       "    .dataframe tbody tr th:only-of-type {\n",
       "        vertical-align: middle;\n",
       "    }\n",
       "\n",
       "    .dataframe tbody tr th {\n",
       "        vertical-align: top;\n",
       "    }\n",
       "\n",
       "    .dataframe thead th {\n",
       "        text-align: right;\n",
       "    }\n",
       "</style>\n",
       "<table border=\"1\" class=\"dataframe\">\n",
       "  <thead>\n",
       "    <tr style=\"text-align: right;\">\n",
       "      <th></th>\n",
       "      <th>0</th>\n",
       "      <th>1</th>\n",
       "      <th>2</th>\n",
       "      <th>3</th>\n",
       "      <th>4</th>\n",
       "      <th>5</th>\n",
       "      <th>6</th>\n",
       "      <th>7</th>\n",
       "      <th>8</th>\n",
       "      <th>9</th>\n",
       "      <th>10</th>\n",
       "      <th>11</th>\n",
       "      <th>12</th>\n",
       "      <th>13</th>\n",
       "      <th>14</th>\n",
       "      <th>15</th>\n",
       "      <th>16</th>\n",
       "      <th>17</th>\n",
       "    </tr>\n",
       "  </thead>\n",
       "  <tbody>\n",
       "    <tr>\n",
       "      <th>0</th>\n",
       "      <td>11.743724</td>\n",
       "      <td>10.705070</td>\n",
       "      <td>16.440581</td>\n",
       "      <td>-7.781766</td>\n",
       "      <td>15.601317</td>\n",
       "      <td>6.228719</td>\n",
       "      <td>1.029267</td>\n",
       "      <td>7.055170</td>\n",
       "      <td>10.733450</td>\n",
       "      <td>2.095528</td>\n",
       "      <td>2.286008</td>\n",
       "      <td>0.991767</td>\n",
       "      <td>-0.802967</td>\n",
       "      <td>10.261372</td>\n",
       "      <td>-1.089429</td>\n",
       "      <td>4.613449</td>\n",
       "      <td>1.765093</td>\n",
       "      <td>-1.738982</td>\n",
       "    </tr>\n",
       "    <tr>\n",
       "      <th>1</th>\n",
       "      <td>-2.444627</td>\n",
       "      <td>-8.734771</td>\n",
       "      <td>-18.243829</td>\n",
       "      <td>-22.496507</td>\n",
       "      <td>5.400866</td>\n",
       "      <td>-7.516098</td>\n",
       "      <td>0.955369</td>\n",
       "      <td>-6.064827</td>\n",
       "      <td>2.629062</td>\n",
       "      <td>8.789871</td>\n",
       "      <td>-5.090971</td>\n",
       "      <td>-0.062083</td>\n",
       "      <td>6.803260</td>\n",
       "      <td>4.101572</td>\n",
       "      <td>-2.742987</td>\n",
       "      <td>-1.607437</td>\n",
       "      <td>-2.044854</td>\n",
       "      <td>3.933952</td>\n",
       "    </tr>\n",
       "    <tr>\n",
       "      <th>2</th>\n",
       "      <td>-16.202833</td>\n",
       "      <td>-11.204824</td>\n",
       "      <td>-19.252714</td>\n",
       "      <td>-6.203505</td>\n",
       "      <td>0.249747</td>\n",
       "      <td>-1.638650</td>\n",
       "      <td>-0.465330</td>\n",
       "      <td>1.650465</td>\n",
       "      <td>4.085164</td>\n",
       "      <td>2.214256</td>\n",
       "      <td>-4.441477</td>\n",
       "      <td>-9.944179</td>\n",
       "      <td>1.052066</td>\n",
       "      <td>-1.923872</td>\n",
       "      <td>-2.258617</td>\n",
       "      <td>2.159900</td>\n",
       "      <td>6.453908</td>\n",
       "      <td>-9.613660</td>\n",
       "    </tr>\n",
       "    <tr>\n",
       "      <th>3</th>\n",
       "      <td>1.671929</td>\n",
       "      <td>-15.950816</td>\n",
       "      <td>-14.534988</td>\n",
       "      <td>-20.202455</td>\n",
       "      <td>6.111189</td>\n",
       "      <td>-5.818300</td>\n",
       "      <td>3.905805</td>\n",
       "      <td>-10.898675</td>\n",
       "      <td>11.468337</td>\n",
       "      <td>-3.924990</td>\n",
       "      <td>-0.497282</td>\n",
       "      <td>-9.844896</td>\n",
       "      <td>2.459780</td>\n",
       "      <td>4.483965</td>\n",
       "      <td>-3.696481</td>\n",
       "      <td>-4.298918</td>\n",
       "      <td>-3.203349</td>\n",
       "      <td>0.349725</td>\n",
       "    </tr>\n",
       "    <tr>\n",
       "      <th>4</th>\n",
       "      <td>-8.355785</td>\n",
       "      <td>-11.831017</td>\n",
       "      <td>-9.986818</td>\n",
       "      <td>1.303046</td>\n",
       "      <td>-11.731424</td>\n",
       "      <td>2.117655</td>\n",
       "      <td>-5.489998</td>\n",
       "      <td>-1.926946</td>\n",
       "      <td>-6.927092</td>\n",
       "      <td>-7.717374</td>\n",
       "      <td>9.796550</td>\n",
       "      <td>4.287826</td>\n",
       "      <td>-1.003948</td>\n",
       "      <td>-6.192966</td>\n",
       "      <td>-3.236465</td>\n",
       "      <td>-0.289456</td>\n",
       "      <td>7.371344</td>\n",
       "      <td>-4.763512</td>\n",
       "    </tr>\n",
       "    <tr>\n",
       "      <th>...</th>\n",
       "      <td>...</td>\n",
       "      <td>...</td>\n",
       "      <td>...</td>\n",
       "      <td>...</td>\n",
       "      <td>...</td>\n",
       "      <td>...</td>\n",
       "      <td>...</td>\n",
       "      <td>...</td>\n",
       "      <td>...</td>\n",
       "      <td>...</td>\n",
       "      <td>...</td>\n",
       "      <td>...</td>\n",
       "      <td>...</td>\n",
       "      <td>...</td>\n",
       "      <td>...</td>\n",
       "      <td>...</td>\n",
       "      <td>...</td>\n",
       "      <td>...</td>\n",
       "    </tr>\n",
       "    <tr>\n",
       "      <th>1522</th>\n",
       "      <td>-15.659830</td>\n",
       "      <td>16.580736</td>\n",
       "      <td>12.806012</td>\n",
       "      <td>3.988225</td>\n",
       "      <td>-6.191601</td>\n",
       "      <td>19.773509</td>\n",
       "      <td>-2.108655</td>\n",
       "      <td>-2.053783</td>\n",
       "      <td>1.420830</td>\n",
       "      <td>4.877452</td>\n",
       "      <td>-1.124952</td>\n",
       "      <td>-3.180686</td>\n",
       "      <td>-0.332271</td>\n",
       "      <td>1.435066</td>\n",
       "      <td>0.009045</td>\n",
       "      <td>-2.582913</td>\n",
       "      <td>3.228960</td>\n",
       "      <td>-2.528278</td>\n",
       "    </tr>\n",
       "    <tr>\n",
       "      <th>1523</th>\n",
       "      <td>3.643821</td>\n",
       "      <td>3.049332</td>\n",
       "      <td>18.409334</td>\n",
       "      <td>-13.527723</td>\n",
       "      <td>14.389426</td>\n",
       "      <td>3.199476</td>\n",
       "      <td>10.501587</td>\n",
       "      <td>1.418987</td>\n",
       "      <td>-0.304988</td>\n",
       "      <td>-3.161967</td>\n",
       "      <td>11.968913</td>\n",
       "      <td>9.479302</td>\n",
       "      <td>-2.471794</td>\n",
       "      <td>2.037396</td>\n",
       "      <td>-3.242374</td>\n",
       "      <td>5.141098</td>\n",
       "      <td>2.318354</td>\n",
       "      <td>5.726019</td>\n",
       "    </tr>\n",
       "    <tr>\n",
       "      <th>1524</th>\n",
       "      <td>2.492973</td>\n",
       "      <td>20.700132</td>\n",
       "      <td>-0.005811</td>\n",
       "      <td>9.722296</td>\n",
       "      <td>-8.055101</td>\n",
       "      <td>-10.516121</td>\n",
       "      <td>5.994681</td>\n",
       "      <td>3.846715</td>\n",
       "      <td>2.930073</td>\n",
       "      <td>-2.241348</td>\n",
       "      <td>-5.048712</td>\n",
       "      <td>1.874085</td>\n",
       "      <td>2.488796</td>\n",
       "      <td>-2.312301</td>\n",
       "      <td>1.351581</td>\n",
       "      <td>3.584212</td>\n",
       "      <td>1.200728</td>\n",
       "      <td>-1.387834</td>\n",
       "    </tr>\n",
       "    <tr>\n",
       "      <th>1525</th>\n",
       "      <td>20.694814</td>\n",
       "      <td>-10.161331</td>\n",
       "      <td>16.196263</td>\n",
       "      <td>3.069078</td>\n",
       "      <td>-13.919827</td>\n",
       "      <td>2.203189</td>\n",
       "      <td>0.356260</td>\n",
       "      <td>-6.758974</td>\n",
       "      <td>-3.695857</td>\n",
       "      <td>-5.097452</td>\n",
       "      <td>1.948393</td>\n",
       "      <td>-6.631417</td>\n",
       "      <td>5.391596</td>\n",
       "      <td>1.445055</td>\n",
       "      <td>-3.836204</td>\n",
       "      <td>-7.770327</td>\n",
       "      <td>1.727090</td>\n",
       "      <td>-2.462128</td>\n",
       "    </tr>\n",
       "    <tr>\n",
       "      <th>1526</th>\n",
       "      <td>-12.966177</td>\n",
       "      <td>-10.464101</td>\n",
       "      <td>14.864104</td>\n",
       "      <td>-3.830373</td>\n",
       "      <td>5.571729</td>\n",
       "      <td>-13.672862</td>\n",
       "      <td>-1.387365</td>\n",
       "      <td>-0.007225</td>\n",
       "      <td>3.592971</td>\n",
       "      <td>3.187103</td>\n",
       "      <td>-0.496722</td>\n",
       "      <td>1.803665</td>\n",
       "      <td>3.100737</td>\n",
       "      <td>-0.202142</td>\n",
       "      <td>3.935721</td>\n",
       "      <td>0.000482</td>\n",
       "      <td>-2.692027</td>\n",
       "      <td>3.966806</td>\n",
       "    </tr>\n",
       "  </tbody>\n",
       "</table>\n",
       "<p>1527 rows × 18 columns</p>\n",
       "</div>"
      ],
      "text/plain": [
       "             0          1          2          3          4          5   \\\n",
       "0     11.743724  10.705070  16.440581  -7.781766  15.601317   6.228719   \n",
       "1     -2.444627  -8.734771 -18.243829 -22.496507   5.400866  -7.516098   \n",
       "2    -16.202833 -11.204824 -19.252714  -6.203505   0.249747  -1.638650   \n",
       "3      1.671929 -15.950816 -14.534988 -20.202455   6.111189  -5.818300   \n",
       "4     -8.355785 -11.831017  -9.986818   1.303046 -11.731424   2.117655   \n",
       "...         ...        ...        ...        ...        ...        ...   \n",
       "1522 -15.659830  16.580736  12.806012   3.988225  -6.191601  19.773509   \n",
       "1523   3.643821   3.049332  18.409334 -13.527723  14.389426   3.199476   \n",
       "1524   2.492973  20.700132  -0.005811   9.722296  -8.055101 -10.516121   \n",
       "1525  20.694814 -10.161331  16.196263   3.069078 -13.919827   2.203189   \n",
       "1526 -12.966177 -10.464101  14.864104  -3.830373   5.571729 -13.672862   \n",
       "\n",
       "             6          7          8         9          10        11  \\\n",
       "0      1.029267   7.055170  10.733450  2.095528   2.286008  0.991767   \n",
       "1      0.955369  -6.064827   2.629062  8.789871  -5.090971 -0.062083   \n",
       "2     -0.465330   1.650465   4.085164  2.214256  -4.441477 -9.944179   \n",
       "3      3.905805 -10.898675  11.468337 -3.924990  -0.497282 -9.844896   \n",
       "4     -5.489998  -1.926946  -6.927092 -7.717374   9.796550  4.287826   \n",
       "...         ...        ...        ...       ...        ...       ...   \n",
       "1522  -2.108655  -2.053783   1.420830  4.877452  -1.124952 -3.180686   \n",
       "1523  10.501587   1.418987  -0.304988 -3.161967  11.968913  9.479302   \n",
       "1524   5.994681   3.846715   2.930073 -2.241348  -5.048712  1.874085   \n",
       "1525   0.356260  -6.758974  -3.695857 -5.097452   1.948393 -6.631417   \n",
       "1526  -1.387365  -0.007225   3.592971  3.187103  -0.496722  1.803665   \n",
       "\n",
       "            12         13        14        15        16        17  \n",
       "0    -0.802967  10.261372 -1.089429  4.613449  1.765093 -1.738982  \n",
       "1     6.803260   4.101572 -2.742987 -1.607437 -2.044854  3.933952  \n",
       "2     1.052066  -1.923872 -2.258617  2.159900  6.453908 -9.613660  \n",
       "3     2.459780   4.483965 -3.696481 -4.298918 -3.203349  0.349725  \n",
       "4    -1.003948  -6.192966 -3.236465 -0.289456  7.371344 -4.763512  \n",
       "...        ...        ...       ...       ...       ...       ...  \n",
       "1522 -0.332271   1.435066  0.009045 -2.582913  3.228960 -2.528278  \n",
       "1523 -2.471794   2.037396 -3.242374  5.141098  2.318354  5.726019  \n",
       "1524  2.488796  -2.312301  1.351581  3.584212  1.200728 -1.387834  \n",
       "1525  5.391596   1.445055 -3.836204 -7.770327  1.727090 -2.462128  \n",
       "1526  3.100737  -0.202142  3.935721  0.000482 -2.692027  3.966806  \n",
       "\n",
       "[1527 rows x 18 columns]"
      ]
     },
     "execution_count": 28,
     "metadata": {},
     "output_type": "execute_result"
    }
   ],
   "source": [
    "pd.DataFrame(X_train_transformed)"
   ]
  },
  {
   "cell_type": "code",
   "execution_count": 29,
   "metadata": {},
   "outputs": [
    {
     "data": {
      "text/plain": [
       "((1527, 18), (270, 18))"
      ]
     },
     "execution_count": 29,
     "metadata": {},
     "output_type": "execute_result"
    }
   ],
   "source": [
    "X_train_transformed.shape, X_test_transformed.shape"
   ]
  },
  {
   "cell_type": "code",
   "execution_count": 30,
   "metadata": {},
   "outputs": [
    {
     "data": {
      "text/plain": [
       "LogisticRegression()"
      ]
     },
     "execution_count": 30,
     "metadata": {},
     "output_type": "execute_result"
    }
   ],
   "source": [
    "my_model.fit(X_train_transformed,y_train)"
   ]
  },
  {
   "cell_type": "code",
   "execution_count": 31,
   "metadata": {},
   "outputs": [],
   "source": [
    "preds = my_model.predict(X_test_transformed)"
   ]
  },
  {
   "cell_type": "code",
   "execution_count": 32,
   "metadata": {},
   "outputs": [
    {
     "name": "stdout",
     "output_type": "stream",
     "text": [
      "0.9555555555555556\n"
     ]
    }
   ],
   "source": [
    "print(accuracy_score(y_test, preds))"
   ]
  },
  {
   "cell_type": "code",
   "execution_count": 33,
   "metadata": {},
   "outputs": [
    {
     "name": "stdout",
     "output_type": "stream",
     "text": [
      "5: 14.444444444444443\n",
      "6: 17.40740740740741\n",
      "7: 17.40740740740741\n",
      "8: 16.296296296296298\n",
      "9: 11.851851851851853\n"
     ]
    }
   ],
   "source": [
    "for i in range(5,10):\n",
    "    pca = PCA(n_components=i)\n",
    "    X_train_transformed = pca.fit_transform(X_train)\n",
    "    X_test_transformed = pca.fit_transform(X_test)\n",
    "    my_model.fit(X_train_transformed,y_train)\n",
    "    preds = my_model.predict(X_test_transformed)  \n",
    "    print(f\"{i}: {accuracy_score(y_test, preds)*100}\")"
   ]
  },
  {
   "cell_type": "code",
   "execution_count": null,
   "metadata": {},
   "outputs": [],
   "source": []
  }
 ],
 "metadata": {
  "kernelspec": {
   "display_name": "Python 3",
   "language": "python",
   "name": "python3"
  },
  "language_info": {
   "codemirror_mode": {
    "name": "ipython",
    "version": 3
   },
   "file_extension": ".py",
   "mimetype": "text/x-python",
   "name": "python",
   "nbconvert_exporter": "python",
   "pygments_lexer": "ipython3",
   "version": "3.7.6"
  }
 },
 "nbformat": 4,
 "nbformat_minor": 4
}
